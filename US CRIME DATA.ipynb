{
 "cells": [
  {
   "cell_type": "code",
   "execution_count": 1,
   "id": "647216ed",
   "metadata": {},
   "outputs": [],
   "source": [
    "#importing libraries\n",
    "import pandas as pd\n",
    "import numpy as np\n",
    "import seaborn as sns\n",
    "import matplotlib.pyplot as plt\n",
    "%matplotlib inline\n",
    "sns.set(color_codes=True)"
   ]
  },
  {
   "cell_type": "code",
   "execution_count": 2,
   "id": "91306036",
   "metadata": {},
   "outputs": [
    {
     "data": {
      "text/html": [
       "<div>\n",
       "<style scoped>\n",
       "    .dataframe tbody tr th:only-of-type {\n",
       "        vertical-align: middle;\n",
       "    }\n",
       "\n",
       "    .dataframe tbody tr th {\n",
       "        vertical-align: top;\n",
       "    }\n",
       "\n",
       "    .dataframe thead th {\n",
       "        text-align: right;\n",
       "    }\n",
       "</style>\n",
       "<table border=\"1\" class=\"dataframe\">\n",
       "  <thead>\n",
       "    <tr style=\"text-align: right;\">\n",
       "      <th></th>\n",
       "      <th>DR_NO</th>\n",
       "      <th>Date Rptd</th>\n",
       "      <th>DATE OCC</th>\n",
       "      <th>TIME OCC</th>\n",
       "      <th>AREA</th>\n",
       "      <th>AREA NAME</th>\n",
       "      <th>Rpt Dist No</th>\n",
       "      <th>Part 1-2</th>\n",
       "      <th>Crm Cd</th>\n",
       "      <th>Crm Cd Desc</th>\n",
       "      <th>...</th>\n",
       "      <th>Status</th>\n",
       "      <th>Status Desc</th>\n",
       "      <th>Crm Cd 1</th>\n",
       "      <th>Crm Cd 2</th>\n",
       "      <th>Crm Cd 3</th>\n",
       "      <th>Crm Cd 4</th>\n",
       "      <th>LOCATION</th>\n",
       "      <th>Cross Street</th>\n",
       "      <th>LAT</th>\n",
       "      <th>LON</th>\n",
       "    </tr>\n",
       "  </thead>\n",
       "  <tbody>\n",
       "    <tr>\n",
       "      <th>0</th>\n",
       "      <td>190326475</td>\n",
       "      <td>03/01/2020 12:00:00 AM</td>\n",
       "      <td>03/01/2020 12:00:00 AM</td>\n",
       "      <td>2130</td>\n",
       "      <td>7</td>\n",
       "      <td>Wilshire</td>\n",
       "      <td>784</td>\n",
       "      <td>1</td>\n",
       "      <td>510</td>\n",
       "      <td>VEHICLE - STOLEN</td>\n",
       "      <td>...</td>\n",
       "      <td>AA</td>\n",
       "      <td>Adult Arrest</td>\n",
       "      <td>510.0</td>\n",
       "      <td>998.0</td>\n",
       "      <td>NaN</td>\n",
       "      <td>NaN</td>\n",
       "      <td>1900 S  LONGWOOD                     AV</td>\n",
       "      <td>NaN</td>\n",
       "      <td>34.0375</td>\n",
       "      <td>-118.3506</td>\n",
       "    </tr>\n",
       "    <tr>\n",
       "      <th>1</th>\n",
       "      <td>200106753</td>\n",
       "      <td>02/09/2020 12:00:00 AM</td>\n",
       "      <td>02/08/2020 12:00:00 AM</td>\n",
       "      <td>1800</td>\n",
       "      <td>1</td>\n",
       "      <td>Central</td>\n",
       "      <td>182</td>\n",
       "      <td>1</td>\n",
       "      <td>330</td>\n",
       "      <td>BURGLARY FROM VEHICLE</td>\n",
       "      <td>...</td>\n",
       "      <td>IC</td>\n",
       "      <td>Invest Cont</td>\n",
       "      <td>330.0</td>\n",
       "      <td>998.0</td>\n",
       "      <td>NaN</td>\n",
       "      <td>NaN</td>\n",
       "      <td>1000 S  FLOWER                       ST</td>\n",
       "      <td>NaN</td>\n",
       "      <td>34.0444</td>\n",
       "      <td>-118.2628</td>\n",
       "    </tr>\n",
       "    <tr>\n",
       "      <th>2</th>\n",
       "      <td>200320258</td>\n",
       "      <td>11/11/2020 12:00:00 AM</td>\n",
       "      <td>11/04/2020 12:00:00 AM</td>\n",
       "      <td>1700</td>\n",
       "      <td>3</td>\n",
       "      <td>Southwest</td>\n",
       "      <td>356</td>\n",
       "      <td>1</td>\n",
       "      <td>480</td>\n",
       "      <td>BIKE - STOLEN</td>\n",
       "      <td>...</td>\n",
       "      <td>IC</td>\n",
       "      <td>Invest Cont</td>\n",
       "      <td>480.0</td>\n",
       "      <td>NaN</td>\n",
       "      <td>NaN</td>\n",
       "      <td>NaN</td>\n",
       "      <td>1400 W  37TH                         ST</td>\n",
       "      <td>NaN</td>\n",
       "      <td>34.0210</td>\n",
       "      <td>-118.3002</td>\n",
       "    </tr>\n",
       "    <tr>\n",
       "      <th>3</th>\n",
       "      <td>200907217</td>\n",
       "      <td>05/10/2023 12:00:00 AM</td>\n",
       "      <td>03/10/2020 12:00:00 AM</td>\n",
       "      <td>2037</td>\n",
       "      <td>9</td>\n",
       "      <td>Van Nuys</td>\n",
       "      <td>964</td>\n",
       "      <td>1</td>\n",
       "      <td>343</td>\n",
       "      <td>SHOPLIFTING-GRAND THEFT ($950.01 &amp; OVER)</td>\n",
       "      <td>...</td>\n",
       "      <td>IC</td>\n",
       "      <td>Invest Cont</td>\n",
       "      <td>343.0</td>\n",
       "      <td>NaN</td>\n",
       "      <td>NaN</td>\n",
       "      <td>NaN</td>\n",
       "      <td>14000    RIVERSIDE                    DR</td>\n",
       "      <td>NaN</td>\n",
       "      <td>34.1576</td>\n",
       "      <td>-118.4387</td>\n",
       "    </tr>\n",
       "    <tr>\n",
       "      <th>4</th>\n",
       "      <td>220614831</td>\n",
       "      <td>08/18/2022 12:00:00 AM</td>\n",
       "      <td>08/17/2020 12:00:00 AM</td>\n",
       "      <td>1200</td>\n",
       "      <td>6</td>\n",
       "      <td>Hollywood</td>\n",
       "      <td>666</td>\n",
       "      <td>2</td>\n",
       "      <td>354</td>\n",
       "      <td>THEFT OF IDENTITY</td>\n",
       "      <td>...</td>\n",
       "      <td>IC</td>\n",
       "      <td>Invest Cont</td>\n",
       "      <td>354.0</td>\n",
       "      <td>NaN</td>\n",
       "      <td>NaN</td>\n",
       "      <td>NaN</td>\n",
       "      <td>1900    TRANSIENT</td>\n",
       "      <td>NaN</td>\n",
       "      <td>34.0944</td>\n",
       "      <td>-118.3277</td>\n",
       "    </tr>\n",
       "    <tr>\n",
       "      <th>...</th>\n",
       "      <td>...</td>\n",
       "      <td>...</td>\n",
       "      <td>...</td>\n",
       "      <td>...</td>\n",
       "      <td>...</td>\n",
       "      <td>...</td>\n",
       "      <td>...</td>\n",
       "      <td>...</td>\n",
       "      <td>...</td>\n",
       "      <td>...</td>\n",
       "      <td>...</td>\n",
       "      <td>...</td>\n",
       "      <td>...</td>\n",
       "      <td>...</td>\n",
       "      <td>...</td>\n",
       "      <td>...</td>\n",
       "      <td>...</td>\n",
       "      <td>...</td>\n",
       "      <td>...</td>\n",
       "      <td>...</td>\n",
       "      <td>...</td>\n",
       "    </tr>\n",
       "    <tr>\n",
       "      <th>910702</th>\n",
       "      <td>242106032</td>\n",
       "      <td>02/20/2024 12:00:00 AM</td>\n",
       "      <td>02/17/2024 12:00:00 AM</td>\n",
       "      <td>2330</td>\n",
       "      <td>21</td>\n",
       "      <td>Topanga</td>\n",
       "      <td>2103</td>\n",
       "      <td>1</td>\n",
       "      <td>420</td>\n",
       "      <td>THEFT FROM MOTOR VEHICLE - PETTY ($950 &amp; UNDER)</td>\n",
       "      <td>...</td>\n",
       "      <td>IC</td>\n",
       "      <td>Invest Cont</td>\n",
       "      <td>420.0</td>\n",
       "      <td>NaN</td>\n",
       "      <td>NaN</td>\n",
       "      <td>NaN</td>\n",
       "      <td>22700    NAPA                         ST</td>\n",
       "      <td>NaN</td>\n",
       "      <td>34.2260</td>\n",
       "      <td>-118.6214</td>\n",
       "    </tr>\n",
       "    <tr>\n",
       "      <th>910703</th>\n",
       "      <td>241604246</td>\n",
       "      <td>01/08/2024 12:00:00 AM</td>\n",
       "      <td>01/08/2024 12:00:00 AM</td>\n",
       "      <td>800</td>\n",
       "      <td>16</td>\n",
       "      <td>Foothill</td>\n",
       "      <td>1601</td>\n",
       "      <td>2</td>\n",
       "      <td>625</td>\n",
       "      <td>OTHER ASSAULT</td>\n",
       "      <td>...</td>\n",
       "      <td>IC</td>\n",
       "      <td>Invest Cont</td>\n",
       "      <td>625.0</td>\n",
       "      <td>NaN</td>\n",
       "      <td>NaN</td>\n",
       "      <td>NaN</td>\n",
       "      <td>VAUGHN                       ST</td>\n",
       "      <td>DE GARMO                     AV</td>\n",
       "      <td>34.2865</td>\n",
       "      <td>-118.4161</td>\n",
       "    </tr>\n",
       "    <tr>\n",
       "      <th>910704</th>\n",
       "      <td>242004546</td>\n",
       "      <td>01/16/2024 12:00:00 AM</td>\n",
       "      <td>01/16/2024 12:00:00 AM</td>\n",
       "      <td>1510</td>\n",
       "      <td>20</td>\n",
       "      <td>Olympic</td>\n",
       "      <td>2013</td>\n",
       "      <td>2</td>\n",
       "      <td>624</td>\n",
       "      <td>BATTERY - SIMPLE ASSAULT</td>\n",
       "      <td>...</td>\n",
       "      <td>IC</td>\n",
       "      <td>Invest Cont</td>\n",
       "      <td>624.0</td>\n",
       "      <td>NaN</td>\n",
       "      <td>NaN</td>\n",
       "      <td>NaN</td>\n",
       "      <td>HOBART                       BL</td>\n",
       "      <td>3RD                          ST</td>\n",
       "      <td>34.0690</td>\n",
       "      <td>-118.3054</td>\n",
       "    </tr>\n",
       "    <tr>\n",
       "      <th>910705</th>\n",
       "      <td>240705409</td>\n",
       "      <td>02/02/2024 12:00:00 AM</td>\n",
       "      <td>01/31/2024 12:00:00 AM</td>\n",
       "      <td>30</td>\n",
       "      <td>7</td>\n",
       "      <td>Wilshire</td>\n",
       "      <td>784</td>\n",
       "      <td>1</td>\n",
       "      <td>510</td>\n",
       "      <td>VEHICLE - STOLEN</td>\n",
       "      <td>...</td>\n",
       "      <td>IC</td>\n",
       "      <td>Invest Cont</td>\n",
       "      <td>510.0</td>\n",
       "      <td>NaN</td>\n",
       "      <td>NaN</td>\n",
       "      <td>NaN</td>\n",
       "      <td>2300 S  SYCAMORE                     AV</td>\n",
       "      <td>NaN</td>\n",
       "      <td>34.0360</td>\n",
       "      <td>-118.3527</td>\n",
       "    </tr>\n",
       "    <tr>\n",
       "      <th>910706</th>\n",
       "      <td>240104953</td>\n",
       "      <td>01/15/2024 12:00:00 AM</td>\n",
       "      <td>01/15/2024 12:00:00 AM</td>\n",
       "      <td>100</td>\n",
       "      <td>1</td>\n",
       "      <td>Central</td>\n",
       "      <td>101</td>\n",
       "      <td>2</td>\n",
       "      <td>745</td>\n",
       "      <td>VANDALISM - MISDEAMEANOR ($399 OR UNDER)</td>\n",
       "      <td>...</td>\n",
       "      <td>IC</td>\n",
       "      <td>Invest Cont</td>\n",
       "      <td>745.0</td>\n",
       "      <td>NaN</td>\n",
       "      <td>NaN</td>\n",
       "      <td>NaN</td>\n",
       "      <td>1300 W  SUNSET                       BL</td>\n",
       "      <td>NaN</td>\n",
       "      <td>34.0685</td>\n",
       "      <td>-118.2460</td>\n",
       "    </tr>\n",
       "  </tbody>\n",
       "</table>\n",
       "<p>910707 rows × 28 columns</p>\n",
       "</div>"
      ],
      "text/plain": [
       "            DR_NO               Date Rptd                DATE OCC  TIME OCC  \\\n",
       "0       190326475  03/01/2020 12:00:00 AM  03/01/2020 12:00:00 AM      2130   \n",
       "1       200106753  02/09/2020 12:00:00 AM  02/08/2020 12:00:00 AM      1800   \n",
       "2       200320258  11/11/2020 12:00:00 AM  11/04/2020 12:00:00 AM      1700   \n",
       "3       200907217  05/10/2023 12:00:00 AM  03/10/2020 12:00:00 AM      2037   \n",
       "4       220614831  08/18/2022 12:00:00 AM  08/17/2020 12:00:00 AM      1200   \n",
       "...           ...                     ...                     ...       ...   \n",
       "910702  242106032  02/20/2024 12:00:00 AM  02/17/2024 12:00:00 AM      2330   \n",
       "910703  241604246  01/08/2024 12:00:00 AM  01/08/2024 12:00:00 AM       800   \n",
       "910704  242004546  01/16/2024 12:00:00 AM  01/16/2024 12:00:00 AM      1510   \n",
       "910705  240705409  02/02/2024 12:00:00 AM  01/31/2024 12:00:00 AM        30   \n",
       "910706  240104953  01/15/2024 12:00:00 AM  01/15/2024 12:00:00 AM       100   \n",
       "\n",
       "        AREA  AREA NAME  Rpt Dist No  Part 1-2  Crm Cd  \\\n",
       "0          7   Wilshire          784         1     510   \n",
       "1          1    Central          182         1     330   \n",
       "2          3  Southwest          356         1     480   \n",
       "3          9   Van Nuys          964         1     343   \n",
       "4          6  Hollywood          666         2     354   \n",
       "...      ...        ...          ...       ...     ...   \n",
       "910702    21    Topanga         2103         1     420   \n",
       "910703    16   Foothill         1601         2     625   \n",
       "910704    20    Olympic         2013         2     624   \n",
       "910705     7   Wilshire          784         1     510   \n",
       "910706     1    Central          101         2     745   \n",
       "\n",
       "                                            Crm Cd Desc  ... Status  \\\n",
       "0                                      VEHICLE - STOLEN  ...     AA   \n",
       "1                                 BURGLARY FROM VEHICLE  ...     IC   \n",
       "2                                         BIKE - STOLEN  ...     IC   \n",
       "3              SHOPLIFTING-GRAND THEFT ($950.01 & OVER)  ...     IC   \n",
       "4                                     THEFT OF IDENTITY  ...     IC   \n",
       "...                                                 ...  ...    ...   \n",
       "910702  THEFT FROM MOTOR VEHICLE - PETTY ($950 & UNDER)  ...     IC   \n",
       "910703                                    OTHER ASSAULT  ...     IC   \n",
       "910704                         BATTERY - SIMPLE ASSAULT  ...     IC   \n",
       "910705                                 VEHICLE - STOLEN  ...     IC   \n",
       "910706         VANDALISM - MISDEAMEANOR ($399 OR UNDER)  ...     IC   \n",
       "\n",
       "         Status Desc Crm Cd 1 Crm Cd 2  Crm Cd 3 Crm Cd 4  \\\n",
       "0       Adult Arrest    510.0    998.0       NaN      NaN   \n",
       "1        Invest Cont    330.0    998.0       NaN      NaN   \n",
       "2        Invest Cont    480.0      NaN       NaN      NaN   \n",
       "3        Invest Cont    343.0      NaN       NaN      NaN   \n",
       "4        Invest Cont    354.0      NaN       NaN      NaN   \n",
       "...              ...      ...      ...       ...      ...   \n",
       "910702   Invest Cont    420.0      NaN       NaN      NaN   \n",
       "910703   Invest Cont    625.0      NaN       NaN      NaN   \n",
       "910704   Invest Cont    624.0      NaN       NaN      NaN   \n",
       "910705   Invest Cont    510.0      NaN       NaN      NaN   \n",
       "910706   Invest Cont    745.0      NaN       NaN      NaN   \n",
       "\n",
       "                                        LOCATION  \\\n",
       "0        1900 S  LONGWOOD                     AV   \n",
       "1        1000 S  FLOWER                       ST   \n",
       "2        1400 W  37TH                         ST   \n",
       "3       14000    RIVERSIDE                    DR   \n",
       "4                              1900    TRANSIENT   \n",
       "...                                          ...   \n",
       "910702  22700    NAPA                         ST   \n",
       "910703           VAUGHN                       ST   \n",
       "910704           HOBART                       BL   \n",
       "910705   2300 S  SYCAMORE                     AV   \n",
       "910706   1300 W  SUNSET                       BL   \n",
       "\n",
       "                           Cross Street      LAT       LON  \n",
       "0                                   NaN  34.0375 -118.3506  \n",
       "1                                   NaN  34.0444 -118.2628  \n",
       "2                                   NaN  34.0210 -118.3002  \n",
       "3                                   NaN  34.1576 -118.4387  \n",
       "4                                   NaN  34.0944 -118.3277  \n",
       "...                                 ...      ...       ...  \n",
       "910702                              NaN  34.2260 -118.6214  \n",
       "910703  DE GARMO                     AV  34.2865 -118.4161  \n",
       "910704  3RD                          ST  34.0690 -118.3054  \n",
       "910705                              NaN  34.0360 -118.3527  \n",
       "910706                              NaN  34.0685 -118.2460  \n",
       "\n",
       "[910707 rows x 28 columns]"
      ]
     },
     "execution_count": 2,
     "metadata": {},
     "output_type": "execute_result"
    }
   ],
   "source": [
    "#importind dataset\n",
    "crime = pd.read_csv(\"E:/PYTHON PROJECTS/Crime_Data_from_2020_to_Present.csv\")\n",
    "crime"
   ]
  },
  {
   "cell_type": "code",
   "execution_count": 3,
   "id": "9f96ffcb",
   "metadata": {},
   "outputs": [
    {
     "name": "stdout",
     "output_type": "stream",
     "text": [
      "<class 'pandas.core.frame.DataFrame'>\n",
      "RangeIndex: 910707 entries, 0 to 910706\n",
      "Data columns (total 28 columns):\n",
      " #   Column          Non-Null Count   Dtype  \n",
      "---  ------          --------------   -----  \n",
      " 0   DR_NO           910707 non-null  int64  \n",
      " 1   Date Rptd       910707 non-null  object \n",
      " 2   DATE OCC        910707 non-null  object \n",
      " 3   TIME OCC        910707 non-null  int64  \n",
      " 4   AREA            910707 non-null  int64  \n",
      " 5   AREA NAME       910707 non-null  object \n",
      " 6   Rpt Dist No     910707 non-null  int64  \n",
      " 7   Part 1-2        910707 non-null  int64  \n",
      " 8   Crm Cd          910707 non-null  int64  \n",
      " 9   Crm Cd Desc     910707 non-null  object \n",
      " 10  Mocodes         783696 non-null  object \n",
      " 11  Vict Age        910707 non-null  int64  \n",
      " 12  Vict Sex        789672 non-null  object \n",
      " 13  Vict Descent    789663 non-null  object \n",
      " 14  Premis Cd       910697 non-null  float64\n",
      " 15  Premis Desc     910153 non-null  object \n",
      " 16  Weapon Used Cd  315247 non-null  float64\n",
      " 17  Weapon Desc     315247 non-null  object \n",
      " 18  Status          910707 non-null  object \n",
      " 19  Status Desc     910707 non-null  object \n",
      " 20  Crm Cd 1        910696 non-null  float64\n",
      " 21  Crm Cd 2        66335 non-null   float64\n",
      " 22  Crm Cd 3        2237 non-null    float64\n",
      " 23  Crm Cd 4        64 non-null      float64\n",
      " 24  LOCATION        910707 non-null  object \n",
      " 25  Cross Street    143332 non-null  object \n",
      " 26  LAT             910707 non-null  float64\n",
      " 27  LON             910707 non-null  float64\n",
      "dtypes: float64(8), int64(7), object(13)\n",
      "memory usage: 194.5+ MB\n"
     ]
    }
   ],
   "source": [
    "#exploratory data analysis\n",
    "crime.info()"
   ]
  },
  {
   "cell_type": "code",
   "execution_count": 4,
   "id": "e4fcac26",
   "metadata": {},
   "outputs": [
    {
     "data": {
      "text/plain": [
       "DR_NO               int64\n",
       "Date Rptd          object\n",
       "DATE OCC           object\n",
       "TIME OCC            int64\n",
       "AREA                int64\n",
       "AREA NAME          object\n",
       "Rpt Dist No         int64\n",
       "Part 1-2            int64\n",
       "Crm Cd              int64\n",
       "Crm Cd Desc        object\n",
       "Mocodes            object\n",
       "Vict Age            int64\n",
       "Vict Sex           object\n",
       "Vict Descent       object\n",
       "Premis Cd         float64\n",
       "Premis Desc        object\n",
       "Weapon Used Cd    float64\n",
       "Weapon Desc        object\n",
       "Status             object\n",
       "Status Desc        object\n",
       "Crm Cd 1          float64\n",
       "Crm Cd 2          float64\n",
       "Crm Cd 3          float64\n",
       "Crm Cd 4          float64\n",
       "LOCATION           object\n",
       "Cross Street       object\n",
       "LAT               float64\n",
       "LON               float64\n",
       "dtype: object"
      ]
     },
     "execution_count": 4,
     "metadata": {},
     "output_type": "execute_result"
    }
   ],
   "source": [
    "crime.dtypes"
   ]
  },
  {
   "cell_type": "code",
   "execution_count": 5,
   "id": "c5068b5d",
   "metadata": {},
   "outputs": [
    {
     "data": {
      "text/plain": [
       "DR_NO                  0\n",
       "Date Rptd              0\n",
       "DATE OCC               0\n",
       "TIME OCC               0\n",
       "AREA                   0\n",
       "AREA NAME              0\n",
       "Rpt Dist No            0\n",
       "Part 1-2               0\n",
       "Crm Cd                 0\n",
       "Crm Cd Desc            0\n",
       "Mocodes           127011\n",
       "Vict Age               0\n",
       "Vict Sex          121035\n",
       "Vict Descent      121044\n",
       "Premis Cd             10\n",
       "Premis Desc          554\n",
       "Weapon Used Cd    595460\n",
       "Weapon Desc       595460\n",
       "Status                 0\n",
       "Status Desc            0\n",
       "Crm Cd 1              11\n",
       "Crm Cd 2          844372\n",
       "Crm Cd 3          908470\n",
       "Crm Cd 4          910643\n",
       "LOCATION               0\n",
       "Cross Street      767375\n",
       "LAT                    0\n",
       "LON                    0\n",
       "dtype: int64"
      ]
     },
     "execution_count": 5,
     "metadata": {},
     "output_type": "execute_result"
    }
   ],
   "source": [
    "crime.isnull().sum()"
   ]
  },
  {
   "cell_type": "code",
   "execution_count": 6,
   "id": "62a14333",
   "metadata": {},
   "outputs": [
    {
     "data": {
      "text/html": [
       "<div>\n",
       "<style scoped>\n",
       "    .dataframe tbody tr th:only-of-type {\n",
       "        vertical-align: middle;\n",
       "    }\n",
       "\n",
       "    .dataframe tbody tr th {\n",
       "        vertical-align: top;\n",
       "    }\n",
       "\n",
       "    .dataframe thead th {\n",
       "        text-align: right;\n",
       "    }\n",
       "</style>\n",
       "<table border=\"1\" class=\"dataframe\">\n",
       "  <thead>\n",
       "    <tr style=\"text-align: right;\">\n",
       "      <th></th>\n",
       "      <th>DR_NO</th>\n",
       "      <th>Date Rptd</th>\n",
       "      <th>DATE OCC</th>\n",
       "      <th>TIME OCC</th>\n",
       "      <th>AREA</th>\n",
       "      <th>AREA NAME</th>\n",
       "      <th>Rpt Dist No</th>\n",
       "      <th>Part 1-2</th>\n",
       "      <th>Crm Cd</th>\n",
       "      <th>Crm Cd Desc</th>\n",
       "      <th>...</th>\n",
       "      <th>Status</th>\n",
       "      <th>Status Desc</th>\n",
       "      <th>Crm Cd 1</th>\n",
       "      <th>Crm Cd 2</th>\n",
       "      <th>Crm Cd 3</th>\n",
       "      <th>Crm Cd 4</th>\n",
       "      <th>LOCATION</th>\n",
       "      <th>Cross Street</th>\n",
       "      <th>LAT</th>\n",
       "      <th>LON</th>\n",
       "    </tr>\n",
       "  </thead>\n",
       "  <tbody>\n",
       "    <tr>\n",
       "      <th>0</th>\n",
       "      <td>190326475</td>\n",
       "      <td>03/01/2020 12:00:00 AM</td>\n",
       "      <td>03/01/2020 12:00:00 AM</td>\n",
       "      <td>2130</td>\n",
       "      <td>7</td>\n",
       "      <td>Wilshire</td>\n",
       "      <td>784</td>\n",
       "      <td>1</td>\n",
       "      <td>510</td>\n",
       "      <td>VEHICLE - STOLEN</td>\n",
       "      <td>...</td>\n",
       "      <td>AA</td>\n",
       "      <td>Adult Arrest</td>\n",
       "      <td>510.0</td>\n",
       "      <td>998.0</td>\n",
       "      <td>NaN</td>\n",
       "      <td>NaN</td>\n",
       "      <td>1900 S  LONGWOOD                     AV</td>\n",
       "      <td>NaN</td>\n",
       "      <td>34.0375</td>\n",
       "      <td>-118.3506</td>\n",
       "    </tr>\n",
       "    <tr>\n",
       "      <th>1</th>\n",
       "      <td>200106753</td>\n",
       "      <td>02/09/2020 12:00:00 AM</td>\n",
       "      <td>02/08/2020 12:00:00 AM</td>\n",
       "      <td>1800</td>\n",
       "      <td>1</td>\n",
       "      <td>Central</td>\n",
       "      <td>182</td>\n",
       "      <td>1</td>\n",
       "      <td>330</td>\n",
       "      <td>BURGLARY FROM VEHICLE</td>\n",
       "      <td>...</td>\n",
       "      <td>IC</td>\n",
       "      <td>Invest Cont</td>\n",
       "      <td>330.0</td>\n",
       "      <td>998.0</td>\n",
       "      <td>NaN</td>\n",
       "      <td>NaN</td>\n",
       "      <td>1000 S  FLOWER                       ST</td>\n",
       "      <td>NaN</td>\n",
       "      <td>34.0444</td>\n",
       "      <td>-118.2628</td>\n",
       "    </tr>\n",
       "    <tr>\n",
       "      <th>2</th>\n",
       "      <td>200320258</td>\n",
       "      <td>11/11/2020 12:00:00 AM</td>\n",
       "      <td>11/04/2020 12:00:00 AM</td>\n",
       "      <td>1700</td>\n",
       "      <td>3</td>\n",
       "      <td>Southwest</td>\n",
       "      <td>356</td>\n",
       "      <td>1</td>\n",
       "      <td>480</td>\n",
       "      <td>BIKE - STOLEN</td>\n",
       "      <td>...</td>\n",
       "      <td>IC</td>\n",
       "      <td>Invest Cont</td>\n",
       "      <td>480.0</td>\n",
       "      <td>NaN</td>\n",
       "      <td>NaN</td>\n",
       "      <td>NaN</td>\n",
       "      <td>1400 W  37TH                         ST</td>\n",
       "      <td>NaN</td>\n",
       "      <td>34.0210</td>\n",
       "      <td>-118.3002</td>\n",
       "    </tr>\n",
       "    <tr>\n",
       "      <th>3</th>\n",
       "      <td>200907217</td>\n",
       "      <td>05/10/2023 12:00:00 AM</td>\n",
       "      <td>03/10/2020 12:00:00 AM</td>\n",
       "      <td>2037</td>\n",
       "      <td>9</td>\n",
       "      <td>Van Nuys</td>\n",
       "      <td>964</td>\n",
       "      <td>1</td>\n",
       "      <td>343</td>\n",
       "      <td>SHOPLIFTING-GRAND THEFT ($950.01 &amp; OVER)</td>\n",
       "      <td>...</td>\n",
       "      <td>IC</td>\n",
       "      <td>Invest Cont</td>\n",
       "      <td>343.0</td>\n",
       "      <td>NaN</td>\n",
       "      <td>NaN</td>\n",
       "      <td>NaN</td>\n",
       "      <td>14000    RIVERSIDE                    DR</td>\n",
       "      <td>NaN</td>\n",
       "      <td>34.1576</td>\n",
       "      <td>-118.4387</td>\n",
       "    </tr>\n",
       "    <tr>\n",
       "      <th>4</th>\n",
       "      <td>220614831</td>\n",
       "      <td>08/18/2022 12:00:00 AM</td>\n",
       "      <td>08/17/2020 12:00:00 AM</td>\n",
       "      <td>1200</td>\n",
       "      <td>6</td>\n",
       "      <td>Hollywood</td>\n",
       "      <td>666</td>\n",
       "      <td>2</td>\n",
       "      <td>354</td>\n",
       "      <td>THEFT OF IDENTITY</td>\n",
       "      <td>...</td>\n",
       "      <td>IC</td>\n",
       "      <td>Invest Cont</td>\n",
       "      <td>354.0</td>\n",
       "      <td>NaN</td>\n",
       "      <td>NaN</td>\n",
       "      <td>NaN</td>\n",
       "      <td>1900    TRANSIENT</td>\n",
       "      <td>NaN</td>\n",
       "      <td>34.0944</td>\n",
       "      <td>-118.3277</td>\n",
       "    </tr>\n",
       "    <tr>\n",
       "      <th>...</th>\n",
       "      <td>...</td>\n",
       "      <td>...</td>\n",
       "      <td>...</td>\n",
       "      <td>...</td>\n",
       "      <td>...</td>\n",
       "      <td>...</td>\n",
       "      <td>...</td>\n",
       "      <td>...</td>\n",
       "      <td>...</td>\n",
       "      <td>...</td>\n",
       "      <td>...</td>\n",
       "      <td>...</td>\n",
       "      <td>...</td>\n",
       "      <td>...</td>\n",
       "      <td>...</td>\n",
       "      <td>...</td>\n",
       "      <td>...</td>\n",
       "      <td>...</td>\n",
       "      <td>...</td>\n",
       "      <td>...</td>\n",
       "      <td>...</td>\n",
       "    </tr>\n",
       "    <tr>\n",
       "      <th>910702</th>\n",
       "      <td>242106032</td>\n",
       "      <td>02/20/2024 12:00:00 AM</td>\n",
       "      <td>02/17/2024 12:00:00 AM</td>\n",
       "      <td>2330</td>\n",
       "      <td>21</td>\n",
       "      <td>Topanga</td>\n",
       "      <td>2103</td>\n",
       "      <td>1</td>\n",
       "      <td>420</td>\n",
       "      <td>THEFT FROM MOTOR VEHICLE - PETTY ($950 &amp; UNDER)</td>\n",
       "      <td>...</td>\n",
       "      <td>IC</td>\n",
       "      <td>Invest Cont</td>\n",
       "      <td>420.0</td>\n",
       "      <td>NaN</td>\n",
       "      <td>NaN</td>\n",
       "      <td>NaN</td>\n",
       "      <td>22700    NAPA                         ST</td>\n",
       "      <td>NaN</td>\n",
       "      <td>34.2260</td>\n",
       "      <td>-118.6214</td>\n",
       "    </tr>\n",
       "    <tr>\n",
       "      <th>910703</th>\n",
       "      <td>241604246</td>\n",
       "      <td>01/08/2024 12:00:00 AM</td>\n",
       "      <td>01/08/2024 12:00:00 AM</td>\n",
       "      <td>800</td>\n",
       "      <td>16</td>\n",
       "      <td>Foothill</td>\n",
       "      <td>1601</td>\n",
       "      <td>2</td>\n",
       "      <td>625</td>\n",
       "      <td>OTHER ASSAULT</td>\n",
       "      <td>...</td>\n",
       "      <td>IC</td>\n",
       "      <td>Invest Cont</td>\n",
       "      <td>625.0</td>\n",
       "      <td>NaN</td>\n",
       "      <td>NaN</td>\n",
       "      <td>NaN</td>\n",
       "      <td>VAUGHN                       ST</td>\n",
       "      <td>DE GARMO                     AV</td>\n",
       "      <td>34.2865</td>\n",
       "      <td>-118.4161</td>\n",
       "    </tr>\n",
       "    <tr>\n",
       "      <th>910704</th>\n",
       "      <td>242004546</td>\n",
       "      <td>01/16/2024 12:00:00 AM</td>\n",
       "      <td>01/16/2024 12:00:00 AM</td>\n",
       "      <td>1510</td>\n",
       "      <td>20</td>\n",
       "      <td>Olympic</td>\n",
       "      <td>2013</td>\n",
       "      <td>2</td>\n",
       "      <td>624</td>\n",
       "      <td>BATTERY - SIMPLE ASSAULT</td>\n",
       "      <td>...</td>\n",
       "      <td>IC</td>\n",
       "      <td>Invest Cont</td>\n",
       "      <td>624.0</td>\n",
       "      <td>NaN</td>\n",
       "      <td>NaN</td>\n",
       "      <td>NaN</td>\n",
       "      <td>HOBART                       BL</td>\n",
       "      <td>3RD                          ST</td>\n",
       "      <td>34.0690</td>\n",
       "      <td>-118.3054</td>\n",
       "    </tr>\n",
       "    <tr>\n",
       "      <th>910705</th>\n",
       "      <td>240705409</td>\n",
       "      <td>02/02/2024 12:00:00 AM</td>\n",
       "      <td>01/31/2024 12:00:00 AM</td>\n",
       "      <td>30</td>\n",
       "      <td>7</td>\n",
       "      <td>Wilshire</td>\n",
       "      <td>784</td>\n",
       "      <td>1</td>\n",
       "      <td>510</td>\n",
       "      <td>VEHICLE - STOLEN</td>\n",
       "      <td>...</td>\n",
       "      <td>IC</td>\n",
       "      <td>Invest Cont</td>\n",
       "      <td>510.0</td>\n",
       "      <td>NaN</td>\n",
       "      <td>NaN</td>\n",
       "      <td>NaN</td>\n",
       "      <td>2300 S  SYCAMORE                     AV</td>\n",
       "      <td>NaN</td>\n",
       "      <td>34.0360</td>\n",
       "      <td>-118.3527</td>\n",
       "    </tr>\n",
       "    <tr>\n",
       "      <th>910706</th>\n",
       "      <td>240104953</td>\n",
       "      <td>01/15/2024 12:00:00 AM</td>\n",
       "      <td>01/15/2024 12:00:00 AM</td>\n",
       "      <td>100</td>\n",
       "      <td>1</td>\n",
       "      <td>Central</td>\n",
       "      <td>101</td>\n",
       "      <td>2</td>\n",
       "      <td>745</td>\n",
       "      <td>VANDALISM - MISDEAMEANOR ($399 OR UNDER)</td>\n",
       "      <td>...</td>\n",
       "      <td>IC</td>\n",
       "      <td>Invest Cont</td>\n",
       "      <td>745.0</td>\n",
       "      <td>NaN</td>\n",
       "      <td>NaN</td>\n",
       "      <td>NaN</td>\n",
       "      <td>1300 W  SUNSET                       BL</td>\n",
       "      <td>NaN</td>\n",
       "      <td>34.0685</td>\n",
       "      <td>-118.2460</td>\n",
       "    </tr>\n",
       "  </tbody>\n",
       "</table>\n",
       "<p>910707 rows × 28 columns</p>\n",
       "</div>"
      ],
      "text/plain": [
       "            DR_NO               Date Rptd                DATE OCC  TIME OCC  \\\n",
       "0       190326475  03/01/2020 12:00:00 AM  03/01/2020 12:00:00 AM      2130   \n",
       "1       200106753  02/09/2020 12:00:00 AM  02/08/2020 12:00:00 AM      1800   \n",
       "2       200320258  11/11/2020 12:00:00 AM  11/04/2020 12:00:00 AM      1700   \n",
       "3       200907217  05/10/2023 12:00:00 AM  03/10/2020 12:00:00 AM      2037   \n",
       "4       220614831  08/18/2022 12:00:00 AM  08/17/2020 12:00:00 AM      1200   \n",
       "...           ...                     ...                     ...       ...   \n",
       "910702  242106032  02/20/2024 12:00:00 AM  02/17/2024 12:00:00 AM      2330   \n",
       "910703  241604246  01/08/2024 12:00:00 AM  01/08/2024 12:00:00 AM       800   \n",
       "910704  242004546  01/16/2024 12:00:00 AM  01/16/2024 12:00:00 AM      1510   \n",
       "910705  240705409  02/02/2024 12:00:00 AM  01/31/2024 12:00:00 AM        30   \n",
       "910706  240104953  01/15/2024 12:00:00 AM  01/15/2024 12:00:00 AM       100   \n",
       "\n",
       "        AREA  AREA NAME  Rpt Dist No  Part 1-2  Crm Cd  \\\n",
       "0          7   Wilshire          784         1     510   \n",
       "1          1    Central          182         1     330   \n",
       "2          3  Southwest          356         1     480   \n",
       "3          9   Van Nuys          964         1     343   \n",
       "4          6  Hollywood          666         2     354   \n",
       "...      ...        ...          ...       ...     ...   \n",
       "910702    21    Topanga         2103         1     420   \n",
       "910703    16   Foothill         1601         2     625   \n",
       "910704    20    Olympic         2013         2     624   \n",
       "910705     7   Wilshire          784         1     510   \n",
       "910706     1    Central          101         2     745   \n",
       "\n",
       "                                            Crm Cd Desc  ... Status  \\\n",
       "0                                      VEHICLE - STOLEN  ...     AA   \n",
       "1                                 BURGLARY FROM VEHICLE  ...     IC   \n",
       "2                                         BIKE - STOLEN  ...     IC   \n",
       "3              SHOPLIFTING-GRAND THEFT ($950.01 & OVER)  ...     IC   \n",
       "4                                     THEFT OF IDENTITY  ...     IC   \n",
       "...                                                 ...  ...    ...   \n",
       "910702  THEFT FROM MOTOR VEHICLE - PETTY ($950 & UNDER)  ...     IC   \n",
       "910703                                    OTHER ASSAULT  ...     IC   \n",
       "910704                         BATTERY - SIMPLE ASSAULT  ...     IC   \n",
       "910705                                 VEHICLE - STOLEN  ...     IC   \n",
       "910706         VANDALISM - MISDEAMEANOR ($399 OR UNDER)  ...     IC   \n",
       "\n",
       "         Status Desc Crm Cd 1 Crm Cd 2  Crm Cd 3 Crm Cd 4  \\\n",
       "0       Adult Arrest    510.0    998.0       NaN      NaN   \n",
       "1        Invest Cont    330.0    998.0       NaN      NaN   \n",
       "2        Invest Cont    480.0      NaN       NaN      NaN   \n",
       "3        Invest Cont    343.0      NaN       NaN      NaN   \n",
       "4        Invest Cont    354.0      NaN       NaN      NaN   \n",
       "...              ...      ...      ...       ...      ...   \n",
       "910702   Invest Cont    420.0      NaN       NaN      NaN   \n",
       "910703   Invest Cont    625.0      NaN       NaN      NaN   \n",
       "910704   Invest Cont    624.0      NaN       NaN      NaN   \n",
       "910705   Invest Cont    510.0      NaN       NaN      NaN   \n",
       "910706   Invest Cont    745.0      NaN       NaN      NaN   \n",
       "\n",
       "                                        LOCATION  \\\n",
       "0        1900 S  LONGWOOD                     AV   \n",
       "1        1000 S  FLOWER                       ST   \n",
       "2        1400 W  37TH                         ST   \n",
       "3       14000    RIVERSIDE                    DR   \n",
       "4                              1900    TRANSIENT   \n",
       "...                                          ...   \n",
       "910702  22700    NAPA                         ST   \n",
       "910703           VAUGHN                       ST   \n",
       "910704           HOBART                       BL   \n",
       "910705   2300 S  SYCAMORE                     AV   \n",
       "910706   1300 W  SUNSET                       BL   \n",
       "\n",
       "                           Cross Street      LAT       LON  \n",
       "0                                   NaN  34.0375 -118.3506  \n",
       "1                                   NaN  34.0444 -118.2628  \n",
       "2                                   NaN  34.0210 -118.3002  \n",
       "3                                   NaN  34.1576 -118.4387  \n",
       "4                                   NaN  34.0944 -118.3277  \n",
       "...                                 ...      ...       ...  \n",
       "910702                              NaN  34.2260 -118.6214  \n",
       "910703  DE GARMO                     AV  34.2865 -118.4161  \n",
       "910704  3RD                          ST  34.0690 -118.3054  \n",
       "910705                              NaN  34.0360 -118.3527  \n",
       "910706                              NaN  34.0685 -118.2460  \n",
       "\n",
       "[910707 rows x 28 columns]"
      ]
     },
     "execution_count": 6,
     "metadata": {},
     "output_type": "execute_result"
    }
   ],
   "source": [
    "crime.drop_duplicates()"
   ]
  },
  {
   "cell_type": "code",
   "execution_count": 7,
   "id": "ad655aeb",
   "metadata": {},
   "outputs": [
    {
     "data": {
      "text/html": [
       "<div>\n",
       "<style scoped>\n",
       "    .dataframe tbody tr th:only-of-type {\n",
       "        vertical-align: middle;\n",
       "    }\n",
       "\n",
       "    .dataframe tbody tr th {\n",
       "        vertical-align: top;\n",
       "    }\n",
       "\n",
       "    .dataframe thead th {\n",
       "        text-align: right;\n",
       "    }\n",
       "</style>\n",
       "<table border=\"1\" class=\"dataframe\">\n",
       "  <thead>\n",
       "    <tr style=\"text-align: right;\">\n",
       "      <th></th>\n",
       "      <th>DR_NO</th>\n",
       "      <th>Date Rptd</th>\n",
       "      <th>DATE OCC</th>\n",
       "      <th>TIME OCC</th>\n",
       "      <th>AREA</th>\n",
       "      <th>AREA NAME</th>\n",
       "      <th>Rpt Dist No</th>\n",
       "      <th>Part 1-2</th>\n",
       "      <th>Crm Cd</th>\n",
       "      <th>Crm Cd Desc</th>\n",
       "      <th>...</th>\n",
       "      <th>Status</th>\n",
       "      <th>Status Desc</th>\n",
       "      <th>Crm Cd 1</th>\n",
       "      <th>Crm Cd 2</th>\n",
       "      <th>Crm Cd 3</th>\n",
       "      <th>Crm Cd 4</th>\n",
       "      <th>LOCATION</th>\n",
       "      <th>Cross Street</th>\n",
       "      <th>LAT</th>\n",
       "      <th>LON</th>\n",
       "    </tr>\n",
       "  </thead>\n",
       "  <tbody>\n",
       "    <tr>\n",
       "      <th>count</th>\n",
       "      <td>9.107070e+05</td>\n",
       "      <td>910707</td>\n",
       "      <td>910707</td>\n",
       "      <td>910707.000000</td>\n",
       "      <td>910707.000000</td>\n",
       "      <td>910707</td>\n",
       "      <td>910707.000000</td>\n",
       "      <td>910707.000000</td>\n",
       "      <td>910707.000000</td>\n",
       "      <td>910707</td>\n",
       "      <td>...</td>\n",
       "      <td>910707</td>\n",
       "      <td>910707</td>\n",
       "      <td>910696.000000</td>\n",
       "      <td>66335.000000</td>\n",
       "      <td>2237.000000</td>\n",
       "      <td>64.00000</td>\n",
       "      <td>910707</td>\n",
       "      <td>143332</td>\n",
       "      <td>910707.000000</td>\n",
       "      <td>910707.000000</td>\n",
       "    </tr>\n",
       "    <tr>\n",
       "      <th>unique</th>\n",
       "      <td>NaN</td>\n",
       "      <td>1525</td>\n",
       "      <td>1525</td>\n",
       "      <td>NaN</td>\n",
       "      <td>NaN</td>\n",
       "      <td>21</td>\n",
       "      <td>NaN</td>\n",
       "      <td>NaN</td>\n",
       "      <td>NaN</td>\n",
       "      <td>139</td>\n",
       "      <td>...</td>\n",
       "      <td>6</td>\n",
       "      <td>6</td>\n",
       "      <td>NaN</td>\n",
       "      <td>NaN</td>\n",
       "      <td>NaN</td>\n",
       "      <td>NaN</td>\n",
       "      <td>65177</td>\n",
       "      <td>10059</td>\n",
       "      <td>NaN</td>\n",
       "      <td>NaN</td>\n",
       "    </tr>\n",
       "    <tr>\n",
       "      <th>top</th>\n",
       "      <td>NaN</td>\n",
       "      <td>02/03/2023 12:00:00 AM</td>\n",
       "      <td>01/01/2020 12:00:00 AM</td>\n",
       "      <td>NaN</td>\n",
       "      <td>NaN</td>\n",
       "      <td>Central</td>\n",
       "      <td>NaN</td>\n",
       "      <td>NaN</td>\n",
       "      <td>NaN</td>\n",
       "      <td>VEHICLE - STOLEN</td>\n",
       "      <td>...</td>\n",
       "      <td>IC</td>\n",
       "      <td>Invest Cont</td>\n",
       "      <td>NaN</td>\n",
       "      <td>NaN</td>\n",
       "      <td>NaN</td>\n",
       "      <td>NaN</td>\n",
       "      <td>800 N  ALAMEDA                      ST</td>\n",
       "      <td>BROADWAY</td>\n",
       "      <td>NaN</td>\n",
       "      <td>NaN</td>\n",
       "    </tr>\n",
       "    <tr>\n",
       "      <th>freq</th>\n",
       "      <td>NaN</td>\n",
       "      <td>925</td>\n",
       "      <td>1133</td>\n",
       "      <td>NaN</td>\n",
       "      <td>NaN</td>\n",
       "      <td>62071</td>\n",
       "      <td>NaN</td>\n",
       "      <td>NaN</td>\n",
       "      <td>NaN</td>\n",
       "      <td>97716</td>\n",
       "      <td>...</td>\n",
       "      <td>728546</td>\n",
       "      <td>728546</td>\n",
       "      <td>NaN</td>\n",
       "      <td>NaN</td>\n",
       "      <td>NaN</td>\n",
       "      <td>NaN</td>\n",
       "      <td>1728</td>\n",
       "      <td>2362</td>\n",
       "      <td>NaN</td>\n",
       "      <td>NaN</td>\n",
       "    </tr>\n",
       "    <tr>\n",
       "      <th>mean</th>\n",
       "      <td>2.180575e+08</td>\n",
       "      <td>NaN</td>\n",
       "      <td>NaN</td>\n",
       "      <td>1337.042061</td>\n",
       "      <td>10.698686</td>\n",
       "      <td>NaN</td>\n",
       "      <td>1116.307327</td>\n",
       "      <td>1.410830</td>\n",
       "      <td>500.809825</td>\n",
       "      <td>NaN</td>\n",
       "      <td>...</td>\n",
       "      <td>NaN</td>\n",
       "      <td>NaN</td>\n",
       "      <td>500.552370</td>\n",
       "      <td>957.968222</td>\n",
       "      <td>983.913724</td>\n",
       "      <td>991.21875</td>\n",
       "      <td>NaN</td>\n",
       "      <td>NaN</td>\n",
       "      <td>33.989025</td>\n",
       "      <td>-118.059907</td>\n",
       "    </tr>\n",
       "    <tr>\n",
       "      <th>std</th>\n",
       "      <td>1.191945e+07</td>\n",
       "      <td>NaN</td>\n",
       "      <td>NaN</td>\n",
       "      <td>652.903148</td>\n",
       "      <td>6.102210</td>\n",
       "      <td>NaN</td>\n",
       "      <td>610.237433</td>\n",
       "      <td>0.491985</td>\n",
       "      <td>207.606033</td>\n",
       "      <td>NaN</td>\n",
       "      <td>...</td>\n",
       "      <td>NaN</td>\n",
       "      <td>NaN</td>\n",
       "      <td>207.397779</td>\n",
       "      <td>110.627785</td>\n",
       "      <td>52.032905</td>\n",
       "      <td>27.06985</td>\n",
       "      <td>NaN</td>\n",
       "      <td>NaN</td>\n",
       "      <td>1.700407</td>\n",
       "      <td>5.894676</td>\n",
       "    </tr>\n",
       "    <tr>\n",
       "      <th>min</th>\n",
       "      <td>8.170000e+02</td>\n",
       "      <td>NaN</td>\n",
       "      <td>NaN</td>\n",
       "      <td>1.000000</td>\n",
       "      <td>1.000000</td>\n",
       "      <td>NaN</td>\n",
       "      <td>101.000000</td>\n",
       "      <td>1.000000</td>\n",
       "      <td>110.000000</td>\n",
       "      <td>NaN</td>\n",
       "      <td>...</td>\n",
       "      <td>NaN</td>\n",
       "      <td>NaN</td>\n",
       "      <td>110.000000</td>\n",
       "      <td>210.000000</td>\n",
       "      <td>310.000000</td>\n",
       "      <td>821.00000</td>\n",
       "      <td>NaN</td>\n",
       "      <td>NaN</td>\n",
       "      <td>0.000000</td>\n",
       "      <td>-118.667600</td>\n",
       "    </tr>\n",
       "    <tr>\n",
       "      <th>25%</th>\n",
       "      <td>2.104073e+08</td>\n",
       "      <td>NaN</td>\n",
       "      <td>NaN</td>\n",
       "      <td>900.000000</td>\n",
       "      <td>5.000000</td>\n",
       "      <td>NaN</td>\n",
       "      <td>589.000000</td>\n",
       "      <td>1.000000</td>\n",
       "      <td>331.000000</td>\n",
       "      <td>NaN</td>\n",
       "      <td>...</td>\n",
       "      <td>NaN</td>\n",
       "      <td>NaN</td>\n",
       "      <td>331.000000</td>\n",
       "      <td>998.000000</td>\n",
       "      <td>998.000000</td>\n",
       "      <td>998.00000</td>\n",
       "      <td>NaN</td>\n",
       "      <td>NaN</td>\n",
       "      <td>34.014500</td>\n",
       "      <td>-118.429600</td>\n",
       "    </tr>\n",
       "    <tr>\n",
       "      <th>50%</th>\n",
       "      <td>2.205108e+08</td>\n",
       "      <td>NaN</td>\n",
       "      <td>NaN</td>\n",
       "      <td>1415.000000</td>\n",
       "      <td>11.000000</td>\n",
       "      <td>NaN</td>\n",
       "      <td>1141.000000</td>\n",
       "      <td>1.000000</td>\n",
       "      <td>442.000000</td>\n",
       "      <td>NaN</td>\n",
       "      <td>...</td>\n",
       "      <td>NaN</td>\n",
       "      <td>NaN</td>\n",
       "      <td>442.000000</td>\n",
       "      <td>998.000000</td>\n",
       "      <td>998.000000</td>\n",
       "      <td>998.00000</td>\n",
       "      <td>NaN</td>\n",
       "      <td>NaN</td>\n",
       "      <td>34.058600</td>\n",
       "      <td>-118.321600</td>\n",
       "    </tr>\n",
       "    <tr>\n",
       "      <th>75%</th>\n",
       "      <td>2.304119e+08</td>\n",
       "      <td>NaN</td>\n",
       "      <td>NaN</td>\n",
       "      <td>1900.000000</td>\n",
       "      <td>16.000000</td>\n",
       "      <td>NaN</td>\n",
       "      <td>1615.000000</td>\n",
       "      <td>2.000000</td>\n",
       "      <td>626.000000</td>\n",
       "      <td>NaN</td>\n",
       "      <td>...</td>\n",
       "      <td>NaN</td>\n",
       "      <td>NaN</td>\n",
       "      <td>626.000000</td>\n",
       "      <td>998.000000</td>\n",
       "      <td>998.000000</td>\n",
       "      <td>998.00000</td>\n",
       "      <td>NaN</td>\n",
       "      <td>NaN</td>\n",
       "      <td>34.163400</td>\n",
       "      <td>-118.273900</td>\n",
       "    </tr>\n",
       "    <tr>\n",
       "      <th>max</th>\n",
       "      <td>2.499046e+08</td>\n",
       "      <td>NaN</td>\n",
       "      <td>NaN</td>\n",
       "      <td>2359.000000</td>\n",
       "      <td>21.000000</td>\n",
       "      <td>NaN</td>\n",
       "      <td>2199.000000</td>\n",
       "      <td>2.000000</td>\n",
       "      <td>956.000000</td>\n",
       "      <td>NaN</td>\n",
       "      <td>...</td>\n",
       "      <td>NaN</td>\n",
       "      <td>NaN</td>\n",
       "      <td>956.000000</td>\n",
       "      <td>999.000000</td>\n",
       "      <td>999.000000</td>\n",
       "      <td>999.00000</td>\n",
       "      <td>NaN</td>\n",
       "      <td>NaN</td>\n",
       "      <td>34.334300</td>\n",
       "      <td>0.000000</td>\n",
       "    </tr>\n",
       "  </tbody>\n",
       "</table>\n",
       "<p>11 rows × 28 columns</p>\n",
       "</div>"
      ],
      "text/plain": [
       "               DR_NO               Date Rptd                DATE OCC  \\\n",
       "count   9.107070e+05                  910707                  910707   \n",
       "unique           NaN                    1525                    1525   \n",
       "top              NaN  02/03/2023 12:00:00 AM  01/01/2020 12:00:00 AM   \n",
       "freq             NaN                     925                    1133   \n",
       "mean    2.180575e+08                     NaN                     NaN   \n",
       "std     1.191945e+07                     NaN                     NaN   \n",
       "min     8.170000e+02                     NaN                     NaN   \n",
       "25%     2.104073e+08                     NaN                     NaN   \n",
       "50%     2.205108e+08                     NaN                     NaN   \n",
       "75%     2.304119e+08                     NaN                     NaN   \n",
       "max     2.499046e+08                     NaN                     NaN   \n",
       "\n",
       "             TIME OCC           AREA AREA NAME    Rpt Dist No       Part 1-2  \\\n",
       "count   910707.000000  910707.000000    910707  910707.000000  910707.000000   \n",
       "unique            NaN            NaN        21            NaN            NaN   \n",
       "top               NaN            NaN   Central            NaN            NaN   \n",
       "freq              NaN            NaN     62071            NaN            NaN   \n",
       "mean      1337.042061      10.698686       NaN    1116.307327       1.410830   \n",
       "std        652.903148       6.102210       NaN     610.237433       0.491985   \n",
       "min          1.000000       1.000000       NaN     101.000000       1.000000   \n",
       "25%        900.000000       5.000000       NaN     589.000000       1.000000   \n",
       "50%       1415.000000      11.000000       NaN    1141.000000       1.000000   \n",
       "75%       1900.000000      16.000000       NaN    1615.000000       2.000000   \n",
       "max       2359.000000      21.000000       NaN    2199.000000       2.000000   \n",
       "\n",
       "               Crm Cd       Crm Cd Desc  ...  Status  Status Desc  \\\n",
       "count   910707.000000            910707  ...  910707       910707   \n",
       "unique            NaN               139  ...       6            6   \n",
       "top               NaN  VEHICLE - STOLEN  ...      IC  Invest Cont   \n",
       "freq              NaN             97716  ...  728546       728546   \n",
       "mean       500.809825               NaN  ...     NaN          NaN   \n",
       "std        207.606033               NaN  ...     NaN          NaN   \n",
       "min        110.000000               NaN  ...     NaN          NaN   \n",
       "25%        331.000000               NaN  ...     NaN          NaN   \n",
       "50%        442.000000               NaN  ...     NaN          NaN   \n",
       "75%        626.000000               NaN  ...     NaN          NaN   \n",
       "max        956.000000               NaN  ...     NaN          NaN   \n",
       "\n",
       "             Crm Cd 1      Crm Cd 2     Crm Cd 3   Crm Cd 4  \\\n",
       "count   910696.000000  66335.000000  2237.000000   64.00000   \n",
       "unique            NaN           NaN          NaN        NaN   \n",
       "top               NaN           NaN          NaN        NaN   \n",
       "freq              NaN           NaN          NaN        NaN   \n",
       "mean       500.552370    957.968222   983.913724  991.21875   \n",
       "std        207.397779    110.627785    52.032905   27.06985   \n",
       "min        110.000000    210.000000   310.000000  821.00000   \n",
       "25%        331.000000    998.000000   998.000000  998.00000   \n",
       "50%        442.000000    998.000000   998.000000  998.00000   \n",
       "75%        626.000000    998.000000   998.000000  998.00000   \n",
       "max        956.000000    999.000000   999.000000  999.00000   \n",
       "\n",
       "                                      LOCATION Cross Street            LAT  \\\n",
       "count                                   910707       143332  910707.000000   \n",
       "unique                                   65177        10059            NaN   \n",
       "top     800 N  ALAMEDA                      ST     BROADWAY            NaN   \n",
       "freq                                      1728         2362            NaN   \n",
       "mean                                       NaN          NaN      33.989025   \n",
       "std                                        NaN          NaN       1.700407   \n",
       "min                                        NaN          NaN       0.000000   \n",
       "25%                                        NaN          NaN      34.014500   \n",
       "50%                                        NaN          NaN      34.058600   \n",
       "75%                                        NaN          NaN      34.163400   \n",
       "max                                        NaN          NaN      34.334300   \n",
       "\n",
       "                  LON  \n",
       "count   910707.000000  \n",
       "unique            NaN  \n",
       "top               NaN  \n",
       "freq              NaN  \n",
       "mean      -118.059907  \n",
       "std          5.894676  \n",
       "min       -118.667600  \n",
       "25%       -118.429600  \n",
       "50%       -118.321600  \n",
       "75%       -118.273900  \n",
       "max          0.000000  \n",
       "\n",
       "[11 rows x 28 columns]"
      ]
     },
     "execution_count": 7,
     "metadata": {},
     "output_type": "execute_result"
    }
   ],
   "source": [
    "crime.describe(include=\"all\")"
   ]
  },
  {
   "cell_type": "code",
   "execution_count": 8,
   "id": "bc9ed33e",
   "metadata": {},
   "outputs": [
    {
     "data": {
      "text/plain": [
       "Vict Sex\n",
       "M    373417\n",
       "F    332804\n",
       "X     83347\n",
       "H       103\n",
       "-         1\n",
       "Name: count, dtype: int64"
      ]
     },
     "execution_count": 8,
     "metadata": {},
     "output_type": "execute_result"
    }
   ],
   "source": [
    "#summarizing stats\n",
    "#age distribution of victims\n",
    "crime['Vict Sex'].value_counts()"
   ]
  },
  {
   "cell_type": "code",
   "execution_count": 9,
   "id": "c769e885",
   "metadata": {},
   "outputs": [
    {
     "data": {
      "text/plain": [
       "<Axes: ylabel='count'>"
      ]
     },
     "execution_count": 9,
     "metadata": {},
     "output_type": "execute_result"
    },
    {
     "data": {
      "image/png": "[encoded data removed]",
      "text/plain": [
       "<Figure size 600x600 with 1 Axes>"
      ]
     },
     "metadata": {},
     "output_type": "display_data"
    }
   ],
   "source": [
    "crime['Vict Sex'].value_counts().plot(kind = 'pie', figsize =(6,6))"
   ]
  },
  {
   "cell_type": "code",
   "execution_count": 10,
   "id": "7c176939",
   "metadata": {},
   "outputs": [
    {
     "data": {
      "text/plain": [
       "Vict Age\n",
       "0     229674\n",
       "30     20613\n",
       "35     20236\n",
       "31     19705\n",
       "29     19667\n",
       "Name: count, dtype: int64"
      ]
     },
     "execution_count": 10,
     "metadata": {},
     "output_type": "execute_result"
    }
   ],
   "source": [
    "#age distribution\n",
    "crime['Vict Age'].value_counts(). sort_values(ascending = False).head(5)"
   ]
  },
  {
   "cell_type": "code",
   "execution_count": 11,
   "id": "01605170",
   "metadata": {},
   "outputs": [
    {
     "data": {
      "text/plain": [
       "<Axes: xlabel='Vict Age'>"
      ]
     },
     "execution_count": 11,
     "metadata": {},
     "output_type": "execute_result"
    },
    {
     "data": {
      "image/png": "[encoded data removed]",
      "text/plain": [
       "<Figure size 640x480 with 1 Axes>"
      ]
     },
     "metadata": {},
     "output_type": "display_data"
    }
   ],
   "source": [
    "crime['Vict Age'].value_counts().head(5).plot(kind = 'bar')"
   ]
  },
  {
   "cell_type": "code",
   "execution_count": 14,
   "id": "4479372b",
   "metadata": {},
   "outputs": [
    {
     "data": {
      "text/plain": [
       "Date Rptd\n",
       "02/03/2023 12:00:00 AM    925\n",
       "02/02/2023 12:00:00 AM    921\n",
       "01/03/2023 12:00:00 AM    913\n",
       "05/02/2022 12:00:00 AM    909\n",
       "04/04/2022 12:00:00 AM    883\n",
       "Name: DR_NO, dtype: int64"
      ]
     },
     "execution_count": 14,
     "metadata": {},
     "output_type": "execute_result"
    }
   ],
   "source": [
    "# top dates of reported crimes\n",
    "date_rptd1 = crime.groupby('Date Rptd')['DR_NO'].count().sort_values(ascending = False).head(5)\n",
    "date_rptd1"
   ]
  },
  {
   "cell_type": "code",
   "execution_count": 15,
   "id": "2675c148",
   "metadata": {},
   "outputs": [
    {
     "data": {
      "text/plain": [
       "<Axes: xlabel='Date Rptd'>"
      ]
     },
     "execution_count": 15,
     "metadata": {},
     "output_type": "execute_result"
    },
    {
     "data": {
      "image/png": "[encoded data removed]",
      "text/plain": [
       "<Figure size 640x480 with 1 Axes>"
      ]
     },
     "metadata": {},
     "output_type": "display_data"
    }
   ],
   "source": [
    "date_rptd1.plot(kind = 'bar')"
   ]
  },
  {
   "cell_type": "code",
   "execution_count": 16,
   "id": "3bb3b64a",
   "metadata": {},
   "outputs": [
    {
     "data": {
      "text/plain": [
       "DATE OCC\n",
       "01/01/2020 12:00:00 AM    1133\n",
       "12/02/2022 12:00:00 AM    1132\n",
       "01/01/2023 12:00:00 AM    1109\n",
       "02/01/2023 12:00:00 AM    1086\n",
       "10/01/2022 12:00:00 AM    1072\n",
       "Name: DR_NO, dtype: int64"
      ]
     },
     "execution_count": 16,
     "metadata": {},
     "output_type": "execute_result"
    }
   ],
   "source": [
    "#top dates of occurence of crime\n",
    "date_occ1 = crime.groupby('DATE OCC')['DR_NO'].count().sort_values(ascending = False).head(5)\n",
    "date_occ1"
   ]
  },
  {
   "cell_type": "code",
   "execution_count": 18,
   "id": "90478db7",
   "metadata": {},
   "outputs": [
    {
     "data": {
      "text/plain": [
       "<Axes: xlabel='DATE OCC'>"
      ]
     },
     "execution_count": 18,
     "metadata": {},
     "output_type": "execute_result"
    },
    {
     "data": {
      "image/png": "[encoded data removed]",
      "text/plain": [
       "<Figure size 640x480 with 1 Axes>"
      ]
     },
     "metadata": {},
     "output_type": "display_data"
    }
   ],
   "source": [
    "date_occ1.plot(kind = 'bar')"
   ]
  },
  {
   "cell_type": "code",
   "execution_count": 22,
   "id": "b8096b96",
   "metadata": {},
   "outputs": [
    {
     "data": {
      "text/plain": [
       "TIME OCC\n",
       "1200    32188\n",
       "1800    24127\n",
       "1700    22886\n",
       "2000    22339\n",
       "1900    20806\n",
       "Name: DR_NO, dtype: int64"
      ]
     },
     "execution_count": 22,
     "metadata": {},
     "output_type": "execute_result"
    }
   ],
   "source": [
    "#top time of crime occurence\n",
    "time_occ1 = crime.groupby('TIME OCC')['DR_NO'].count().sort_values(ascending = False).head(5)\n",
    "time_occ1"
   ]
  },
  {
   "cell_type": "code",
   "execution_count": 23,
   "id": "73f3996f",
   "metadata": {},
   "outputs": [
    {
     "data": {
      "text/plain": [
       "<Axes: xlabel='TIME OCC'>"
      ]
     },
     "execution_count": 23,
     "metadata": {},
     "output_type": "execute_result"
    },
    {
     "data": {
      "image/png": "[encoded data removed]",
      "text/plain": [
       "<Figure size 640x480 with 1 Axes>"
      ]
     },
     "metadata": {},
     "output_type": "display_data"
    }
   ],
   "source": [
    "time_occ1.plot(kind = 'bar')"
   ]
  },
  {
   "cell_type": "code",
   "execution_count": 24,
   "id": "3aeb915b",
   "metadata": {},
   "outputs": [
    {
     "data": {
      "text/plain": [
       "AREA NAME\n",
       "Central        62071\n",
       "77th Street    56887\n",
       "Pacific        53098\n",
       "Southwest      51174\n",
       "Hollywood      47934\n",
       "Name: DR_NO, dtype: int64"
      ]
     },
     "execution_count": 24,
     "metadata": {},
     "output_type": "execute_result"
    }
   ],
   "source": [
    "#area name where most crimes occur\n",
    "top_area1 = crime.groupby('AREA NAME')['DR_NO'].count().sort_values(ascending = False).head(5)\n",
    "top_area1"
   ]
  },
  {
   "cell_type": "code",
   "execution_count": 25,
   "id": "b1a934cd",
   "metadata": {},
   "outputs": [
    {
     "data": {
      "text/plain": [
       "<Axes: xlabel='AREA NAME'>"
      ]
     },
     "execution_count": 25,
     "metadata": {},
     "output_type": "execute_result"
    },
    {
     "data": {
      "image/png": "[encoded data removed]",
      "text/plain": [
       "<Figure size 640x480 with 1 Axes>"
      ]
     },
     "metadata": {},
     "output_type": "display_data"
    }
   ],
   "source": [
    "top_area1.plot(kind = 'bar')"
   ]
  },
  {
   "cell_type": "code",
   "execution_count": 27,
   "id": "9e5bd942",
   "metadata": {},
   "outputs": [
    {
     "data": {
      "text/plain": [
       "Crm Cd Desc\n",
       "VEHICLE - STOLEN            97716\n",
       "BATTERY - SIMPLE ASSAULT    72353\n",
       "THEFT OF IDENTITY           56254\n",
       "BURGLARY FROM VEHICLE       56134\n",
       "BURGLARY                    55862\n",
       "Name: DR_NO, dtype: int64"
      ]
     },
     "execution_count": 27,
     "metadata": {},
     "output_type": "execute_result"
    }
   ],
   "source": [
    "#top crimes\n",
    "crime_desc = crime.groupby('Crm Cd Desc')['DR_NO'].count().sort_values(ascending = False).head(5)\n",
    "crime_desc"
   ]
  },
  {
   "cell_type": "code",
   "execution_count": 28,
   "id": "3e45b889",
   "metadata": {},
   "outputs": [
    {
     "data": {
      "text/plain": [
       "<Axes: xlabel='Crm Cd Desc'>"
      ]
     },
     "execution_count": 28,
     "metadata": {},
     "output_type": "execute_result"
    },
    {
     "data": {
      "image/png": "[encoded data removed]",
      "text/plain": [
       "<Figure size 640x480 with 1 Axes>"
      ]
     },
     "metadata": {},
     "output_type": "display_data"
    }
   ],
   "source": [
    "crime_desc.plot(kind = 'bar')"
   ]
  },
  {
   "cell_type": "code",
   "execution_count": 31,
   "id": "93544e0d",
   "metadata": {},
   "outputs": [
    {
     "data": {
      "text/plain": [
       "Vict Descent\n",
       "H    277284\n",
       "W    184107\n",
       "B    127950\n",
       "X     91720\n",
       "O     71864\n",
       "Name: DR_NO, dtype: int64"
      ]
     },
     "execution_count": 31,
     "metadata": {},
     "output_type": "execute_result"
    }
   ],
   "source": [
    "#victim descent by crimes\n",
    "descent1 = crime.groupby('Vict Descent')['DR_NO'].count().sort_values(ascending = False).head(5)\n",
    "descent1"
   ]
  },
  {
   "cell_type": "code",
   "execution_count": 32,
   "id": "87298a26",
   "metadata": {},
   "outputs": [
    {
     "data": {
      "text/plain": [
       "<Axes: xlabel='Vict Descent'>"
      ]
     },
     "execution_count": 32,
     "metadata": {},
     "output_type": "execute_result"
    },
    {
     "data": {
      "image/png": "[encoded data removed]",
      "text/plain": [
       "<Figure size 640x480 with 1 Axes>"
      ]
     },
     "metadata": {},
     "output_type": "display_data"
    }
   ],
   "source": [
    "descent1.plot(kind = 'bar')"
   ]
  },
  {
   "cell_type": "code",
   "execution_count": 33,
   "id": "79d030c9",
   "metadata": {},
   "outputs": [
    {
     "data": {
      "text/plain": [
       "Premis Desc\n",
       "STREET                                          230836\n",
       "SINGLE FAMILY DWELLING                          153511\n",
       "MULTI-UNIT DWELLING (APARTMENT, DUPLEX, ETC)    111287\n",
       "PARKING LOT                                      63005\n",
       "OTHER BUSINESS                                   43371\n",
       "Name: DR_NO, dtype: int64"
      ]
     },
     "execution_count": 33,
     "metadata": {},
     "output_type": "execute_result"
    }
   ],
   "source": [
    "#premises by crimes\n",
    "premis1 = crime.groupby(\"Premis Desc\")['DR_NO'].count().sort_values(ascending = False).head(5)\n",
    "premis1"
   ]
  },
  {
   "cell_type": "code",
   "execution_count": 34,
   "id": "02401c26",
   "metadata": {},
   "outputs": [
    {
     "data": {
      "text/plain": [
       "<Axes: xlabel='Premis Desc'>"
      ]
     },
     "execution_count": 34,
     "metadata": {},
     "output_type": "execute_result"
    },
    {
     "data": {
      "image/png": "[encoded data removed]",
      "text/plain": [
       "<Figure size 640x480 with 1 Axes>"
      ]
     },
     "metadata": {},
     "output_type": "display_data"
    }
   ],
   "source": [
    "premis1.plot(kind = 'bar')"
   ]
  },
  {
   "cell_type": "code",
   "execution_count": 35,
   "id": "6afa4b95",
   "metadata": {},
   "outputs": [
    {
     "data": {
      "text/plain": [
       "Weapon Desc\n",
       "STRONG-ARM (HANDS, FIST, FEET OR BODILY FORCE)    168842\n",
       "UNKNOWN WEAPON/OTHER WEAPON                        34122\n",
       "VERBAL THREAT                                      23085\n",
       "HAND GUN                                           19509\n",
       "SEMI-AUTOMATIC PISTOL                               7042\n",
       "Name: DR_NO, dtype: int64"
      ]
     },
     "execution_count": 35,
     "metadata": {},
     "output_type": "execute_result"
    }
   ],
   "source": [
    "#weapon by crimes\n",
    "weapon1 = crime.groupby('Weapon Desc')['DR_NO'].count().sort_values(ascending = False).head(5)\n",
    "weapon1"
   ]
  },
  {
   "cell_type": "code",
   "execution_count": 36,
   "id": "e36dd55d",
   "metadata": {},
   "outputs": [
    {
     "data": {
      "text/plain": [
       "<Axes: xlabel='Weapon Desc'>"
      ]
     },
     "execution_count": 36,
     "metadata": {},
     "output_type": "execute_result"
    },
    {
     "data": {
      "image/png": "[encoded data removed]",
      "text/plain": [
       "<Figure size 640x480 with 1 Axes>"
      ]
     },
     "metadata": {},
     "output_type": "display_data"
    }
   ],
   "source": [
    "weapon1.plot(kind = 'bar')"
   ]
  },
  {
   "cell_type": "code",
   "execution_count": 38,
   "id": "19d6cc8f",
   "metadata": {},
   "outputs": [
    {
     "data": {
      "text/plain": [
       "Status Desc\n",
       "Invest Cont     728546\n",
       "Adult Other      98503\n",
       "Adult Arrest     79057\n",
       "Juv Arrest        2964\n",
       "Juv Other         1632\n",
       "UNK                  5\n",
       "Name: DR_NO, dtype: int64"
      ]
     },
     "execution_count": 38,
     "metadata": {},
     "output_type": "execute_result"
    }
   ],
   "source": [
    "#status by crimes\n",
    "status1 = crime.groupby('Status Desc')['DR_NO'].count().sort_values(ascending = False)\n",
    "status1"
   ]
  },
  {
   "cell_type": "code",
   "execution_count": 39,
   "id": "02d33d38",
   "metadata": {},
   "outputs": [
    {
     "data": {
      "text/plain": [
       "<Axes: xlabel='Status Desc'>"
      ]
     },
     "execution_count": 39,
     "metadata": {},
     "output_type": "execute_result"
    },
    {
     "data": {
      "image/png": "[encoded data removed]",
      "text/plain": [
       "<Figure size 640x480 with 1 Axes>"
      ]
     },
     "metadata": {},
     "output_type": "display_data"
    }
   ],
   "source": [
    "status1.plot(kind = 'bar')"
   ]
  },
  {
   "cell_type": "code",
   "execution_count": 40,
   "id": "17d57ad5",
   "metadata": {},
   "outputs": [
    {
     "data": {
      "text/plain": [
       "LOCATION\n",
       "800 N  ALAMEDA                      ST      1728\n",
       "6TH                          ST             1528\n",
       "10200    SANTA MONICA                 BL    1458\n",
       "7TH                          ST             1442\n",
       "7TH                                         1411\n",
       "Name: DR_NO, dtype: int64"
      ]
     },
     "execution_count": 40,
     "metadata": {},
     "output_type": "execute_result"
    }
   ],
   "source": [
    "#location by crimes\n",
    "location1 = crime.groupby('LOCATION')['DR_NO'].count().sort_values(ascending = False).head(5)\n",
    "location1"
   ]
  },
  {
   "cell_type": "code",
   "execution_count": 41,
   "id": "2252a1a1",
   "metadata": {},
   "outputs": [
    {
     "data": {
      "text/plain": [
       "<Axes: xlabel='LOCATION'>"
      ]
     },
     "execution_count": 41,
     "metadata": {},
     "output_type": "execute_result"
    },
    {
     "data": {
      "image/png": "[encoded data removed]",
      "text/plain": [
       "<Figure size 640x480 with 1 Axes>"
      ]
     },
     "metadata": {},
     "output_type": "display_data"
    }
   ],
   "source": [
    "location1.plot(kind = 'bar')"
   ]
  },
  {
   "cell_type": "code",
   "execution_count": 42,
   "id": "cb21d73d",
   "metadata": {},
   "outputs": [
    {
     "data": {
      "text/plain": [
       "Cross Street\n",
       "BROADWAY                           2362\n",
       "FIGUEROA                     ST    1811\n",
       "FIGUEROA                           1534\n",
       "VERMONT                      AV    1522\n",
       "WESTERN                      AV    1409\n",
       "Name: DR_NO, dtype: int64"
      ]
     },
     "execution_count": 42,
     "metadata": {},
     "output_type": "execute_result"
    }
   ],
   "source": [
    "#cross street by crimes\n",
    "cross_street1 = crime.groupby('Cross Street')['DR_NO'].count().sort_values(ascending = False).head(5)\n",
    "cross_street1"
   ]
  },
  {
   "cell_type": "code",
   "execution_count": 43,
   "id": "02043613",
   "metadata": {},
   "outputs": [
    {
     "data": {
      "text/plain": [
       "<Axes: xlabel='Cross Street'>"
      ]
     },
     "execution_count": 43,
     "metadata": {},
     "output_type": "execute_result"
    },
    {
     "data": {
      "image/png": "[encoded data removed]",
      "text/plain": [
       "<Figure size 640x480 with 1 Axes>"
      ]
     },
     "metadata": {},
     "output_type": "display_data"
    }
   ],
   "source": [
    "cross_street1.plot(kind = 'bar')"
   ]
  },
  {
   "cell_type": "code",
   "execution_count": null,
   "id": "80806853",
   "metadata": {},
   "outputs": [],
   "source": []
  }
 ],
 "metadata": {
  "kernelspec": {
   "display_name": "Python 3 (ipykernel)",
   "language": "python",
   "name": "python3"
  },
  "language_info": {
   "codemirror_mode": {
    "name": "ipython",
    "version": 3
   },
   "file_extension": ".py",
   "mimetype": "text/x-python",
   "name": "python",
   "nbconvert_exporter": "python",
   "pygments_lexer": "ipython3",
   "version": "3.11.5"
  }
 },
 "nbformat": 4,
 "nbformat_minor": 5
}
