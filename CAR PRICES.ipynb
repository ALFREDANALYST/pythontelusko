{
 "cells": [
  {
   "cell_type": "code",
   "execution_count": 1,
   "id": "53be70bd",
   "metadata": {},
   "outputs": [],
   "source": [
    "import pandas as pd\n",
    "import numpy as np\n",
    "import seaborn as sns\n",
    "import matplotlib.pyplot as plt\n",
    "%matplotlib inline\n",
    "sns.set(color_codes=True)"
   ]
  },
  {
   "cell_type": "code",
   "execution_count": 2,
   "id": "f7965724",
   "metadata": {},
   "outputs": [
    {
     "data": {
      "text/html": [
       "<div>\n",
       "<style scoped>\n",
       "    .dataframe tbody tr th:only-of-type {\n",
       "        vertical-align: middle;\n",
       "    }\n",
       "\n",
       "    .dataframe tbody tr th {\n",
       "        vertical-align: top;\n",
       "    }\n",
       "\n",
       "    .dataframe thead th {\n",
       "        text-align: right;\n",
       "    }\n",
       "</style>\n",
       "<table border=\"1\" class=\"dataframe\">\n",
       "  <thead>\n",
       "    <tr style=\"text-align: right;\">\n",
       "      <th></th>\n",
       "      <th>year</th>\n",
       "      <th>make</th>\n",
       "      <th>model</th>\n",
       "      <th>trim</th>\n",
       "      <th>body</th>\n",
       "      <th>transmission</th>\n",
       "      <th>vin</th>\n",
       "      <th>state</th>\n",
       "      <th>condition</th>\n",
       "      <th>odometer</th>\n",
       "      <th>color</th>\n",
       "      <th>interior</th>\n",
       "      <th>seller</th>\n",
       "      <th>mmr</th>\n",
       "      <th>sellingprice</th>\n",
       "      <th>saledate</th>\n",
       "    </tr>\n",
       "  </thead>\n",
       "  <tbody>\n",
       "    <tr>\n",
       "      <th>0</th>\n",
       "      <td>2015</td>\n",
       "      <td>Kia</td>\n",
       "      <td>Sorento</td>\n",
       "      <td>LX</td>\n",
       "      <td>SUV</td>\n",
       "      <td>automatic</td>\n",
       "      <td>5xyktca69fg566472</td>\n",
       "      <td>ca</td>\n",
       "      <td>5.0</td>\n",
       "      <td>16639.0</td>\n",
       "      <td>white</td>\n",
       "      <td>black</td>\n",
       "      <td>kia motors america  inc</td>\n",
       "      <td>20500.0</td>\n",
       "      <td>21500.0</td>\n",
       "      <td>Tue Dec 16 2014 12:30:00 GMT-0800 (PST)</td>\n",
       "    </tr>\n",
       "    <tr>\n",
       "      <th>1</th>\n",
       "      <td>2015</td>\n",
       "      <td>Kia</td>\n",
       "      <td>Sorento</td>\n",
       "      <td>LX</td>\n",
       "      <td>SUV</td>\n",
       "      <td>automatic</td>\n",
       "      <td>5xyktca69fg561319</td>\n",
       "      <td>ca</td>\n",
       "      <td>5.0</td>\n",
       "      <td>9393.0</td>\n",
       "      <td>white</td>\n",
       "      <td>beige</td>\n",
       "      <td>kia motors america  inc</td>\n",
       "      <td>20800.0</td>\n",
       "      <td>21500.0</td>\n",
       "      <td>Tue Dec 16 2014 12:30:00 GMT-0800 (PST)</td>\n",
       "    </tr>\n",
       "    <tr>\n",
       "      <th>2</th>\n",
       "      <td>2014</td>\n",
       "      <td>BMW</td>\n",
       "      <td>3 Series</td>\n",
       "      <td>328i SULEV</td>\n",
       "      <td>Sedan</td>\n",
       "      <td>automatic</td>\n",
       "      <td>wba3c1c51ek116351</td>\n",
       "      <td>ca</td>\n",
       "      <td>45.0</td>\n",
       "      <td>1331.0</td>\n",
       "      <td>gray</td>\n",
       "      <td>black</td>\n",
       "      <td>financial services remarketing (lease)</td>\n",
       "      <td>31900.0</td>\n",
       "      <td>30000.0</td>\n",
       "      <td>Thu Jan 15 2015 04:30:00 GMT-0800 (PST)</td>\n",
       "    </tr>\n",
       "    <tr>\n",
       "      <th>3</th>\n",
       "      <td>2015</td>\n",
       "      <td>Volvo</td>\n",
       "      <td>S60</td>\n",
       "      <td>T5</td>\n",
       "      <td>Sedan</td>\n",
       "      <td>automatic</td>\n",
       "      <td>yv1612tb4f1310987</td>\n",
       "      <td>ca</td>\n",
       "      <td>41.0</td>\n",
       "      <td>14282.0</td>\n",
       "      <td>white</td>\n",
       "      <td>black</td>\n",
       "      <td>volvo na rep/world omni</td>\n",
       "      <td>27500.0</td>\n",
       "      <td>27750.0</td>\n",
       "      <td>Thu Jan 29 2015 04:30:00 GMT-0800 (PST)</td>\n",
       "    </tr>\n",
       "    <tr>\n",
       "      <th>4</th>\n",
       "      <td>2014</td>\n",
       "      <td>BMW</td>\n",
       "      <td>6 Series Gran Coupe</td>\n",
       "      <td>650i</td>\n",
       "      <td>Sedan</td>\n",
       "      <td>automatic</td>\n",
       "      <td>wba6b2c57ed129731</td>\n",
       "      <td>ca</td>\n",
       "      <td>43.0</td>\n",
       "      <td>2641.0</td>\n",
       "      <td>gray</td>\n",
       "      <td>black</td>\n",
       "      <td>financial services remarketing (lease)</td>\n",
       "      <td>66000.0</td>\n",
       "      <td>67000.0</td>\n",
       "      <td>Thu Dec 18 2014 12:30:00 GMT-0800 (PST)</td>\n",
       "    </tr>\n",
       "    <tr>\n",
       "      <th>...</th>\n",
       "      <td>...</td>\n",
       "      <td>...</td>\n",
       "      <td>...</td>\n",
       "      <td>...</td>\n",
       "      <td>...</td>\n",
       "      <td>...</td>\n",
       "      <td>...</td>\n",
       "      <td>...</td>\n",
       "      <td>...</td>\n",
       "      <td>...</td>\n",
       "      <td>...</td>\n",
       "      <td>...</td>\n",
       "      <td>...</td>\n",
       "      <td>...</td>\n",
       "      <td>...</td>\n",
       "      <td>...</td>\n",
       "    </tr>\n",
       "    <tr>\n",
       "      <th>558832</th>\n",
       "      <td>2015</td>\n",
       "      <td>Kia</td>\n",
       "      <td>K900</td>\n",
       "      <td>Luxury</td>\n",
       "      <td>Sedan</td>\n",
       "      <td>NaN</td>\n",
       "      <td>knalw4d4xf6019304</td>\n",
       "      <td>in</td>\n",
       "      <td>45.0</td>\n",
       "      <td>18255.0</td>\n",
       "      <td>silver</td>\n",
       "      <td>black</td>\n",
       "      <td>avis corporation</td>\n",
       "      <td>35300.0</td>\n",
       "      <td>33000.0</td>\n",
       "      <td>Thu Jul 09 2015 07:00:00 GMT-0700 (PDT)</td>\n",
       "    </tr>\n",
       "    <tr>\n",
       "      <th>558833</th>\n",
       "      <td>2012</td>\n",
       "      <td>Ram</td>\n",
       "      <td>2500</td>\n",
       "      <td>Power Wagon</td>\n",
       "      <td>Crew Cab</td>\n",
       "      <td>automatic</td>\n",
       "      <td>3c6td5et6cg112407</td>\n",
       "      <td>wa</td>\n",
       "      <td>5.0</td>\n",
       "      <td>54393.0</td>\n",
       "      <td>white</td>\n",
       "      <td>black</td>\n",
       "      <td>i -5 uhlmann rv</td>\n",
       "      <td>30200.0</td>\n",
       "      <td>30800.0</td>\n",
       "      <td>Wed Jul 08 2015 09:30:00 GMT-0700 (PDT)</td>\n",
       "    </tr>\n",
       "    <tr>\n",
       "      <th>558834</th>\n",
       "      <td>2012</td>\n",
       "      <td>BMW</td>\n",
       "      <td>X5</td>\n",
       "      <td>xDrive35d</td>\n",
       "      <td>SUV</td>\n",
       "      <td>automatic</td>\n",
       "      <td>5uxzw0c58cl668465</td>\n",
       "      <td>ca</td>\n",
       "      <td>48.0</td>\n",
       "      <td>50561.0</td>\n",
       "      <td>black</td>\n",
       "      <td>black</td>\n",
       "      <td>financial services remarketing (lease)</td>\n",
       "      <td>29800.0</td>\n",
       "      <td>34000.0</td>\n",
       "      <td>Wed Jul 08 2015 09:30:00 GMT-0700 (PDT)</td>\n",
       "    </tr>\n",
       "    <tr>\n",
       "      <th>558835</th>\n",
       "      <td>2015</td>\n",
       "      <td>Nissan</td>\n",
       "      <td>Altima</td>\n",
       "      <td>2.5 S</td>\n",
       "      <td>sedan</td>\n",
       "      <td>automatic</td>\n",
       "      <td>1n4al3ap0fc216050</td>\n",
       "      <td>ga</td>\n",
       "      <td>38.0</td>\n",
       "      <td>16658.0</td>\n",
       "      <td>white</td>\n",
       "      <td>black</td>\n",
       "      <td>enterprise vehicle exchange / tra / rental / t...</td>\n",
       "      <td>15100.0</td>\n",
       "      <td>11100.0</td>\n",
       "      <td>Thu Jul 09 2015 06:45:00 GMT-0700 (PDT)</td>\n",
       "    </tr>\n",
       "    <tr>\n",
       "      <th>558836</th>\n",
       "      <td>2014</td>\n",
       "      <td>Ford</td>\n",
       "      <td>F-150</td>\n",
       "      <td>XLT</td>\n",
       "      <td>SuperCrew</td>\n",
       "      <td>automatic</td>\n",
       "      <td>1ftfw1et2eke87277</td>\n",
       "      <td>ca</td>\n",
       "      <td>34.0</td>\n",
       "      <td>15008.0</td>\n",
       "      <td>gray</td>\n",
       "      <td>gray</td>\n",
       "      <td>ford motor credit company llc pd</td>\n",
       "      <td>29600.0</td>\n",
       "      <td>26700.0</td>\n",
       "      <td>Thu May 28 2015 05:30:00 GMT-0700 (PDT)</td>\n",
       "    </tr>\n",
       "  </tbody>\n",
       "</table>\n",
       "<p>558837 rows × 16 columns</p>\n",
       "</div>"
      ],
      "text/plain": [
       "        year    make                model         trim       body  \\\n",
       "0       2015     Kia              Sorento           LX        SUV   \n",
       "1       2015     Kia              Sorento           LX        SUV   \n",
       "2       2014     BMW             3 Series   328i SULEV      Sedan   \n",
       "3       2015   Volvo                  S60           T5      Sedan   \n",
       "4       2014     BMW  6 Series Gran Coupe         650i      Sedan   \n",
       "...      ...     ...                  ...          ...        ...   \n",
       "558832  2015     Kia                 K900       Luxury      Sedan   \n",
       "558833  2012     Ram                 2500  Power Wagon   Crew Cab   \n",
       "558834  2012     BMW                   X5    xDrive35d        SUV   \n",
       "558835  2015  Nissan               Altima        2.5 S      sedan   \n",
       "558836  2014    Ford                F-150          XLT  SuperCrew   \n",
       "\n",
       "       transmission                vin state  condition  odometer   color  \\\n",
       "0         automatic  5xyktca69fg566472    ca        5.0   16639.0   white   \n",
       "1         automatic  5xyktca69fg561319    ca        5.0    9393.0   white   \n",
       "2         automatic  wba3c1c51ek116351    ca       45.0    1331.0    gray   \n",
       "3         automatic  yv1612tb4f1310987    ca       41.0   14282.0   white   \n",
       "4         automatic  wba6b2c57ed129731    ca       43.0    2641.0    gray   \n",
       "...             ...                ...   ...        ...       ...     ...   \n",
       "558832          NaN  knalw4d4xf6019304    in       45.0   18255.0  silver   \n",
       "558833    automatic  3c6td5et6cg112407    wa        5.0   54393.0   white   \n",
       "558834    automatic  5uxzw0c58cl668465    ca       48.0   50561.0   black   \n",
       "558835    automatic  1n4al3ap0fc216050    ga       38.0   16658.0   white   \n",
       "558836    automatic  1ftfw1et2eke87277    ca       34.0   15008.0    gray   \n",
       "\n",
       "       interior                                             seller      mmr  \\\n",
       "0         black                            kia motors america  inc  20500.0   \n",
       "1         beige                            kia motors america  inc  20800.0   \n",
       "2         black             financial services remarketing (lease)  31900.0   \n",
       "3         black                            volvo na rep/world omni  27500.0   \n",
       "4         black             financial services remarketing (lease)  66000.0   \n",
       "...         ...                                                ...      ...   \n",
       "558832    black                                   avis corporation  35300.0   \n",
       "558833    black                                    i -5 uhlmann rv  30200.0   \n",
       "558834    black             financial services remarketing (lease)  29800.0   \n",
       "558835    black  enterprise vehicle exchange / tra / rental / t...  15100.0   \n",
       "558836     gray                   ford motor credit company llc pd  29600.0   \n",
       "\n",
       "        sellingprice                                 saledate  \n",
       "0            21500.0  Tue Dec 16 2014 12:30:00 GMT-0800 (PST)  \n",
       "1            21500.0  Tue Dec 16 2014 12:30:00 GMT-0800 (PST)  \n",
       "2            30000.0  Thu Jan 15 2015 04:30:00 GMT-0800 (PST)  \n",
       "3            27750.0  Thu Jan 29 2015 04:30:00 GMT-0800 (PST)  \n",
       "4            67000.0  Thu Dec 18 2014 12:30:00 GMT-0800 (PST)  \n",
       "...              ...                                      ...  \n",
       "558832       33000.0  Thu Jul 09 2015 07:00:00 GMT-0700 (PDT)  \n",
       "558833       30800.0  Wed Jul 08 2015 09:30:00 GMT-0700 (PDT)  \n",
       "558834       34000.0  Wed Jul 08 2015 09:30:00 GMT-0700 (PDT)  \n",
       "558835       11100.0  Thu Jul 09 2015 06:45:00 GMT-0700 (PDT)  \n",
       "558836       26700.0  Thu May 28 2015 05:30:00 GMT-0700 (PDT)  \n",
       "\n",
       "[558837 rows x 16 columns]"
      ]
     },
     "execution_count": 2,
     "metadata": {},
     "output_type": "execute_result"
    }
   ],
   "source": [
    "car_prices = pd.read_csv(\"E:/PYTHON PROJECTS/car_prices.csv\")\n",
    "car_prices"
   ]
  },
  {
   "cell_type": "code",
   "execution_count": 3,
   "id": "26b14a07",
   "metadata": {},
   "outputs": [
    {
     "data": {
      "text/html": [
       "<div>\n",
       "<style scoped>\n",
       "    .dataframe tbody tr th:only-of-type {\n",
       "        vertical-align: middle;\n",
       "    }\n",
       "\n",
       "    .dataframe tbody tr th {\n",
       "        vertical-align: top;\n",
       "    }\n",
       "\n",
       "    .dataframe thead th {\n",
       "        text-align: right;\n",
       "    }\n",
       "</style>\n",
       "<table border=\"1\" class=\"dataframe\">\n",
       "  <thead>\n",
       "    <tr style=\"text-align: right;\">\n",
       "      <th></th>\n",
       "      <th>year</th>\n",
       "      <th>make</th>\n",
       "      <th>model</th>\n",
       "      <th>trim</th>\n",
       "      <th>body</th>\n",
       "      <th>transmission</th>\n",
       "      <th>vin</th>\n",
       "      <th>state</th>\n",
       "      <th>condition</th>\n",
       "      <th>odometer</th>\n",
       "      <th>color</th>\n",
       "      <th>interior</th>\n",
       "      <th>seller</th>\n",
       "      <th>mmr</th>\n",
       "      <th>sellingprice</th>\n",
       "    </tr>\n",
       "    <tr>\n",
       "      <th>saledate</th>\n",
       "      <th></th>\n",
       "      <th></th>\n",
       "      <th></th>\n",
       "      <th></th>\n",
       "      <th></th>\n",
       "      <th></th>\n",
       "      <th></th>\n",
       "      <th></th>\n",
       "      <th></th>\n",
       "      <th></th>\n",
       "      <th></th>\n",
       "      <th></th>\n",
       "      <th></th>\n",
       "      <th></th>\n",
       "      <th></th>\n",
       "    </tr>\n",
       "  </thead>\n",
       "  <tbody>\n",
       "    <tr>\n",
       "      <th>Tue Dec 16 2014 12:30:00 GMT-0800 (PST)</th>\n",
       "      <td>2015</td>\n",
       "      <td>Kia</td>\n",
       "      <td>Sorento</td>\n",
       "      <td>LX</td>\n",
       "      <td>SUV</td>\n",
       "      <td>automatic</td>\n",
       "      <td>5xyktca69fg566472</td>\n",
       "      <td>ca</td>\n",
       "      <td>5.0</td>\n",
       "      <td>16639.0</td>\n",
       "      <td>white</td>\n",
       "      <td>black</td>\n",
       "      <td>kia motors america  inc</td>\n",
       "      <td>20500.0</td>\n",
       "      <td>21500.0</td>\n",
       "    </tr>\n",
       "    <tr>\n",
       "      <th>Tue Dec 16 2014 12:30:00 GMT-0800 (PST)</th>\n",
       "      <td>2015</td>\n",
       "      <td>Kia</td>\n",
       "      <td>Sorento</td>\n",
       "      <td>LX</td>\n",
       "      <td>SUV</td>\n",
       "      <td>automatic</td>\n",
       "      <td>5xyktca69fg561319</td>\n",
       "      <td>ca</td>\n",
       "      <td>5.0</td>\n",
       "      <td>9393.0</td>\n",
       "      <td>white</td>\n",
       "      <td>beige</td>\n",
       "      <td>kia motors america  inc</td>\n",
       "      <td>20800.0</td>\n",
       "      <td>21500.0</td>\n",
       "    </tr>\n",
       "    <tr>\n",
       "      <th>Thu Jan 15 2015 04:30:00 GMT-0800 (PST)</th>\n",
       "      <td>2014</td>\n",
       "      <td>BMW</td>\n",
       "      <td>3 Series</td>\n",
       "      <td>328i SULEV</td>\n",
       "      <td>Sedan</td>\n",
       "      <td>automatic</td>\n",
       "      <td>wba3c1c51ek116351</td>\n",
       "      <td>ca</td>\n",
       "      <td>45.0</td>\n",
       "      <td>1331.0</td>\n",
       "      <td>gray</td>\n",
       "      <td>black</td>\n",
       "      <td>financial services remarketing (lease)</td>\n",
       "      <td>31900.0</td>\n",
       "      <td>30000.0</td>\n",
       "    </tr>\n",
       "    <tr>\n",
       "      <th>Thu Jan 29 2015 04:30:00 GMT-0800 (PST)</th>\n",
       "      <td>2015</td>\n",
       "      <td>Volvo</td>\n",
       "      <td>S60</td>\n",
       "      <td>T5</td>\n",
       "      <td>Sedan</td>\n",
       "      <td>automatic</td>\n",
       "      <td>yv1612tb4f1310987</td>\n",
       "      <td>ca</td>\n",
       "      <td>41.0</td>\n",
       "      <td>14282.0</td>\n",
       "      <td>white</td>\n",
       "      <td>black</td>\n",
       "      <td>volvo na rep/world omni</td>\n",
       "      <td>27500.0</td>\n",
       "      <td>27750.0</td>\n",
       "    </tr>\n",
       "    <tr>\n",
       "      <th>Thu Dec 18 2014 12:30:00 GMT-0800 (PST)</th>\n",
       "      <td>2014</td>\n",
       "      <td>BMW</td>\n",
       "      <td>6 Series Gran Coupe</td>\n",
       "      <td>650i</td>\n",
       "      <td>Sedan</td>\n",
       "      <td>automatic</td>\n",
       "      <td>wba6b2c57ed129731</td>\n",
       "      <td>ca</td>\n",
       "      <td>43.0</td>\n",
       "      <td>2641.0</td>\n",
       "      <td>gray</td>\n",
       "      <td>black</td>\n",
       "      <td>financial services remarketing (lease)</td>\n",
       "      <td>66000.0</td>\n",
       "      <td>67000.0</td>\n",
       "    </tr>\n",
       "    <tr>\n",
       "      <th>...</th>\n",
       "      <td>...</td>\n",
       "      <td>...</td>\n",
       "      <td>...</td>\n",
       "      <td>...</td>\n",
       "      <td>...</td>\n",
       "      <td>...</td>\n",
       "      <td>...</td>\n",
       "      <td>...</td>\n",
       "      <td>...</td>\n",
       "      <td>...</td>\n",
       "      <td>...</td>\n",
       "      <td>...</td>\n",
       "      <td>...</td>\n",
       "      <td>...</td>\n",
       "      <td>...</td>\n",
       "    </tr>\n",
       "    <tr>\n",
       "      <th>Thu Jul 09 2015 07:00:00 GMT-0700 (PDT)</th>\n",
       "      <td>2015</td>\n",
       "      <td>Kia</td>\n",
       "      <td>K900</td>\n",
       "      <td>Luxury</td>\n",
       "      <td>Sedan</td>\n",
       "      <td>NaN</td>\n",
       "      <td>knalw4d4xf6019304</td>\n",
       "      <td>in</td>\n",
       "      <td>45.0</td>\n",
       "      <td>18255.0</td>\n",
       "      <td>silver</td>\n",
       "      <td>black</td>\n",
       "      <td>avis corporation</td>\n",
       "      <td>35300.0</td>\n",
       "      <td>33000.0</td>\n",
       "    </tr>\n",
       "    <tr>\n",
       "      <th>Wed Jul 08 2015 09:30:00 GMT-0700 (PDT)</th>\n",
       "      <td>2012</td>\n",
       "      <td>Ram</td>\n",
       "      <td>2500</td>\n",
       "      <td>Power Wagon</td>\n",
       "      <td>Crew Cab</td>\n",
       "      <td>automatic</td>\n",
       "      <td>3c6td5et6cg112407</td>\n",
       "      <td>wa</td>\n",
       "      <td>5.0</td>\n",
       "      <td>54393.0</td>\n",
       "      <td>white</td>\n",
       "      <td>black</td>\n",
       "      <td>i -5 uhlmann rv</td>\n",
       "      <td>30200.0</td>\n",
       "      <td>30800.0</td>\n",
       "    </tr>\n",
       "    <tr>\n",
       "      <th>Wed Jul 08 2015 09:30:00 GMT-0700 (PDT)</th>\n",
       "      <td>2012</td>\n",
       "      <td>BMW</td>\n",
       "      <td>X5</td>\n",
       "      <td>xDrive35d</td>\n",
       "      <td>SUV</td>\n",
       "      <td>automatic</td>\n",
       "      <td>5uxzw0c58cl668465</td>\n",
       "      <td>ca</td>\n",
       "      <td>48.0</td>\n",
       "      <td>50561.0</td>\n",
       "      <td>black</td>\n",
       "      <td>black</td>\n",
       "      <td>financial services remarketing (lease)</td>\n",
       "      <td>29800.0</td>\n",
       "      <td>34000.0</td>\n",
       "    </tr>\n",
       "    <tr>\n",
       "      <th>Thu Jul 09 2015 06:45:00 GMT-0700 (PDT)</th>\n",
       "      <td>2015</td>\n",
       "      <td>Nissan</td>\n",
       "      <td>Altima</td>\n",
       "      <td>2.5 S</td>\n",
       "      <td>sedan</td>\n",
       "      <td>automatic</td>\n",
       "      <td>1n4al3ap0fc216050</td>\n",
       "      <td>ga</td>\n",
       "      <td>38.0</td>\n",
       "      <td>16658.0</td>\n",
       "      <td>white</td>\n",
       "      <td>black</td>\n",
       "      <td>enterprise vehicle exchange / tra / rental / t...</td>\n",
       "      <td>15100.0</td>\n",
       "      <td>11100.0</td>\n",
       "    </tr>\n",
       "    <tr>\n",
       "      <th>Thu May 28 2015 05:30:00 GMT-0700 (PDT)</th>\n",
       "      <td>2014</td>\n",
       "      <td>Ford</td>\n",
       "      <td>F-150</td>\n",
       "      <td>XLT</td>\n",
       "      <td>SuperCrew</td>\n",
       "      <td>automatic</td>\n",
       "      <td>1ftfw1et2eke87277</td>\n",
       "      <td>ca</td>\n",
       "      <td>34.0</td>\n",
       "      <td>15008.0</td>\n",
       "      <td>gray</td>\n",
       "      <td>gray</td>\n",
       "      <td>ford motor credit company llc pd</td>\n",
       "      <td>29600.0</td>\n",
       "      <td>26700.0</td>\n",
       "    </tr>\n",
       "  </tbody>\n",
       "</table>\n",
       "<p>558837 rows × 15 columns</p>\n",
       "</div>"
      ],
      "text/plain": [
       "                                         year    make                model  \\\n",
       "saledate                                                                     \n",
       "Tue Dec 16 2014 12:30:00 GMT-0800 (PST)  2015     Kia              Sorento   \n",
       "Tue Dec 16 2014 12:30:00 GMT-0800 (PST)  2015     Kia              Sorento   \n",
       "Thu Jan 15 2015 04:30:00 GMT-0800 (PST)  2014     BMW             3 Series   \n",
       "Thu Jan 29 2015 04:30:00 GMT-0800 (PST)  2015   Volvo                  S60   \n",
       "Thu Dec 18 2014 12:30:00 GMT-0800 (PST)  2014     BMW  6 Series Gran Coupe   \n",
       "...                                       ...     ...                  ...   \n",
       "Thu Jul 09 2015 07:00:00 GMT-0700 (PDT)  2015     Kia                 K900   \n",
       "Wed Jul 08 2015 09:30:00 GMT-0700 (PDT)  2012     Ram                 2500   \n",
       "Wed Jul 08 2015 09:30:00 GMT-0700 (PDT)  2012     BMW                   X5   \n",
       "Thu Jul 09 2015 06:45:00 GMT-0700 (PDT)  2015  Nissan               Altima   \n",
       "Thu May 28 2015 05:30:00 GMT-0700 (PDT)  2014    Ford                F-150   \n",
       "\n",
       "                                                trim       body transmission  \\\n",
       "saledate                                                                       \n",
       "Tue Dec 16 2014 12:30:00 GMT-0800 (PST)           LX        SUV    automatic   \n",
       "Tue Dec 16 2014 12:30:00 GMT-0800 (PST)           LX        SUV    automatic   \n",
       "Thu Jan 15 2015 04:30:00 GMT-0800 (PST)   328i SULEV      Sedan    automatic   \n",
       "Thu Jan 29 2015 04:30:00 GMT-0800 (PST)           T5      Sedan    automatic   \n",
       "Thu Dec 18 2014 12:30:00 GMT-0800 (PST)         650i      Sedan    automatic   \n",
       "...                                              ...        ...          ...   \n",
       "Thu Jul 09 2015 07:00:00 GMT-0700 (PDT)       Luxury      Sedan          NaN   \n",
       "Wed Jul 08 2015 09:30:00 GMT-0700 (PDT)  Power Wagon   Crew Cab    automatic   \n",
       "Wed Jul 08 2015 09:30:00 GMT-0700 (PDT)    xDrive35d        SUV    automatic   \n",
       "Thu Jul 09 2015 06:45:00 GMT-0700 (PDT)        2.5 S      sedan    automatic   \n",
       "Thu May 28 2015 05:30:00 GMT-0700 (PDT)          XLT  SuperCrew    automatic   \n",
       "\n",
       "                                                       vin state  condition  \\\n",
       "saledate                                                                      \n",
       "Tue Dec 16 2014 12:30:00 GMT-0800 (PST)  5xyktca69fg566472    ca        5.0   \n",
       "Tue Dec 16 2014 12:30:00 GMT-0800 (PST)  5xyktca69fg561319    ca        5.0   \n",
       "Thu Jan 15 2015 04:30:00 GMT-0800 (PST)  wba3c1c51ek116351    ca       45.0   \n",
       "Thu Jan 29 2015 04:30:00 GMT-0800 (PST)  yv1612tb4f1310987    ca       41.0   \n",
       "Thu Dec 18 2014 12:30:00 GMT-0800 (PST)  wba6b2c57ed129731    ca       43.0   \n",
       "...                                                    ...   ...        ...   \n",
       "Thu Jul 09 2015 07:00:00 GMT-0700 (PDT)  knalw4d4xf6019304    in       45.0   \n",
       "Wed Jul 08 2015 09:30:00 GMT-0700 (PDT)  3c6td5et6cg112407    wa        5.0   \n",
       "Wed Jul 08 2015 09:30:00 GMT-0700 (PDT)  5uxzw0c58cl668465    ca       48.0   \n",
       "Thu Jul 09 2015 06:45:00 GMT-0700 (PDT)  1n4al3ap0fc216050    ga       38.0   \n",
       "Thu May 28 2015 05:30:00 GMT-0700 (PDT)  1ftfw1et2eke87277    ca       34.0   \n",
       "\n",
       "                                         odometer   color interior  \\\n",
       "saledate                                                             \n",
       "Tue Dec 16 2014 12:30:00 GMT-0800 (PST)   16639.0   white    black   \n",
       "Tue Dec 16 2014 12:30:00 GMT-0800 (PST)    9393.0   white    beige   \n",
       "Thu Jan 15 2015 04:30:00 GMT-0800 (PST)    1331.0    gray    black   \n",
       "Thu Jan 29 2015 04:30:00 GMT-0800 (PST)   14282.0   white    black   \n",
       "Thu Dec 18 2014 12:30:00 GMT-0800 (PST)    2641.0    gray    black   \n",
       "...                                           ...     ...      ...   \n",
       "Thu Jul 09 2015 07:00:00 GMT-0700 (PDT)   18255.0  silver    black   \n",
       "Wed Jul 08 2015 09:30:00 GMT-0700 (PDT)   54393.0   white    black   \n",
       "Wed Jul 08 2015 09:30:00 GMT-0700 (PDT)   50561.0   black    black   \n",
       "Thu Jul 09 2015 06:45:00 GMT-0700 (PDT)   16658.0   white    black   \n",
       "Thu May 28 2015 05:30:00 GMT-0700 (PDT)   15008.0    gray     gray   \n",
       "\n",
       "                                                                                    seller  \\\n",
       "saledate                                                                                     \n",
       "Tue Dec 16 2014 12:30:00 GMT-0800 (PST)                            kia motors america  inc   \n",
       "Tue Dec 16 2014 12:30:00 GMT-0800 (PST)                            kia motors america  inc   \n",
       "Thu Jan 15 2015 04:30:00 GMT-0800 (PST)             financial services remarketing (lease)   \n",
       "Thu Jan 29 2015 04:30:00 GMT-0800 (PST)                            volvo na rep/world omni   \n",
       "Thu Dec 18 2014 12:30:00 GMT-0800 (PST)             financial services remarketing (lease)   \n",
       "...                                                                                    ...   \n",
       "Thu Jul 09 2015 07:00:00 GMT-0700 (PDT)                                   avis corporation   \n",
       "Wed Jul 08 2015 09:30:00 GMT-0700 (PDT)                                    i -5 uhlmann rv   \n",
       "Wed Jul 08 2015 09:30:00 GMT-0700 (PDT)             financial services remarketing (lease)   \n",
       "Thu Jul 09 2015 06:45:00 GMT-0700 (PDT)  enterprise vehicle exchange / tra / rental / t...   \n",
       "Thu May 28 2015 05:30:00 GMT-0700 (PDT)                   ford motor credit company llc pd   \n",
       "\n",
       "                                             mmr  sellingprice  \n",
       "saledate                                                        \n",
       "Tue Dec 16 2014 12:30:00 GMT-0800 (PST)  20500.0       21500.0  \n",
       "Tue Dec 16 2014 12:30:00 GMT-0800 (PST)  20800.0       21500.0  \n",
       "Thu Jan 15 2015 04:30:00 GMT-0800 (PST)  31900.0       30000.0  \n",
       "Thu Jan 29 2015 04:30:00 GMT-0800 (PST)  27500.0       27750.0  \n",
       "Thu Dec 18 2014 12:30:00 GMT-0800 (PST)  66000.0       67000.0  \n",
       "...                                          ...           ...  \n",
       "Thu Jul 09 2015 07:00:00 GMT-0700 (PDT)  35300.0       33000.0  \n",
       "Wed Jul 08 2015 09:30:00 GMT-0700 (PDT)  30200.0       30800.0  \n",
       "Wed Jul 08 2015 09:30:00 GMT-0700 (PDT)  29800.0       34000.0  \n",
       "Thu Jul 09 2015 06:45:00 GMT-0700 (PDT)  15100.0       11100.0  \n",
       "Thu May 28 2015 05:30:00 GMT-0700 (PDT)  29600.0       26700.0  \n",
       "\n",
       "[558837 rows x 15 columns]"
      ]
     },
     "execution_count": 3,
     "metadata": {},
     "output_type": "execute_result"
    }
   ],
   "source": [
    "car_prices.set_index(\"saledate\")"
   ]
  },
  {
   "cell_type": "code",
   "execution_count": 4,
   "id": "2066d64f",
   "metadata": {},
   "outputs": [
    {
     "name": "stdout",
     "output_type": "stream",
     "text": [
      "<class 'pandas.core.frame.DataFrame'>\n",
      "RangeIndex: 558837 entries, 0 to 558836\n",
      "Data columns (total 16 columns):\n",
      " #   Column        Non-Null Count   Dtype  \n",
      "---  ------        --------------   -----  \n",
      " 0   year          558837 non-null  int64  \n",
      " 1   make          548536 non-null  object \n",
      " 2   model         548438 non-null  object \n",
      " 3   trim          548186 non-null  object \n",
      " 4   body          545642 non-null  object \n",
      " 5   transmission  493485 non-null  object \n",
      " 6   vin           558833 non-null  object \n",
      " 7   state         558837 non-null  object \n",
      " 8   condition     547017 non-null  float64\n",
      " 9   odometer      558743 non-null  float64\n",
      " 10  color         558088 non-null  object \n",
      " 11  interior      558088 non-null  object \n",
      " 12  seller        558837 non-null  object \n",
      " 13  mmr           558799 non-null  float64\n",
      " 14  sellingprice  558825 non-null  float64\n",
      " 15  saledate      558825 non-null  object \n",
      "dtypes: float64(4), int64(1), object(11)\n",
      "memory usage: 68.2+ MB\n"
     ]
    }
   ],
   "source": [
    "car_prices.info()"
   ]
  },
  {
   "cell_type": "code",
   "execution_count": 7,
   "id": "9e2f8543",
   "metadata": {},
   "outputs": [],
   "source": [
    "#deleting column\n",
    "carprices1 = car_prices.drop(columns = ['vin'])"
   ]
  },
  {
   "cell_type": "code",
   "execution_count": 8,
   "id": "bdb9938b",
   "metadata": {},
   "outputs": [
    {
     "data": {
      "text/plain": [
       "year              int64\n",
       "make             object\n",
       "model            object\n",
       "trim             object\n",
       "body             object\n",
       "transmission     object\n",
       "state            object\n",
       "condition       float64\n",
       "odometer        float64\n",
       "color            object\n",
       "interior         object\n",
       "seller           object\n",
       "mmr             float64\n",
       "sellingprice    float64\n",
       "saledate         object\n",
       "dtype: object"
      ]
     },
     "execution_count": 8,
     "metadata": {},
     "output_type": "execute_result"
    }
   ],
   "source": [
    "carprices1.dtypes"
   ]
  },
  {
   "cell_type": "code",
   "execution_count": 9,
   "id": "b7a559ec",
   "metadata": {},
   "outputs": [
    {
     "data": {
      "text/plain": [
       "year                0\n",
       "make            10301\n",
       "model           10399\n",
       "trim            10651\n",
       "body            13195\n",
       "transmission    65352\n",
       "state               0\n",
       "condition       11820\n",
       "odometer           94\n",
       "color             749\n",
       "interior          749\n",
       "seller              0\n",
       "mmr                38\n",
       "sellingprice       12\n",
       "saledate           12\n",
       "dtype: int64"
      ]
     },
     "execution_count": 9,
     "metadata": {},
     "output_type": "execute_result"
    }
   ],
   "source": [
    "carprices1.isnull().sum()"
   ]
  },
  {
   "cell_type": "code",
   "execution_count": 11,
   "id": "a02ef87d",
   "metadata": {},
   "outputs": [
    {
     "data": {
      "text/html": [
       "<div>\n",
       "<style scoped>\n",
       "    .dataframe tbody tr th:only-of-type {\n",
       "        vertical-align: middle;\n",
       "    }\n",
       "\n",
       "    .dataframe tbody tr th {\n",
       "        vertical-align: top;\n",
       "    }\n",
       "\n",
       "    .dataframe thead th {\n",
       "        text-align: right;\n",
       "    }\n",
       "</style>\n",
       "<table border=\"1\" class=\"dataframe\">\n",
       "  <thead>\n",
       "    <tr style=\"text-align: right;\">\n",
       "      <th></th>\n",
       "      <th>year</th>\n",
       "      <th>make</th>\n",
       "      <th>model</th>\n",
       "      <th>trim</th>\n",
       "      <th>body</th>\n",
       "      <th>transmission</th>\n",
       "      <th>state</th>\n",
       "      <th>condition</th>\n",
       "      <th>odometer</th>\n",
       "      <th>color</th>\n",
       "      <th>interior</th>\n",
       "      <th>seller</th>\n",
       "      <th>mmr</th>\n",
       "      <th>sellingprice</th>\n",
       "      <th>saledate</th>\n",
       "    </tr>\n",
       "  </thead>\n",
       "  <tbody>\n",
       "    <tr>\n",
       "      <th>0</th>\n",
       "      <td>2015</td>\n",
       "      <td>Kia</td>\n",
       "      <td>Sorento</td>\n",
       "      <td>LX</td>\n",
       "      <td>SUV</td>\n",
       "      <td>automatic</td>\n",
       "      <td>ca</td>\n",
       "      <td>5.0</td>\n",
       "      <td>16639.0</td>\n",
       "      <td>white</td>\n",
       "      <td>black</td>\n",
       "      <td>kia motors america  inc</td>\n",
       "      <td>20500.0</td>\n",
       "      <td>21500.0</td>\n",
       "      <td>Tue Dec 16 2014 12:30:00 GMT-0800 (PST)</td>\n",
       "    </tr>\n",
       "    <tr>\n",
       "      <th>1</th>\n",
       "      <td>2015</td>\n",
       "      <td>Kia</td>\n",
       "      <td>Sorento</td>\n",
       "      <td>LX</td>\n",
       "      <td>SUV</td>\n",
       "      <td>automatic</td>\n",
       "      <td>ca</td>\n",
       "      <td>5.0</td>\n",
       "      <td>9393.0</td>\n",
       "      <td>white</td>\n",
       "      <td>beige</td>\n",
       "      <td>kia motors america  inc</td>\n",
       "      <td>20800.0</td>\n",
       "      <td>21500.0</td>\n",
       "      <td>Tue Dec 16 2014 12:30:00 GMT-0800 (PST)</td>\n",
       "    </tr>\n",
       "    <tr>\n",
       "      <th>2</th>\n",
       "      <td>2014</td>\n",
       "      <td>BMW</td>\n",
       "      <td>3 Series</td>\n",
       "      <td>328i SULEV</td>\n",
       "      <td>Sedan</td>\n",
       "      <td>automatic</td>\n",
       "      <td>ca</td>\n",
       "      <td>45.0</td>\n",
       "      <td>1331.0</td>\n",
       "      <td>gray</td>\n",
       "      <td>black</td>\n",
       "      <td>financial services remarketing (lease)</td>\n",
       "      <td>31900.0</td>\n",
       "      <td>30000.0</td>\n",
       "      <td>Thu Jan 15 2015 04:30:00 GMT-0800 (PST)</td>\n",
       "    </tr>\n",
       "    <tr>\n",
       "      <th>3</th>\n",
       "      <td>2015</td>\n",
       "      <td>Volvo</td>\n",
       "      <td>S60</td>\n",
       "      <td>T5</td>\n",
       "      <td>Sedan</td>\n",
       "      <td>automatic</td>\n",
       "      <td>ca</td>\n",
       "      <td>41.0</td>\n",
       "      <td>14282.0</td>\n",
       "      <td>white</td>\n",
       "      <td>black</td>\n",
       "      <td>volvo na rep/world omni</td>\n",
       "      <td>27500.0</td>\n",
       "      <td>27750.0</td>\n",
       "      <td>Thu Jan 29 2015 04:30:00 GMT-0800 (PST)</td>\n",
       "    </tr>\n",
       "    <tr>\n",
       "      <th>4</th>\n",
       "      <td>2014</td>\n",
       "      <td>BMW</td>\n",
       "      <td>6 Series Gran Coupe</td>\n",
       "      <td>650i</td>\n",
       "      <td>Sedan</td>\n",
       "      <td>automatic</td>\n",
       "      <td>ca</td>\n",
       "      <td>43.0</td>\n",
       "      <td>2641.0</td>\n",
       "      <td>gray</td>\n",
       "      <td>black</td>\n",
       "      <td>financial services remarketing (lease)</td>\n",
       "      <td>66000.0</td>\n",
       "      <td>67000.0</td>\n",
       "      <td>Thu Dec 18 2014 12:30:00 GMT-0800 (PST)</td>\n",
       "    </tr>\n",
       "    <tr>\n",
       "      <th>...</th>\n",
       "      <td>...</td>\n",
       "      <td>...</td>\n",
       "      <td>...</td>\n",
       "      <td>...</td>\n",
       "      <td>...</td>\n",
       "      <td>...</td>\n",
       "      <td>...</td>\n",
       "      <td>...</td>\n",
       "      <td>...</td>\n",
       "      <td>...</td>\n",
       "      <td>...</td>\n",
       "      <td>...</td>\n",
       "      <td>...</td>\n",
       "      <td>...</td>\n",
       "      <td>...</td>\n",
       "    </tr>\n",
       "    <tr>\n",
       "      <th>558832</th>\n",
       "      <td>2015</td>\n",
       "      <td>Kia</td>\n",
       "      <td>K900</td>\n",
       "      <td>Luxury</td>\n",
       "      <td>Sedan</td>\n",
       "      <td>NaN</td>\n",
       "      <td>in</td>\n",
       "      <td>45.0</td>\n",
       "      <td>18255.0</td>\n",
       "      <td>silver</td>\n",
       "      <td>black</td>\n",
       "      <td>avis corporation</td>\n",
       "      <td>35300.0</td>\n",
       "      <td>33000.0</td>\n",
       "      <td>Thu Jul 09 2015 07:00:00 GMT-0700 (PDT)</td>\n",
       "    </tr>\n",
       "    <tr>\n",
       "      <th>558833</th>\n",
       "      <td>2012</td>\n",
       "      <td>Ram</td>\n",
       "      <td>2500</td>\n",
       "      <td>Power Wagon</td>\n",
       "      <td>Crew Cab</td>\n",
       "      <td>automatic</td>\n",
       "      <td>wa</td>\n",
       "      <td>5.0</td>\n",
       "      <td>54393.0</td>\n",
       "      <td>white</td>\n",
       "      <td>black</td>\n",
       "      <td>i -5 uhlmann rv</td>\n",
       "      <td>30200.0</td>\n",
       "      <td>30800.0</td>\n",
       "      <td>Wed Jul 08 2015 09:30:00 GMT-0700 (PDT)</td>\n",
       "    </tr>\n",
       "    <tr>\n",
       "      <th>558834</th>\n",
       "      <td>2012</td>\n",
       "      <td>BMW</td>\n",
       "      <td>X5</td>\n",
       "      <td>xDrive35d</td>\n",
       "      <td>SUV</td>\n",
       "      <td>automatic</td>\n",
       "      <td>ca</td>\n",
       "      <td>48.0</td>\n",
       "      <td>50561.0</td>\n",
       "      <td>black</td>\n",
       "      <td>black</td>\n",
       "      <td>financial services remarketing (lease)</td>\n",
       "      <td>29800.0</td>\n",
       "      <td>34000.0</td>\n",
       "      <td>Wed Jul 08 2015 09:30:00 GMT-0700 (PDT)</td>\n",
       "    </tr>\n",
       "    <tr>\n",
       "      <th>558835</th>\n",
       "      <td>2015</td>\n",
       "      <td>Nissan</td>\n",
       "      <td>Altima</td>\n",
       "      <td>2.5 S</td>\n",
       "      <td>sedan</td>\n",
       "      <td>automatic</td>\n",
       "      <td>ga</td>\n",
       "      <td>38.0</td>\n",
       "      <td>16658.0</td>\n",
       "      <td>white</td>\n",
       "      <td>black</td>\n",
       "      <td>enterprise vehicle exchange / tra / rental / t...</td>\n",
       "      <td>15100.0</td>\n",
       "      <td>11100.0</td>\n",
       "      <td>Thu Jul 09 2015 06:45:00 GMT-0700 (PDT)</td>\n",
       "    </tr>\n",
       "    <tr>\n",
       "      <th>558836</th>\n",
       "      <td>2014</td>\n",
       "      <td>Ford</td>\n",
       "      <td>F-150</td>\n",
       "      <td>XLT</td>\n",
       "      <td>SuperCrew</td>\n",
       "      <td>automatic</td>\n",
       "      <td>ca</td>\n",
       "      <td>34.0</td>\n",
       "      <td>15008.0</td>\n",
       "      <td>gray</td>\n",
       "      <td>gray</td>\n",
       "      <td>ford motor credit company llc pd</td>\n",
       "      <td>29600.0</td>\n",
       "      <td>26700.0</td>\n",
       "      <td>Thu May 28 2015 05:30:00 GMT-0700 (PDT)</td>\n",
       "    </tr>\n",
       "  </tbody>\n",
       "</table>\n",
       "<p>558837 rows × 15 columns</p>\n",
       "</div>"
      ],
      "text/plain": [
       "        year    make                model         trim       body  \\\n",
       "0       2015     Kia              Sorento           LX        SUV   \n",
       "1       2015     Kia              Sorento           LX        SUV   \n",
       "2       2014     BMW             3 Series   328i SULEV      Sedan   \n",
       "3       2015   Volvo                  S60           T5      Sedan   \n",
       "4       2014     BMW  6 Series Gran Coupe         650i      Sedan   \n",
       "...      ...     ...                  ...          ...        ...   \n",
       "558832  2015     Kia                 K900       Luxury      Sedan   \n",
       "558833  2012     Ram                 2500  Power Wagon   Crew Cab   \n",
       "558834  2012     BMW                   X5    xDrive35d        SUV   \n",
       "558835  2015  Nissan               Altima        2.5 S      sedan   \n",
       "558836  2014    Ford                F-150          XLT  SuperCrew   \n",
       "\n",
       "       transmission state  condition  odometer   color interior  \\\n",
       "0         automatic    ca        5.0   16639.0   white    black   \n",
       "1         automatic    ca        5.0    9393.0   white    beige   \n",
       "2         automatic    ca       45.0    1331.0    gray    black   \n",
       "3         automatic    ca       41.0   14282.0   white    black   \n",
       "4         automatic    ca       43.0    2641.0    gray    black   \n",
       "...             ...   ...        ...       ...     ...      ...   \n",
       "558832          NaN    in       45.0   18255.0  silver    black   \n",
       "558833    automatic    wa        5.0   54393.0   white    black   \n",
       "558834    automatic    ca       48.0   50561.0   black    black   \n",
       "558835    automatic    ga       38.0   16658.0   white    black   \n",
       "558836    automatic    ca       34.0   15008.0    gray     gray   \n",
       "\n",
       "                                                   seller      mmr  \\\n",
       "0                                 kia motors america  inc  20500.0   \n",
       "1                                 kia motors america  inc  20800.0   \n",
       "2                  financial services remarketing (lease)  31900.0   \n",
       "3                                 volvo na rep/world omni  27500.0   \n",
       "4                  financial services remarketing (lease)  66000.0   \n",
       "...                                                   ...      ...   \n",
       "558832                                   avis corporation  35300.0   \n",
       "558833                                    i -5 uhlmann rv  30200.0   \n",
       "558834             financial services remarketing (lease)  29800.0   \n",
       "558835  enterprise vehicle exchange / tra / rental / t...  15100.0   \n",
       "558836                   ford motor credit company llc pd  29600.0   \n",
       "\n",
       "        sellingprice                                 saledate  \n",
       "0            21500.0  Tue Dec 16 2014 12:30:00 GMT-0800 (PST)  \n",
       "1            21500.0  Tue Dec 16 2014 12:30:00 GMT-0800 (PST)  \n",
       "2            30000.0  Thu Jan 15 2015 04:30:00 GMT-0800 (PST)  \n",
       "3            27750.0  Thu Jan 29 2015 04:30:00 GMT-0800 (PST)  \n",
       "4            67000.0  Thu Dec 18 2014 12:30:00 GMT-0800 (PST)  \n",
       "...              ...                                      ...  \n",
       "558832       33000.0  Thu Jul 09 2015 07:00:00 GMT-0700 (PDT)  \n",
       "558833       30800.0  Wed Jul 08 2015 09:30:00 GMT-0700 (PDT)  \n",
       "558834       34000.0  Wed Jul 08 2015 09:30:00 GMT-0700 (PDT)  \n",
       "558835       11100.0  Thu Jul 09 2015 06:45:00 GMT-0700 (PDT)  \n",
       "558836       26700.0  Thu May 28 2015 05:30:00 GMT-0700 (PDT)  \n",
       "\n",
       "[558837 rows x 15 columns]"
      ]
     },
     "execution_count": 11,
     "metadata": {},
     "output_type": "execute_result"
    }
   ],
   "source": [
    "#dealing with nulls\n",
    "carprices2 = carprices1.fillna({'condition' : carprices1['condition'].mean(), 'odometer' : carprices1['odometer'].mean(), 'mmr' : carprices1['mmr'].mean(), 'sellingprice' : carprices1['sellingprice'].mean()})\n",
    "carprices2"
   ]
  },
  {
   "cell_type": "code",
   "execution_count": 13,
   "id": "5b36e3d1",
   "metadata": {},
   "outputs": [
    {
     "data": {
      "text/plain": [
       "year            0\n",
       "make            0\n",
       "model           0\n",
       "trim            0\n",
       "body            0\n",
       "transmission    0\n",
       "state           0\n",
       "condition       0\n",
       "odometer        0\n",
       "color           0\n",
       "interior        0\n",
       "seller          0\n",
       "mmr             0\n",
       "sellingprice    0\n",
       "saledate        0\n",
       "dtype: int64"
      ]
     },
     "execution_count": 13,
     "metadata": {},
     "output_type": "execute_result"
    }
   ],
   "source": [
    "carprices = carprices2.fillna('_')\n",
    "carprices.isnull().sum()"
   ]
  },
  {
   "cell_type": "code",
   "execution_count": 14,
   "id": "b9d7c502",
   "metadata": {},
   "outputs": [
    {
     "data": {
      "text/html": [
       "<div>\n",
       "<style scoped>\n",
       "    .dataframe tbody tr th:only-of-type {\n",
       "        vertical-align: middle;\n",
       "    }\n",
       "\n",
       "    .dataframe tbody tr th {\n",
       "        vertical-align: top;\n",
       "    }\n",
       "\n",
       "    .dataframe thead th {\n",
       "        text-align: right;\n",
       "    }\n",
       "</style>\n",
       "<table border=\"1\" class=\"dataframe\">\n",
       "  <thead>\n",
       "    <tr style=\"text-align: right;\">\n",
       "      <th></th>\n",
       "      <th>year</th>\n",
       "      <th>make</th>\n",
       "      <th>model</th>\n",
       "      <th>trim</th>\n",
       "      <th>body</th>\n",
       "      <th>transmission</th>\n",
       "      <th>state</th>\n",
       "      <th>condition</th>\n",
       "      <th>odometer</th>\n",
       "      <th>color</th>\n",
       "      <th>interior</th>\n",
       "      <th>seller</th>\n",
       "      <th>mmr</th>\n",
       "      <th>sellingprice</th>\n",
       "      <th>saledate</th>\n",
       "    </tr>\n",
       "  </thead>\n",
       "  <tbody>\n",
       "    <tr>\n",
       "      <th>count</th>\n",
       "      <td>558837.000000</td>\n",
       "      <td>558837</td>\n",
       "      <td>558837</td>\n",
       "      <td>558837</td>\n",
       "      <td>558837</td>\n",
       "      <td>558837</td>\n",
       "      <td>558837</td>\n",
       "      <td>558837.000000</td>\n",
       "      <td>558837.000000</td>\n",
       "      <td>558837</td>\n",
       "      <td>558837</td>\n",
       "      <td>558837</td>\n",
       "      <td>558837.000000</td>\n",
       "      <td>558837.000000</td>\n",
       "      <td>558837</td>\n",
       "    </tr>\n",
       "    <tr>\n",
       "      <th>unique</th>\n",
       "      <td>NaN</td>\n",
       "      <td>97</td>\n",
       "      <td>974</td>\n",
       "      <td>1964</td>\n",
       "      <td>88</td>\n",
       "      <td>5</td>\n",
       "      <td>64</td>\n",
       "      <td>NaN</td>\n",
       "      <td>NaN</td>\n",
       "      <td>47</td>\n",
       "      <td>18</td>\n",
       "      <td>14263</td>\n",
       "      <td>NaN</td>\n",
       "      <td>NaN</td>\n",
       "      <td>3767</td>\n",
       "    </tr>\n",
       "    <tr>\n",
       "      <th>top</th>\n",
       "      <td>NaN</td>\n",
       "      <td>Ford</td>\n",
       "      <td>Altima</td>\n",
       "      <td>Base</td>\n",
       "      <td>Sedan</td>\n",
       "      <td>automatic</td>\n",
       "      <td>fl</td>\n",
       "      <td>NaN</td>\n",
       "      <td>NaN</td>\n",
       "      <td>black</td>\n",
       "      <td>black</td>\n",
       "      <td>nissan-infiniti lt</td>\n",
       "      <td>NaN</td>\n",
       "      <td>NaN</td>\n",
       "      <td>Tue Feb 10 2015 01:30:00 GMT-0800 (PST)</td>\n",
       "    </tr>\n",
       "    <tr>\n",
       "      <th>freq</th>\n",
       "      <td>NaN</td>\n",
       "      <td>93554</td>\n",
       "      <td>19349</td>\n",
       "      <td>55817</td>\n",
       "      <td>199437</td>\n",
       "      <td>475915</td>\n",
       "      <td>82945</td>\n",
       "      <td>NaN</td>\n",
       "      <td>NaN</td>\n",
       "      <td>110970</td>\n",
       "      <td>244329</td>\n",
       "      <td>19693</td>\n",
       "      <td>NaN</td>\n",
       "      <td>NaN</td>\n",
       "      <td>5334</td>\n",
       "    </tr>\n",
       "    <tr>\n",
       "      <th>mean</th>\n",
       "      <td>2010.038927</td>\n",
       "      <td>NaN</td>\n",
       "      <td>NaN</td>\n",
       "      <td>NaN</td>\n",
       "      <td>NaN</td>\n",
       "      <td>NaN</td>\n",
       "      <td>NaN</td>\n",
       "      <td>30.672365</td>\n",
       "      <td>68320.017767</td>\n",
       "      <td>NaN</td>\n",
       "      <td>NaN</td>\n",
       "      <td>NaN</td>\n",
       "      <td>13769.377495</td>\n",
       "      <td>13611.358810</td>\n",
       "      <td>NaN</td>\n",
       "    </tr>\n",
       "    <tr>\n",
       "      <th>std</th>\n",
       "      <td>3.966864</td>\n",
       "      <td>NaN</td>\n",
       "      <td>NaN</td>\n",
       "      <td>NaN</td>\n",
       "      <td>NaN</td>\n",
       "      <td>NaN</td>\n",
       "      <td>NaN</td>\n",
       "      <td>13.260332</td>\n",
       "      <td>53394.051633</td>\n",
       "      <td>NaN</td>\n",
       "      <td>NaN</td>\n",
       "      <td>NaN</td>\n",
       "      <td>9679.638057</td>\n",
       "      <td>9749.396951</td>\n",
       "      <td>NaN</td>\n",
       "    </tr>\n",
       "    <tr>\n",
       "      <th>min</th>\n",
       "      <td>1982.000000</td>\n",
       "      <td>NaN</td>\n",
       "      <td>NaN</td>\n",
       "      <td>NaN</td>\n",
       "      <td>NaN</td>\n",
       "      <td>NaN</td>\n",
       "      <td>NaN</td>\n",
       "      <td>1.000000</td>\n",
       "      <td>1.000000</td>\n",
       "      <td>NaN</td>\n",
       "      <td>NaN</td>\n",
       "      <td>NaN</td>\n",
       "      <td>25.000000</td>\n",
       "      <td>1.000000</td>\n",
       "      <td>NaN</td>\n",
       "    </tr>\n",
       "    <tr>\n",
       "      <th>25%</th>\n",
       "      <td>2007.000000</td>\n",
       "      <td>NaN</td>\n",
       "      <td>NaN</td>\n",
       "      <td>NaN</td>\n",
       "      <td>NaN</td>\n",
       "      <td>NaN</td>\n",
       "      <td>NaN</td>\n",
       "      <td>24.000000</td>\n",
       "      <td>28375.000000</td>\n",
       "      <td>NaN</td>\n",
       "      <td>NaN</td>\n",
       "      <td>NaN</td>\n",
       "      <td>7100.000000</td>\n",
       "      <td>6900.000000</td>\n",
       "      <td>NaN</td>\n",
       "    </tr>\n",
       "    <tr>\n",
       "      <th>50%</th>\n",
       "      <td>2012.000000</td>\n",
       "      <td>NaN</td>\n",
       "      <td>NaN</td>\n",
       "      <td>NaN</td>\n",
       "      <td>NaN</td>\n",
       "      <td>NaN</td>\n",
       "      <td>NaN</td>\n",
       "      <td>34.000000</td>\n",
       "      <td>52266.000000</td>\n",
       "      <td>NaN</td>\n",
       "      <td>NaN</td>\n",
       "      <td>NaN</td>\n",
       "      <td>12250.000000</td>\n",
       "      <td>12100.000000</td>\n",
       "      <td>NaN</td>\n",
       "    </tr>\n",
       "    <tr>\n",
       "      <th>75%</th>\n",
       "      <td>2013.000000</td>\n",
       "      <td>NaN</td>\n",
       "      <td>NaN</td>\n",
       "      <td>NaN</td>\n",
       "      <td>NaN</td>\n",
       "      <td>NaN</td>\n",
       "      <td>NaN</td>\n",
       "      <td>41.000000</td>\n",
       "      <td>99103.000000</td>\n",
       "      <td>NaN</td>\n",
       "      <td>NaN</td>\n",
       "      <td>NaN</td>\n",
       "      <td>18300.000000</td>\n",
       "      <td>18200.000000</td>\n",
       "      <td>NaN</td>\n",
       "    </tr>\n",
       "    <tr>\n",
       "      <th>max</th>\n",
       "      <td>2015.000000</td>\n",
       "      <td>NaN</td>\n",
       "      <td>NaN</td>\n",
       "      <td>NaN</td>\n",
       "      <td>NaN</td>\n",
       "      <td>NaN</td>\n",
       "      <td>NaN</td>\n",
       "      <td>49.000000</td>\n",
       "      <td>999999.000000</td>\n",
       "      <td>NaN</td>\n",
       "      <td>NaN</td>\n",
       "      <td>NaN</td>\n",
       "      <td>182000.000000</td>\n",
       "      <td>230000.000000</td>\n",
       "      <td>NaN</td>\n",
       "    </tr>\n",
       "  </tbody>\n",
       "</table>\n",
       "</div>"
      ],
      "text/plain": [
       "                 year    make   model    trim    body transmission   state  \\\n",
       "count   558837.000000  558837  558837  558837  558837       558837  558837   \n",
       "unique            NaN      97     974    1964      88            5      64   \n",
       "top               NaN    Ford  Altima    Base   Sedan    automatic      fl   \n",
       "freq              NaN   93554   19349   55817  199437       475915   82945   \n",
       "mean      2010.038927     NaN     NaN     NaN     NaN          NaN     NaN   \n",
       "std          3.966864     NaN     NaN     NaN     NaN          NaN     NaN   \n",
       "min       1982.000000     NaN     NaN     NaN     NaN          NaN     NaN   \n",
       "25%       2007.000000     NaN     NaN     NaN     NaN          NaN     NaN   \n",
       "50%       2012.000000     NaN     NaN     NaN     NaN          NaN     NaN   \n",
       "75%       2013.000000     NaN     NaN     NaN     NaN          NaN     NaN   \n",
       "max       2015.000000     NaN     NaN     NaN     NaN          NaN     NaN   \n",
       "\n",
       "            condition       odometer   color interior              seller  \\\n",
       "count   558837.000000  558837.000000  558837   558837              558837   \n",
       "unique            NaN            NaN      47       18               14263   \n",
       "top               NaN            NaN   black    black  nissan-infiniti lt   \n",
       "freq              NaN            NaN  110970   244329               19693   \n",
       "mean        30.672365   68320.017767     NaN      NaN                 NaN   \n",
       "std         13.260332   53394.051633     NaN      NaN                 NaN   \n",
       "min          1.000000       1.000000     NaN      NaN                 NaN   \n",
       "25%         24.000000   28375.000000     NaN      NaN                 NaN   \n",
       "50%         34.000000   52266.000000     NaN      NaN                 NaN   \n",
       "75%         41.000000   99103.000000     NaN      NaN                 NaN   \n",
       "max         49.000000  999999.000000     NaN      NaN                 NaN   \n",
       "\n",
       "                  mmr   sellingprice                                 saledate  \n",
       "count   558837.000000  558837.000000                                   558837  \n",
       "unique            NaN            NaN                                     3767  \n",
       "top               NaN            NaN  Tue Feb 10 2015 01:30:00 GMT-0800 (PST)  \n",
       "freq              NaN            NaN                                     5334  \n",
       "mean     13769.377495   13611.358810                                      NaN  \n",
       "std       9679.638057    9749.396951                                      NaN  \n",
       "min         25.000000       1.000000                                      NaN  \n",
       "25%       7100.000000    6900.000000                                      NaN  \n",
       "50%      12250.000000   12100.000000                                      NaN  \n",
       "75%      18300.000000   18200.000000                                      NaN  \n",
       "max     182000.000000  230000.000000                                      NaN  "
      ]
     },
     "execution_count": 14,
     "metadata": {},
     "output_type": "execute_result"
    }
   ],
   "source": [
    "carprices.describe(include = 'all')"
   ]
  },
  {
   "cell_type": "code",
   "execution_count": 15,
   "id": "8bdaab12",
   "metadata": {},
   "outputs": [
    {
     "data": {
      "text/html": [
       "<div>\n",
       "<style scoped>\n",
       "    .dataframe tbody tr th:only-of-type {\n",
       "        vertical-align: middle;\n",
       "    }\n",
       "\n",
       "    .dataframe tbody tr th {\n",
       "        vertical-align: top;\n",
       "    }\n",
       "\n",
       "    .dataframe thead th {\n",
       "        text-align: right;\n",
       "    }\n",
       "</style>\n",
       "<table border=\"1\" class=\"dataframe\">\n",
       "  <thead>\n",
       "    <tr style=\"text-align: right;\">\n",
       "      <th></th>\n",
       "      <th>year</th>\n",
       "      <th>make</th>\n",
       "      <th>model</th>\n",
       "      <th>trim</th>\n",
       "      <th>body</th>\n",
       "      <th>transmission</th>\n",
       "      <th>state</th>\n",
       "      <th>condition</th>\n",
       "      <th>odometer</th>\n",
       "      <th>color</th>\n",
       "      <th>interior</th>\n",
       "      <th>seller</th>\n",
       "      <th>mmr</th>\n",
       "      <th>sellingprice</th>\n",
       "      <th>saledate</th>\n",
       "    </tr>\n",
       "  </thead>\n",
       "  <tbody>\n",
       "    <tr>\n",
       "      <th>0</th>\n",
       "      <td>2015</td>\n",
       "      <td>Kia</td>\n",
       "      <td>Sorento</td>\n",
       "      <td>LX</td>\n",
       "      <td>SUV</td>\n",
       "      <td>automatic</td>\n",
       "      <td>ca</td>\n",
       "      <td>5.0</td>\n",
       "      <td>16639.0</td>\n",
       "      <td>white</td>\n",
       "      <td>black</td>\n",
       "      <td>kia motors america  inc</td>\n",
       "      <td>20500.0</td>\n",
       "      <td>21500.0</td>\n",
       "      <td>Tue Dec 16 2014 12:30:00 GMT-0800 (PST)</td>\n",
       "    </tr>\n",
       "    <tr>\n",
       "      <th>1</th>\n",
       "      <td>2015</td>\n",
       "      <td>Kia</td>\n",
       "      <td>Sorento</td>\n",
       "      <td>LX</td>\n",
       "      <td>SUV</td>\n",
       "      <td>automatic</td>\n",
       "      <td>ca</td>\n",
       "      <td>5.0</td>\n",
       "      <td>9393.0</td>\n",
       "      <td>white</td>\n",
       "      <td>beige</td>\n",
       "      <td>kia motors america  inc</td>\n",
       "      <td>20800.0</td>\n",
       "      <td>21500.0</td>\n",
       "      <td>Tue Dec 16 2014 12:30:00 GMT-0800 (PST)</td>\n",
       "    </tr>\n",
       "    <tr>\n",
       "      <th>2</th>\n",
       "      <td>2014</td>\n",
       "      <td>BMW</td>\n",
       "      <td>3 Series</td>\n",
       "      <td>328i SULEV</td>\n",
       "      <td>Sedan</td>\n",
       "      <td>automatic</td>\n",
       "      <td>ca</td>\n",
       "      <td>45.0</td>\n",
       "      <td>1331.0</td>\n",
       "      <td>gray</td>\n",
       "      <td>black</td>\n",
       "      <td>financial services remarketing (lease)</td>\n",
       "      <td>31900.0</td>\n",
       "      <td>30000.0</td>\n",
       "      <td>Thu Jan 15 2015 04:30:00 GMT-0800 (PST)</td>\n",
       "    </tr>\n",
       "    <tr>\n",
       "      <th>3</th>\n",
       "      <td>2015</td>\n",
       "      <td>Volvo</td>\n",
       "      <td>S60</td>\n",
       "      <td>T5</td>\n",
       "      <td>Sedan</td>\n",
       "      <td>automatic</td>\n",
       "      <td>ca</td>\n",
       "      <td>41.0</td>\n",
       "      <td>14282.0</td>\n",
       "      <td>white</td>\n",
       "      <td>black</td>\n",
       "      <td>volvo na rep/world omni</td>\n",
       "      <td>27500.0</td>\n",
       "      <td>27750.0</td>\n",
       "      <td>Thu Jan 29 2015 04:30:00 GMT-0800 (PST)</td>\n",
       "    </tr>\n",
       "    <tr>\n",
       "      <th>4</th>\n",
       "      <td>2014</td>\n",
       "      <td>BMW</td>\n",
       "      <td>6 Series Gran Coupe</td>\n",
       "      <td>650i</td>\n",
       "      <td>Sedan</td>\n",
       "      <td>automatic</td>\n",
       "      <td>ca</td>\n",
       "      <td>43.0</td>\n",
       "      <td>2641.0</td>\n",
       "      <td>gray</td>\n",
       "      <td>black</td>\n",
       "      <td>financial services remarketing (lease)</td>\n",
       "      <td>66000.0</td>\n",
       "      <td>67000.0</td>\n",
       "      <td>Thu Dec 18 2014 12:30:00 GMT-0800 (PST)</td>\n",
       "    </tr>\n",
       "    <tr>\n",
       "      <th>...</th>\n",
       "      <td>...</td>\n",
       "      <td>...</td>\n",
       "      <td>...</td>\n",
       "      <td>...</td>\n",
       "      <td>...</td>\n",
       "      <td>...</td>\n",
       "      <td>...</td>\n",
       "      <td>...</td>\n",
       "      <td>...</td>\n",
       "      <td>...</td>\n",
       "      <td>...</td>\n",
       "      <td>...</td>\n",
       "      <td>...</td>\n",
       "      <td>...</td>\n",
       "      <td>...</td>\n",
       "    </tr>\n",
       "    <tr>\n",
       "      <th>558832</th>\n",
       "      <td>2015</td>\n",
       "      <td>Kia</td>\n",
       "      <td>K900</td>\n",
       "      <td>Luxury</td>\n",
       "      <td>Sedan</td>\n",
       "      <td>_</td>\n",
       "      <td>in</td>\n",
       "      <td>45.0</td>\n",
       "      <td>18255.0</td>\n",
       "      <td>silver</td>\n",
       "      <td>black</td>\n",
       "      <td>avis corporation</td>\n",
       "      <td>35300.0</td>\n",
       "      <td>33000.0</td>\n",
       "      <td>Thu Jul 09 2015 07:00:00 GMT-0700 (PDT)</td>\n",
       "    </tr>\n",
       "    <tr>\n",
       "      <th>558833</th>\n",
       "      <td>2012</td>\n",
       "      <td>Ram</td>\n",
       "      <td>2500</td>\n",
       "      <td>Power Wagon</td>\n",
       "      <td>Crew Cab</td>\n",
       "      <td>automatic</td>\n",
       "      <td>wa</td>\n",
       "      <td>5.0</td>\n",
       "      <td>54393.0</td>\n",
       "      <td>white</td>\n",
       "      <td>black</td>\n",
       "      <td>i -5 uhlmann rv</td>\n",
       "      <td>30200.0</td>\n",
       "      <td>30800.0</td>\n",
       "      <td>Wed Jul 08 2015 09:30:00 GMT-0700 (PDT)</td>\n",
       "    </tr>\n",
       "    <tr>\n",
       "      <th>558834</th>\n",
       "      <td>2012</td>\n",
       "      <td>BMW</td>\n",
       "      <td>X5</td>\n",
       "      <td>xDrive35d</td>\n",
       "      <td>SUV</td>\n",
       "      <td>automatic</td>\n",
       "      <td>ca</td>\n",
       "      <td>48.0</td>\n",
       "      <td>50561.0</td>\n",
       "      <td>black</td>\n",
       "      <td>black</td>\n",
       "      <td>financial services remarketing (lease)</td>\n",
       "      <td>29800.0</td>\n",
       "      <td>34000.0</td>\n",
       "      <td>Wed Jul 08 2015 09:30:00 GMT-0700 (PDT)</td>\n",
       "    </tr>\n",
       "    <tr>\n",
       "      <th>558835</th>\n",
       "      <td>2015</td>\n",
       "      <td>Nissan</td>\n",
       "      <td>Altima</td>\n",
       "      <td>2.5 S</td>\n",
       "      <td>sedan</td>\n",
       "      <td>automatic</td>\n",
       "      <td>ga</td>\n",
       "      <td>38.0</td>\n",
       "      <td>16658.0</td>\n",
       "      <td>white</td>\n",
       "      <td>black</td>\n",
       "      <td>enterprise vehicle exchange / tra / rental / t...</td>\n",
       "      <td>15100.0</td>\n",
       "      <td>11100.0</td>\n",
       "      <td>Thu Jul 09 2015 06:45:00 GMT-0700 (PDT)</td>\n",
       "    </tr>\n",
       "    <tr>\n",
       "      <th>558836</th>\n",
       "      <td>2014</td>\n",
       "      <td>Ford</td>\n",
       "      <td>F-150</td>\n",
       "      <td>XLT</td>\n",
       "      <td>SuperCrew</td>\n",
       "      <td>automatic</td>\n",
       "      <td>ca</td>\n",
       "      <td>34.0</td>\n",
       "      <td>15008.0</td>\n",
       "      <td>gray</td>\n",
       "      <td>gray</td>\n",
       "      <td>ford motor credit company llc pd</td>\n",
       "      <td>29600.0</td>\n",
       "      <td>26700.0</td>\n",
       "      <td>Thu May 28 2015 05:30:00 GMT-0700 (PDT)</td>\n",
       "    </tr>\n",
       "  </tbody>\n",
       "</table>\n",
       "<p>558837 rows × 15 columns</p>\n",
       "</div>"
      ],
      "text/plain": [
       "        year    make                model         trim       body  \\\n",
       "0       2015     Kia              Sorento           LX        SUV   \n",
       "1       2015     Kia              Sorento           LX        SUV   \n",
       "2       2014     BMW             3 Series   328i SULEV      Sedan   \n",
       "3       2015   Volvo                  S60           T5      Sedan   \n",
       "4       2014     BMW  6 Series Gran Coupe         650i      Sedan   \n",
       "...      ...     ...                  ...          ...        ...   \n",
       "558832  2015     Kia                 K900       Luxury      Sedan   \n",
       "558833  2012     Ram                 2500  Power Wagon   Crew Cab   \n",
       "558834  2012     BMW                   X5    xDrive35d        SUV   \n",
       "558835  2015  Nissan               Altima        2.5 S      sedan   \n",
       "558836  2014    Ford                F-150          XLT  SuperCrew   \n",
       "\n",
       "       transmission state  condition  odometer   color interior  \\\n",
       "0         automatic    ca        5.0   16639.0   white    black   \n",
       "1         automatic    ca        5.0    9393.0   white    beige   \n",
       "2         automatic    ca       45.0    1331.0    gray    black   \n",
       "3         automatic    ca       41.0   14282.0   white    black   \n",
       "4         automatic    ca       43.0    2641.0    gray    black   \n",
       "...             ...   ...        ...       ...     ...      ...   \n",
       "558832            _    in       45.0   18255.0  silver    black   \n",
       "558833    automatic    wa        5.0   54393.0   white    black   \n",
       "558834    automatic    ca       48.0   50561.0   black    black   \n",
       "558835    automatic    ga       38.0   16658.0   white    black   \n",
       "558836    automatic    ca       34.0   15008.0    gray     gray   \n",
       "\n",
       "                                                   seller      mmr  \\\n",
       "0                                 kia motors america  inc  20500.0   \n",
       "1                                 kia motors america  inc  20800.0   \n",
       "2                  financial services remarketing (lease)  31900.0   \n",
       "3                                 volvo na rep/world omni  27500.0   \n",
       "4                  financial services remarketing (lease)  66000.0   \n",
       "...                                                   ...      ...   \n",
       "558832                                   avis corporation  35300.0   \n",
       "558833                                    i -5 uhlmann rv  30200.0   \n",
       "558834             financial services remarketing (lease)  29800.0   \n",
       "558835  enterprise vehicle exchange / tra / rental / t...  15100.0   \n",
       "558836                   ford motor credit company llc pd  29600.0   \n",
       "\n",
       "        sellingprice                                 saledate  \n",
       "0            21500.0  Tue Dec 16 2014 12:30:00 GMT-0800 (PST)  \n",
       "1            21500.0  Tue Dec 16 2014 12:30:00 GMT-0800 (PST)  \n",
       "2            30000.0  Thu Jan 15 2015 04:30:00 GMT-0800 (PST)  \n",
       "3            27750.0  Thu Jan 29 2015 04:30:00 GMT-0800 (PST)  \n",
       "4            67000.0  Thu Dec 18 2014 12:30:00 GMT-0800 (PST)  \n",
       "...              ...                                      ...  \n",
       "558832       33000.0  Thu Jul 09 2015 07:00:00 GMT-0700 (PDT)  \n",
       "558833       30800.0  Wed Jul 08 2015 09:30:00 GMT-0700 (PDT)  \n",
       "558834       34000.0  Wed Jul 08 2015 09:30:00 GMT-0700 (PDT)  \n",
       "558835       11100.0  Thu Jul 09 2015 06:45:00 GMT-0700 (PDT)  \n",
       "558836       26700.0  Thu May 28 2015 05:30:00 GMT-0700 (PDT)  \n",
       "\n",
       "[558837 rows x 15 columns]"
      ]
     },
     "execution_count": 15,
     "metadata": {},
     "output_type": "execute_result"
    }
   ],
   "source": [
    "carprices.drop_duplicates()"
   ]
  },
  {
   "cell_type": "code",
   "execution_count": 16,
   "id": "dced11e8",
   "metadata": {},
   "outputs": [
    {
     "data": {
      "text/plain": [
       "year\n",
       "2012    102315\n",
       "2013     98168\n",
       "2014     81070\n",
       "2011     48548\n",
       "2008     31502\n",
       "Name: count, dtype: int64"
      ]
     },
     "execution_count": 16,
     "metadata": {},
     "output_type": "execute_result"
    }
   ],
   "source": [
    "#summarizing parameters\n",
    "#year\n",
    "carprices['year'].value_counts().head(5)"
   ]
  },
  {
   "cell_type": "code",
   "execution_count": 17,
   "id": "8279594f",
   "metadata": {},
   "outputs": [
    {
     "data": {
      "text/plain": [
       "<Axes: xlabel='year'>"
      ]
     },
     "execution_count": 17,
     "metadata": {},
     "output_type": "execute_result"
    },
    {
     "data": {
      "image/png": "[encoded data removed]",
      "text/plain": [
       "<Figure size 640x480 with 1 Axes>"
      ]
     },
     "metadata": {},
     "output_type": "display_data"
    }
   ],
   "source": [
    "carprices['year'].value_counts().head(5).plot(kind = 'bar')"
   ]
  },
  {
   "cell_type": "code",
   "execution_count": 18,
   "id": "bbf10078",
   "metadata": {},
   "outputs": [
    {
     "data": {
      "text/plain": [
       "make\n",
       "Ford         93554\n",
       "Chevrolet    60197\n",
       "Nissan       53946\n",
       "Toyota       39871\n",
       "Dodge        30710\n",
       "Name: count, dtype: int64"
      ]
     },
     "execution_count": 18,
     "metadata": {},
     "output_type": "execute_result"
    }
   ],
   "source": [
    "#make\n",
    "carprices['make'].value_counts().head(5)"
   ]
  },
  {
   "cell_type": "code",
   "execution_count": 19,
   "id": "a45024dd",
   "metadata": {},
   "outputs": [
    {
     "data": {
      "text/plain": [
       "<Axes: xlabel='make'>"
      ]
     },
     "execution_count": 19,
     "metadata": {},
     "output_type": "execute_result"
    },
    {
     "data": {
      "image/png": "[encoded data removed]",
      "text/plain": [
       "<Figure size 640x480 with 1 Axes>"
      ]
     },
     "metadata": {},
     "output_type": "display_data"
    }
   ],
   "source": [
    "carprices['make'].value_counts().head(5).plot(kind = 'bar')"
   ]
  },
  {
   "cell_type": "code",
   "execution_count": 20,
   "id": "6616660d",
   "metadata": {},
   "outputs": [
    {
     "data": {
      "text/plain": [
       "model\n",
       "Altima    19349\n",
       "F-150     14479\n",
       "Fusion    12946\n",
       "Camry     12545\n",
       "Escape    11861\n",
       "Name: count, dtype: int64"
      ]
     },
     "execution_count": 20,
     "metadata": {},
     "output_type": "execute_result"
    }
   ],
   "source": [
    "#model\n",
    "model1 = carprices['model'].value_counts().head(5)\n",
    "model1"
   ]
  },
  {
   "cell_type": "code",
   "execution_count": 21,
   "id": "0e8aa8a9",
   "metadata": {},
   "outputs": [
    {
     "data": {
      "text/plain": [
       "<Axes: xlabel='model'>"
      ]
     },
     "execution_count": 21,
     "metadata": {},
     "output_type": "execute_result"
    },
    {
     "data": {
      "image/png": "[encoded data removed]",
      "text/plain": [
       "<Figure size 640x480 with 1 Axes>"
      ]
     },
     "metadata": {},
     "output_type": "display_data"
    }
   ],
   "source": [
    "model1.plot(kind = 'bar')"
   ]
  },
  {
   "cell_type": "code",
   "execution_count": 22,
   "id": "c77dafd7",
   "metadata": {},
   "outputs": [
    {
     "data": {
      "text/plain": [
       "trim\n",
       "Base                 55817\n",
       "SE                   43648\n",
       "LX                   20757\n",
       "Limited              18367\n",
       "LT                   16915\n",
       "                     ...  \n",
       "xls                      1\n",
       "series m                 1\n",
       "4x2 reg silverado        1\n",
       "4x2 v6 limited           1\n",
       "Power Wagon              1\n",
       "Name: count, Length: 1964, dtype: int64"
      ]
     },
     "execution_count": 22,
     "metadata": {},
     "output_type": "execute_result"
    }
   ],
   "source": [
    "#trim\n",
    "carprices['trim'].value_counts()"
   ]
  },
  {
   "cell_type": "code",
   "execution_count": 23,
   "id": "c9ab7cce",
   "metadata": {},
   "outputs": [
    {
     "data": {
      "text/plain": [
       "<Axes: xlabel='trim'>"
      ]
     },
     "execution_count": 23,
     "metadata": {},
     "output_type": "execute_result"
    },
    {
     "data": {
      "image/png": "[encoded data removed]",
      "text/plain": [
       "<Figure size 640x480 with 1 Axes>"
      ]
     },
     "metadata": {},
     "output_type": "display_data"
    }
   ],
   "source": [
    "carprices['trim'].value_counts().head(5).plot(kind = 'bar')"
   ]
  },
  {
   "cell_type": "code",
   "execution_count": 24,
   "id": "0447dd52",
   "metadata": {},
   "outputs": [
    {
     "data": {
      "text/plain": [
       "body\n",
       "Sedan          199437\n",
       "SUV            119292\n",
       "sedan           41906\n",
       "suv             24552\n",
       "Hatchback       21380\n",
       "                ...  \n",
       "g37 coupe           1\n",
       "cab plus 4          1\n",
       "CTS-V Wagon         1\n",
       "Ram Van             1\n",
       "cts wagon           1\n",
       "Name: count, Length: 88, dtype: int64"
      ]
     },
     "execution_count": 24,
     "metadata": {},
     "output_type": "execute_result"
    }
   ],
   "source": [
    "#body\n",
    "carprices['body'].value_counts()"
   ]
  },
  {
   "cell_type": "code",
   "execution_count": 25,
   "id": "d82fa4b9",
   "metadata": {},
   "outputs": [
    {
     "data": {
      "text/plain": [
       "<Axes: xlabel='body'>"
      ]
     },
     "execution_count": 25,
     "metadata": {},
     "output_type": "execute_result"
    },
    {
     "data": {
      "image/png": "[encoded data removed]",
      "text/plain": [
       "<Figure size 640x480 with 1 Axes>"
      ]
     },
     "metadata": {},
     "output_type": "display_data"
    }
   ],
   "source": [
    "carprices['body'].value_counts().head(5).plot(kind = 'bar')"
   ]
  },
  {
   "cell_type": "code",
   "execution_count": 26,
   "id": "6a589733",
   "metadata": {},
   "outputs": [
    {
     "data": {
      "text/plain": [
       "transmission\n",
       "automatic    475915\n",
       "_             65352\n",
       "manual        17544\n",
       "sedan            15\n",
       "Sedan            11\n",
       "Name: count, dtype: int64"
      ]
     },
     "execution_count": 26,
     "metadata": {},
     "output_type": "execute_result"
    }
   ],
   "source": [
    "#transmission\n",
    "carprices['transmission'].value_counts()"
   ]
  },
  {
   "cell_type": "code",
   "execution_count": 27,
   "id": "55208426",
   "metadata": {},
   "outputs": [
    {
     "data": {
      "text/plain": [
       "<Axes: xlabel='count', ylabel='transmission'>"
      ]
     },
     "execution_count": 27,
     "metadata": {},
     "output_type": "execute_result"
    },
    {
     "data": {
      "image/png": "[encoded data removed]",
      "text/plain": [
       "<Figure size 640x480 with 1 Axes>"
      ]
     },
     "metadata": {},
     "output_type": "display_data"
    }
   ],
   "source": [
    "sns.countplot(y = 'transmission', data = carprices, palette = 'rocket')"
   ]
  },
  {
   "cell_type": "code",
   "execution_count": 16,
   "id": "db4035b7",
   "metadata": {},
   "outputs": [
    {
     "data": {
      "text/plain": [
       "vin\n",
       "automatic            22\n",
       "wbanv13588cz57827     5\n",
       "5uxfe43579l274932     4\n",
       "trusc28n241022003     4\n",
       "wddgf56x78f009940     4\n",
       "                     ..\n",
       "1p3ew65g7yv603989     1\n",
       "4t1bf28b1yu016829     1\n",
       "jtdbt1231y0082703     1\n",
       "jtddr32t8y0063746     1\n",
       "1ftfw1et2eke87277     1\n",
       "Name: count, Length: 550297, dtype: int64"
      ]
     },
     "execution_count": 16,
     "metadata": {},
     "output_type": "execute_result"
    }
   ],
   "source": [
    "#vin\n",
    "car_prices['vin'].value_counts()"
   ]
  },
  {
   "cell_type": "code",
   "execution_count": 28,
   "id": "d93cfc24",
   "metadata": {},
   "outputs": [
    {
     "data": {
      "text/plain": [
       "state\n",
       "fl                   82945\n",
       "ca                   73148\n",
       "pa                   53907\n",
       "tx                   45913\n",
       "ga                   34750\n",
       "                     ...  \n",
       "3vwd17aj2fm285365        1\n",
       "3vwd17aj3fm276741        1\n",
       "3vwd17aj2fm258506        1\n",
       "3vwd17aj4fm201708        1\n",
       "3vwd17aj2fm261566        1\n",
       "Name: count, Length: 64, dtype: int64"
      ]
     },
     "execution_count": 28,
     "metadata": {},
     "output_type": "execute_result"
    }
   ],
   "source": [
    "#state\n",
    "carprices['state'].value_counts()"
   ]
  },
  {
   "cell_type": "code",
   "execution_count": 29,
   "id": "63c88aff",
   "metadata": {},
   "outputs": [
    {
     "data": {
      "text/plain": [
       "<Axes: xlabel='state'>"
      ]
     },
     "execution_count": 29,
     "metadata": {},
     "output_type": "execute_result"
    },
    {
     "data": {
      "image/png": "[encoded data removed]",
      "text/plain": [
       "<Figure size 640x480 with 1 Axes>"
      ]
     },
     "metadata": {},
     "output_type": "display_data"
    }
   ],
   "source": [
    "carprices['state'].value_counts().head(5).plot(kind = 'bar')"
   ]
  },
  {
   "cell_type": "code",
   "execution_count": 30,
   "id": "3c814403",
   "metadata": {},
   "outputs": [
    {
     "data": {
      "text/plain": [
       "condition\n",
       "19.000000    42281\n",
       "35.000000    26750\n",
       "37.000000    25938\n",
       "44.000000    25514\n",
       "43.000000    24937\n",
       "42.000000    24328\n",
       "36.000000    23144\n",
       "41.000000    23073\n",
       "2.000000     20790\n",
       "4.000000     19922\n",
       "39.000000    19920\n",
       "28.000000    19178\n",
       "29.000000    18928\n",
       "38.000000    18723\n",
       "34.000000    17398\n",
       "27.000000    16351\n",
       "49.000000    13099\n",
       "48.000000    12712\n",
       "46.000000    12634\n",
       "25.000000    12561\n",
       "45.000000    12313\n",
       "26.000000    11912\n",
       "30.672365    11820\n",
       "47.000000    11363\n",
       "5.000000     11222\n",
       "3.000000     10803\n",
       "33.000000    10619\n",
       "32.000000     9962\n",
       "24.000000     9326\n",
       "31.000000     9222\n",
       "21.000000     9199\n",
       "23.000000     8188\n",
       "1.000000      7364\n",
       "22.000000     6057\n",
       "18.000000      323\n",
       "17.000000      243\n",
       "16.000000      178\n",
       "15.000000      144\n",
       "14.000000      134\n",
       "12.000000       95\n",
       "11.000000       87\n",
       "13.000000       82\n",
       "Name: count, dtype: int64"
      ]
     },
     "execution_count": 30,
     "metadata": {},
     "output_type": "execute_result"
    }
   ],
   "source": [
    "#condition\n",
    "carprices['condition'].value_counts()"
   ]
  },
  {
   "cell_type": "code",
   "execution_count": 31,
   "id": "c1e503fa",
   "metadata": {},
   "outputs": [
    {
     "data": {
      "text/plain": [
       "<Axes: xlabel='condition'>"
      ]
     },
     "execution_count": 31,
     "metadata": {},
     "output_type": "execute_result"
    },
    {
     "data": {
      "image/png": "[encoded data removed]",
      "text/plain": [
       "<Figure size 640x480 with 1 Axes>"
      ]
     },
     "metadata": {},
     "output_type": "display_data"
    }
   ],
   "source": [
    "carprices['condition'].value_counts().head(5).plot(kind = 'bar')"
   ]
  },
  {
   "cell_type": "code",
   "execution_count": 32,
   "id": "d849ce09",
   "metadata": {},
   "outputs": [
    {
     "data": {
      "text/plain": [
       "odometer\n",
       "1.000000         1318\n",
       "68320.017767       94\n",
       "999999.000000      72\n",
       "10.000000          29\n",
       "21587.000000       21\n",
       "                 ... \n",
       "175181.000000       1\n",
       "84139.000000        1\n",
       "207851.000000       1\n",
       "165048.000000       1\n",
       "262065.000000       1\n",
       "Name: count, Length: 172279, dtype: int64"
      ]
     },
     "execution_count": 32,
     "metadata": {},
     "output_type": "execute_result"
    }
   ],
   "source": [
    "#odometer\n",
    "carprices['odometer'].value_counts()"
   ]
  },
  {
   "cell_type": "code",
   "execution_count": 33,
   "id": "3f062a99",
   "metadata": {},
   "outputs": [
    {
     "data": {
      "text/plain": [
       "<Axes: xlabel='odometer'>"
      ]
     },
     "execution_count": 33,
     "metadata": {},
     "output_type": "execute_result"
    },
    {
     "data": {
      "image/png": "[encoded data removed]",
      "text/plain": [
       "<Figure size 640x480 with 1 Axes>"
      ]
     },
     "metadata": {},
     "output_type": "display_data"
    }
   ],
   "source": [
    "carprices['odometer'].value_counts().head(5).plot(kind = 'bar')"
   ]
  },
  {
   "cell_type": "code",
   "execution_count": 34,
   "id": "2e26ec69",
   "metadata": {},
   "outputs": [
    {
     "data": {
      "text/plain": [
       "color\n",
       "black        110970\n",
       "white        106673\n",
       "silver        83389\n",
       "gray          82857\n",
       "blue          51139\n",
       "red           43569\n",
       "—             24685\n",
       "green         11382\n",
       "gold          11342\n",
       "beige          9222\n",
       "burgundy       8972\n",
       "brown          6717\n",
       "orange         2078\n",
       "purple         1561\n",
       "off-white      1449\n",
       "yellow         1285\n",
       "_               749\n",
       "charcoal        479\n",
       "turquoise       236\n",
       "pink             42\n",
       "lime             15\n",
       "18384             1\n",
       "6158              1\n",
       "9837              1\n",
       "20379             1\n",
       "20627             1\n",
       "721               1\n",
       "18561             1\n",
       "2817              1\n",
       "5705              1\n",
       "2846              1\n",
       "9562              1\n",
       "9887              1\n",
       "1167              1\n",
       "339               1\n",
       "6864              1\n",
       "2711              1\n",
       "11034             1\n",
       "16633             1\n",
       "6388              1\n",
       "15719             1\n",
       "12655             1\n",
       "14872             1\n",
       "2172              1\n",
       "9410              1\n",
       "4802              1\n",
       "5001              1\n",
       "Name: count, dtype: int64"
      ]
     },
     "execution_count": 34,
     "metadata": {},
     "output_type": "execute_result"
    }
   ],
   "source": [
    "#color\n",
    "carprices['color'].value_counts()"
   ]
  },
  {
   "cell_type": "code",
   "execution_count": 35,
   "id": "30272de5",
   "metadata": {},
   "outputs": [
    {
     "data": {
      "text/plain": [
       "<Axes: xlabel='color'>"
      ]
     },
     "execution_count": 35,
     "metadata": {},
     "output_type": "execute_result"
    },
    {
     "data": {
      "image/png": "[encoded data removed]",
      "text/plain": [
       "<Figure size 640x480 with 1 Axes>"
      ]
     },
     "metadata": {},
     "output_type": "display_data"
    }
   ],
   "source": [
    "carprices['color'].value_counts().head(5).plot(kind = 'bar')"
   ]
  },
  {
   "cell_type": "code",
   "execution_count": 36,
   "id": "b38d4d3a",
   "metadata": {},
   "outputs": [
    {
     "data": {
      "text/plain": [
       "interior\n",
       "black        244329\n",
       "gray         178581\n",
       "beige         59758\n",
       "tan           44093\n",
       "—             17077\n",
       "brown          8640\n",
       "red            1363\n",
       "blue           1143\n",
       "silver         1104\n",
       "_               749\n",
       "off-white       480\n",
       "purple          339\n",
       "gold            324\n",
       "white           256\n",
       "green           245\n",
       "burgundy        191\n",
       "orange          145\n",
       "yellow           20\n",
       "Name: count, dtype: int64"
      ]
     },
     "execution_count": 36,
     "metadata": {},
     "output_type": "execute_result"
    }
   ],
   "source": [
    "#interior\n",
    "carprices['interior'].value_counts()"
   ]
  },
  {
   "cell_type": "code",
   "execution_count": 37,
   "id": "a32f4c4a",
   "metadata": {},
   "outputs": [
    {
     "data": {
      "text/plain": [
       "<Axes: xlabel='interior'>"
      ]
     },
     "execution_count": 37,
     "metadata": {},
     "output_type": "execute_result"
    },
    {
     "data": {
      "image/png": "[encoded data removed]",
      "text/plain": [
       "<Figure size 640x480 with 1 Axes>"
      ]
     },
     "metadata": {},
     "output_type": "display_data"
    }
   ],
   "source": [
    "carprices['interior'].value_counts().head(5).plot(kind = 'bar')"
   ]
  },
  {
   "cell_type": "code",
   "execution_count": 38,
   "id": "dff40d30",
   "metadata": {},
   "outputs": [
    {
     "data": {
      "text/plain": [
       "seller\n",
       "nissan-infiniti lt               19693\n",
       "ford motor credit company llc    19162\n",
       "the hertz corporation            18299\n",
       "santander consumer               15285\n",
       "avis corporation                 12540\n",
       "                                 ...  \n",
       "whitney motor company                1\n",
       "auto max sales inc                   1\n",
       "lscg fund 19 llc                     1\n",
       "lexus of santa fe                    1\n",
       "i -5 uhlmann rv                      1\n",
       "Name: count, Length: 14263, dtype: int64"
      ]
     },
     "execution_count": 38,
     "metadata": {},
     "output_type": "execute_result"
    }
   ],
   "source": [
    "#seller\n",
    "carprices['seller'].value_counts()"
   ]
  },
  {
   "cell_type": "code",
   "execution_count": 39,
   "id": "f6c41ec2",
   "metadata": {},
   "outputs": [
    {
     "data": {
      "text/plain": [
       "<Axes: xlabel='seller'>"
      ]
     },
     "execution_count": 39,
     "metadata": {},
     "output_type": "execute_result"
    },
    {
     "data": {
      "image/png": "[encoded data removed]",
      "text/plain": [
       "<Figure size 640x480 with 1 Axes>"
      ]
     },
     "metadata": {},
     "output_type": "display_data"
    }
   ],
   "source": [
    "carprices['seller'].value_counts().head(5).plot(kind = 'bar')"
   ]
  },
  {
   "cell_type": "code",
   "execution_count": 40,
   "id": "6091f330",
   "metadata": {},
   "outputs": [
    {
     "data": {
      "text/plain": [
       "mmr\n",
       "12500.0     1761\n",
       "11600.0     1751\n",
       "11650.0     1746\n",
       "12150.0     1722\n",
       "11850.0     1717\n",
       "            ... \n",
       "113000.0       1\n",
       "162000.0       1\n",
       "163000.0       1\n",
       "152000.0       1\n",
       "164000.0       1\n",
       "Name: count, Length: 1102, dtype: int64"
      ]
     },
     "execution_count": 40,
     "metadata": {},
     "output_type": "execute_result"
    }
   ],
   "source": [
    "#mmr\n",
    "carprices['mmr'].value_counts()"
   ]
  },
  {
   "cell_type": "code",
   "execution_count": 41,
   "id": "8097ec9f",
   "metadata": {},
   "outputs": [
    {
     "data": {
      "text/plain": [
       "sellingprice\n",
       "11000.0     4453\n",
       "12000.0     4450\n",
       "13000.0     4334\n",
       "10000.0     4029\n",
       "14000.0     3899\n",
       "            ... \n",
       "131500.0       1\n",
       "31550.0        1\n",
       "101500.0       1\n",
       "18301.0        1\n",
       "27840.0        1\n",
       "Name: count, Length: 1888, dtype: int64"
      ]
     },
     "execution_count": 41,
     "metadata": {},
     "output_type": "execute_result"
    }
   ],
   "source": [
    "#sellingprice\n",
    "carprices['sellingprice'].value_counts()"
   ]
  },
  {
   "cell_type": "code",
   "execution_count": 42,
   "id": "56f6de01",
   "metadata": {},
   "outputs": [
    {
     "data": {
      "text/plain": [
       "saledate\n",
       "Tue Feb 10 2015 01:30:00 GMT-0800 (PST)    5334\n",
       "Tue Feb 17 2015 01:30:00 GMT-0800 (PST)    5016\n",
       "Tue Jan 27 2015 01:30:00 GMT-0800 (PST)    4902\n",
       "Tue Jan 20 2015 01:30:00 GMT-0800 (PST)    4731\n",
       "Tue Mar 03 2015 01:30:00 GMT-0800 (PST)    4653\n",
       "                                           ... \n",
       "Wed Apr 01 2015 02:05:00 GMT-0700 (PDT)       1\n",
       "Wed Apr 01 2015 02:40:00 GMT-0700 (PDT)       1\n",
       "Mon Mar 30 2015 02:00:00 GMT-0700 (PDT)       1\n",
       "Thu Apr 02 2015 11:30:00 GMT-0700 (PDT)       1\n",
       "Wed Jul 08 2015 09:45:00 GMT-0700 (PDT)       1\n",
       "Name: count, Length: 3767, dtype: int64"
      ]
     },
     "execution_count": 42,
     "metadata": {},
     "output_type": "execute_result"
    }
   ],
   "source": [
    "#saledate\n",
    "carprices['saledate'].value_counts()"
   ]
  },
  {
   "cell_type": "code",
   "execution_count": 43,
   "id": "c03aab39",
   "metadata": {},
   "outputs": [
    {
     "data": {
      "text/plain": [
       "year\n",
       "1982    2.550000e+04\n",
       "1983    5.250000e+03\n",
       "1984    1.080000e+04\n",
       "1985    3.520000e+04\n",
       "1986    2.792500e+04\n",
       "1987    1.210000e+04\n",
       "1988    3.485000e+04\n",
       "1989    3.240000e+04\n",
       "1990    7.035000e+04\n",
       "1991    6.322500e+04\n",
       "1992    1.309000e+05\n",
       "1993    1.709500e+05\n",
       "1994    3.412750e+05\n",
       "1995    6.493510e+05\n",
       "1996    8.389000e+05\n",
       "1997    1.789425e+06\n",
       "1998    2.711435e+06\n",
       "1999    5.157820e+06\n",
       "2000    9.554089e+06\n",
       "2001    1.378340e+07\n",
       "2002    2.537276e+07\n",
       "2003    4.578318e+07\n",
       "2004    7.494301e+07\n",
       "2005    1.047020e+08\n",
       "2006    1.665970e+08\n",
       "2007    2.474377e+08\n",
       "2008    2.995227e+08\n",
       "2009    2.154609e+08\n",
       "2010    3.287438e+08\n",
       "2011    7.695672e+08\n",
       "2012    1.703922e+09\n",
       "2013    1.715612e+09\n",
       "2014    1.628700e+09\n",
       "2015    2.447214e+08\n",
       "Name: sellingprice, dtype: float64"
      ]
     },
     "execution_count": 43,
     "metadata": {},
     "output_type": "execute_result"
    }
   ],
   "source": [
    "#year by sales\n",
    "carprices.groupby('year')['sellingprice'].sum()"
   ]
  },
  {
   "cell_type": "code",
   "execution_count": 44,
   "id": "920147e1",
   "metadata": {},
   "outputs": [
    {
     "data": {
      "text/plain": [
       "make\n",
       "Acura            82715900.0\n",
       "Aston Martin      1370300.0\n",
       "Audi            116883675.0\n",
       "BMW             444254638.0\n",
       "Bentley           8626650.0\n",
       "                   ...     \n",
       "subaru             222625.0\n",
       "suzuki              24050.0\n",
       "toyota             697215.0\n",
       "volkswagen         147500.0\n",
       "vw                 328150.0\n",
       "Name: sellingprice, Length: 97, dtype: float64"
      ]
     },
     "execution_count": 44,
     "metadata": {},
     "output_type": "execute_result"
    }
   ],
   "source": [
    "#make by sales\n",
    "carprices.groupby('make')['sellingprice'].sum()"
   ]
  },
  {
   "cell_type": "code",
   "execution_count": 45,
   "id": "6df37a12",
   "metadata": {},
   "outputs": [
    {
     "data": {
      "text/plain": [
       "model\n",
       "1               54400.0\n",
       "1 Series      7798475.0\n",
       "1500         74090636.0\n",
       "190-Class        2125.0\n",
       "2 Series      1231700.0\n",
       "                ...    \n",
       "xA              83550.0\n",
       "xB            3876950.0\n",
       "xD            1592100.0\n",
       "yaris           16400.0\n",
       "yukon            3300.0\n",
       "Name: sellingprice, Length: 974, dtype: float64"
      ]
     },
     "execution_count": 45,
     "metadata": {},
     "output_type": "execute_result"
    }
   ],
   "source": [
    "#model by sales\n",
    "carprices.groupby('model')['sellingprice'].sum()"
   ]
  },
  {
   "cell_type": "code",
   "execution_count": 46,
   "id": "5c049771",
   "metadata": {},
   "outputs": [
    {
     "data": {
      "text/plain": [
       "trim\n",
       "!                     4057175.0\n",
       "& coun fwd                400.0\n",
       "& coun fwd limited       4500.0\n",
       "& coun fwd lx            8650.0\n",
       "& country lx            98250.0\n",
       "                        ...    \n",
       "xr                       7900.0\n",
       "xr-7                      550.0\n",
       "yuk xl 4x2 slt          10400.0\n",
       "z06                    104350.0\n",
       "zx3                       650.0\n",
       "Name: sellingprice, Length: 1964, dtype: float64"
      ]
     },
     "execution_count": 46,
     "metadata": {},
     "output_type": "execute_result"
    }
   ],
   "source": [
    "#trim by sales\n",
    "carprices.groupby('trim')['sellingprice'].sum()"
   ]
  },
  {
   "cell_type": "code",
   "execution_count": 47,
   "id": "a8bede0b",
   "metadata": {},
   "outputs": [
    {
     "data": {
      "text/plain": [
       "body\n",
       "Access Cab             3076900.0\n",
       "Beetle Convertible      939650.0\n",
       "CTS Coupe              2935850.0\n",
       "CTS Wagon               231550.0\n",
       "CTS-V Coupe            1075921.0\n",
       "                         ...    \n",
       "transit van             158950.0\n",
       "tsx sport wagon         144950.0\n",
       "van                    8555553.0\n",
       "wagon                 26368462.0\n",
       "xtracab                  21000.0\n",
       "Name: sellingprice, Length: 88, dtype: float64"
      ]
     },
     "execution_count": 47,
     "metadata": {},
     "output_type": "execute_result"
    }
   ],
   "source": [
    "#body by sales\n",
    "carprices.groupby('body')['sellingprice'].sum()"
   ]
  },
  {
   "cell_type": "code",
   "execution_count": 48,
   "id": "50f384c2",
   "metadata": {},
   "outputs": [
    {
     "data": {
      "text/plain": [
       "transmission\n",
       "Sedan        1.505500e+05\n",
       "_            9.653985e+08\n",
       "automatic    6.444084e+09\n",
       "manual       1.966936e+08\n",
       "sedan        2.047500e+05\n",
       "Name: sellingprice, dtype: float64"
      ]
     },
     "execution_count": 48,
     "metadata": {},
     "output_type": "execute_result"
    }
   ],
   "source": [
    "#transmission by sales\n",
    "carprices.groupby('transmission')['sellingprice'].sum()"
   ]
  },
  {
   "cell_type": "code",
   "execution_count": 68,
   "id": "2ed42de2",
   "metadata": {},
   "outputs": [
    {
     "data": {
      "text/plain": [
       "vin\n",
       "137fa90362e197965     36000.0\n",
       "137za84341e193591     45750.0\n",
       "137za8435ye187468     42000.0\n",
       "19uua5640xa034760      1050.0\n",
       "19uua5640xa053244      2100.0\n",
       "                       ...   \n",
       "zffyu51a5y0121034     47250.0\n",
       "zhwgu22t28la06389    116000.0\n",
       "zhwgu22t47la04254    107000.0\n",
       "zhwgu22t47la04447    117500.0\n",
       "zhwgu22t97la05738    110000.0\n",
       "Name: sellingprice, Length: 550297, dtype: float64"
      ]
     },
     "execution_count": 68,
     "metadata": {},
     "output_type": "execute_result"
    }
   ],
   "source": [
    "#vin by sales\n",
    "car_prices.groupby('vin')['sellingprice'].sum()"
   ]
  },
  {
   "cell_type": "code",
   "execution_count": 49,
   "id": "d1110669",
   "metadata": {},
   "outputs": [
    {
     "data": {
      "text/plain": [
       "state\n",
       "3vwd17aj0fm227318    1.370000e+04\n",
       "3vwd17aj2fm258506    1.330000e+04\n",
       "3vwd17aj2fm261566    1.340000e+04\n",
       "3vwd17aj2fm285365    1.405000e+04\n",
       "3vwd17aj3fm259017    1.425000e+04\n",
       "                         ...     \n",
       "tx                   6.064954e+08\n",
       "ut                   2.215249e+07\n",
       "va                   1.031384e+08\n",
       "wa                   1.034190e+08\n",
       "wi                   1.379488e+08\n",
       "Name: sellingprice, Length: 64, dtype: float64"
      ]
     },
     "execution_count": 49,
     "metadata": {},
     "output_type": "execute_result"
    }
   ],
   "source": [
    "#state by sales\n",
    "carprices.groupby('state')['sellingprice'].sum()"
   ]
  },
  {
   "cell_type": "code",
   "execution_count": 50,
   "id": "938efd7f",
   "metadata": {},
   "outputs": [
    {
     "data": {
      "text/plain": [
       "condition\n",
       "1.000000     2.888997e+07\n",
       "2.000000     1.183244e+08\n",
       "3.000000     1.326112e+08\n",
       "4.000000     3.531083e+08\n",
       "5.000000     2.774609e+08\n",
       "11.000000    3.918900e+05\n",
       "12.000000    3.629750e+05\n",
       "13.000000    2.915000e+05\n",
       "14.000000    4.454000e+05\n",
       "15.000000    5.635500e+05\n",
       "16.000000    7.807500e+05\n",
       "17.000000    9.902000e+05\n",
       "18.000000    1.480650e+06\n",
       "19.000000    2.149148e+08\n",
       "21.000000    6.743417e+07\n",
       "22.000000    4.613363e+07\n",
       "23.000000    6.601218e+07\n",
       "24.000000    7.797952e+07\n",
       "25.000000    1.110485e+08\n",
       "26.000000    1.092858e+08\n",
       "27.000000    1.576771e+08\n",
       "28.000000    1.955964e+08\n",
       "29.000000    2.036076e+08\n",
       "30.672365    7.736522e+07\n",
       "31.000000    1.074602e+08\n",
       "32.000000    1.182442e+08\n",
       "33.000000    1.297527e+08\n",
       "34.000000    2.214102e+08\n",
       "35.000000    3.576741e+08\n",
       "36.000000    3.261022e+08\n",
       "37.000000    3.854310e+08\n",
       "38.000000    2.892010e+08\n",
       "39.000000    3.184558e+08\n",
       "41.000000    3.999397e+08\n",
       "42.000000    4.363132e+08\n",
       "43.000000    4.641708e+08\n",
       "44.000000    4.904394e+08\n",
       "45.000000    2.465214e+08\n",
       "46.000000    2.593340e+08\n",
       "47.000000    2.386453e+08\n",
       "48.000000    2.746268e+08\n",
       "49.000000    3.000522e+08\n",
       "Name: sellingprice, dtype: float64"
      ]
     },
     "execution_count": 50,
     "metadata": {},
     "output_type": "execute_result"
    }
   ],
   "source": [
    "#condition by sales\n",
    "carprices.groupby('condition')['sellingprice'].sum()"
   ]
  },
  {
   "cell_type": "code",
   "execution_count": 51,
   "id": "549496a8",
   "metadata": {},
   "outputs": [
    {
     "data": {
      "text/plain": [
       "odometer\n",
       "1.0         3184242.0\n",
       "2.0          282200.0\n",
       "3.0          226150.0\n",
       "4.0          179650.0\n",
       "5.0          302000.0\n",
       "              ...    \n",
       "621388.0       3100.0\n",
       "694978.0       1500.0\n",
       "959276.0        500.0\n",
       "980113.0        200.0\n",
       "999999.0     126950.0\n",
       "Name: sellingprice, Length: 172279, dtype: float64"
      ]
     },
     "execution_count": 51,
     "metadata": {},
     "output_type": "execute_result"
    }
   ],
   "source": [
    "#odometer\n",
    "carprices.groupby('odometer')['sellingprice'].sum()"
   ]
  },
  {
   "cell_type": "code",
   "execution_count": 52,
   "id": "48a7a077",
   "metadata": {},
   "outputs": [
    {
     "data": {
      "text/plain": [
       "color\n",
       "11034        1.390000e+04\n",
       "1167         1.320000e+04\n",
       "12655        1.385000e+04\n",
       "14872        1.370000e+04\n",
       "15719        1.365000e+04\n",
       "16633        1.360000e+04\n",
       "18384        1.355000e+04\n",
       "18561        1.320000e+04\n",
       "20379        1.360000e+04\n",
       "20627        1.360000e+04\n",
       "2172         1.405000e+04\n",
       "2711         1.425000e+04\n",
       "2817         1.375000e+04\n",
       "2846         1.360000e+04\n",
       "339          1.430000e+04\n",
       "4802         1.320000e+04\n",
       "5001         1.340000e+04\n",
       "5705         1.340000e+04\n",
       "6158         1.365000e+04\n",
       "6388         1.385000e+04\n",
       "6864         1.400000e+04\n",
       "721          1.410000e+04\n",
       "9410         1.330000e+04\n",
       "9562         1.320000e+04\n",
       "9837         1.350000e+04\n",
       "9887         1.390000e+04\n",
       "_            1.669824e+07\n",
       "beige        8.697424e+07\n",
       "black        1.721032e+09\n",
       "blue         5.850635e+08\n",
       "brown        1.031248e+08\n",
       "burgundy     1.067937e+08\n",
       "charcoal     7.782551e+06\n",
       "gold         9.441892e+07\n",
       "gray         1.155976e+09\n",
       "green        9.449119e+07\n",
       "lime         1.988500e+05\n",
       "off-white    2.206860e+07\n",
       "orange       2.657161e+07\n",
       "pink         4.933500e+05\n",
       "purple       1.868468e+07\n",
       "red          5.528432e+08\n",
       "silver       9.824138e+08\n",
       "turquoise    1.976377e+06\n",
       "white        1.572431e+09\n",
       "yellow       1.625808e+07\n",
       "—            4.398802e+08\n",
       "Name: sellingprice, dtype: float64"
      ]
     },
     "execution_count": 52,
     "metadata": {},
     "output_type": "execute_result"
    }
   ],
   "source": [
    "#color by sales\n",
    "carprices.groupby('color')['sellingprice'].sum()"
   ]
  },
  {
   "cell_type": "code",
   "execution_count": 53,
   "id": "24d6570a",
   "metadata": {},
   "outputs": [
    {
     "data": {
      "text/plain": [
       "interior\n",
       "_            1.669824e+07\n",
       "beige        7.976803e+08\n",
       "black        3.830949e+09\n",
       "blue         9.441700e+06\n",
       "brown        1.748906e+08\n",
       "burgundy     3.755850e+06\n",
       "gold         3.700100e+06\n",
       "gray         1.969220e+09\n",
       "green        2.462050e+06\n",
       "off-white    1.394208e+07\n",
       "orange       2.837550e+06\n",
       "purple       4.474151e+06\n",
       "red          3.242452e+07\n",
       "silver       1.182335e+07\n",
       "tan          5.461921e+08\n",
       "white        4.759627e+06\n",
       "yellow       3.703000e+05\n",
       "—            1.809097e+08\n",
       "Name: sellingprice, dtype: float64"
      ]
     },
     "execution_count": 53,
     "metadata": {},
     "output_type": "execute_result"
    }
   ],
   "source": [
    "#interior by sales\n",
    "carprices.groupby('interior')['sellingprice'].sum()"
   ]
  },
  {
   "cell_type": "code",
   "execution_count": 54,
   "id": "ddc768b7",
   "metadata": {},
   "outputs": [
    {
     "data": {
      "text/plain": [
       "seller\n",
       "1 cochran of monroeville    1594050.0\n",
       "1 for all auto sales           5600.0\n",
       "101motors                      3750.0\n",
       "1360250 alberta ltd           24000.0\n",
       "1360250 alberta ltd.           3000.0\n",
       "                              ...    \n",
       "zonemotors.com inc             5900.0\n",
       "zoom auto                      8000.0\n",
       "zuma autoboat                 10000.0\n",
       "zumbrota ford sales llc       13800.0\n",
       "zygi auto corp                 7750.0\n",
       "Name: sellingprice, Length: 14263, dtype: float64"
      ]
     },
     "execution_count": 54,
     "metadata": {},
     "output_type": "execute_result"
    }
   ],
   "source": [
    "#seller by sales\n",
    "carprices.groupby('seller')['sellingprice'].sum()"
   ]
  },
  {
   "cell_type": "code",
   "execution_count": 55,
   "id": "1225cb28",
   "metadata": {},
   "outputs": [
    {
     "data": {
      "text/plain": [
       "saledate\n",
       "10500                                       13300.00000\n",
       "10700                                       13850.00000\n",
       "12100                                       13200.00000\n",
       "12200                                       13750.00000\n",
       "12700                                       13200.00000\n",
       "                                               ...     \n",
       "Wed May 27 2015 10:15:00 GMT-0700 (PDT)    182200.00000\n",
       "Wed May 27 2015 10:20:00 GMT-0700 (PDT)     11600.00000\n",
       "Wed May 27 2015 10:25:00 GMT-0700 (PDT)     10000.00000\n",
       "Wed May 27 2015 17:00:00 GMT-0700 (PDT)    218450.00000\n",
       "_                                          163336.30572\n",
       "Name: sellingprice, Length: 3767, dtype: float64"
      ]
     },
     "execution_count": 55,
     "metadata": {},
     "output_type": "execute_result"
    }
   ],
   "source": [
    "#saledate by sales\n",
    "carprices.groupby('saledate')['sellingprice'].sum()"
   ]
  },
  {
   "cell_type": "code",
   "execution_count": 58,
   "id": "46a962e5",
   "metadata": {},
   "outputs": [
    {
     "data": {
      "text/plain": [
       "Text(0.5, 1.0, 'YEAR VARIATION WITH SELLINGPRICE')"
      ]
     },
     "execution_count": 58,
     "metadata": {},
     "output_type": "execute_result"
    },
    {
     "data": {
      "image/png": "[encoded data removed]",
      "text/plain": [
       "<Figure size 640x480 with 1 Axes>"
      ]
     },
     "metadata": {},
     "output_type": "display_data"
    }
   ],
   "source": [
    "#variation of year with sellingprice\n",
    "sns.scatterplot(data = carprices, x = 'year', y = 'sellingprice')\n",
    "plt.title('YEAR VARIATION WITH SELLINGPRICE')"
   ]
  },
  {
   "cell_type": "code",
   "execution_count": 59,
   "id": "f349b3ac",
   "metadata": {},
   "outputs": [
    {
     "data": {
      "text/plain": [
       "Text(0.5, 1.0, 'CONDITION VARIATION WITH SELLINGPRICE')"
      ]
     },
     "execution_count": 59,
     "metadata": {},
     "output_type": "execute_result"
    },
    {
     "data": {
      "image/png": "[encoded data removed]",
      "text/plain": [
       "<Figure size 640x480 with 1 Axes>"
      ]
     },
     "metadata": {},
     "output_type": "display_data"
    }
   ],
   "source": [
    "#variation of condition with sellingprice\n",
    "sns.scatterplot(data = carprices, x = 'condition', y = 'sellingprice')\n",
    "plt.title('CONDITION VARIATION WITH SELLINGPRICE')"
   ]
  },
  {
   "cell_type": "code",
   "execution_count": 60,
   "id": "acbf2631",
   "metadata": {},
   "outputs": [
    {
     "data": {
      "text/plain": [
       "Text(0.5, 1.0, 'ODOMETER VARIATION WITH SELLINGPRICE')"
      ]
     },
     "execution_count": 60,
     "metadata": {},
     "output_type": "execute_result"
    },
    {
     "data": {
      "image/png": "[encoded data removed]",
      "text/plain": [
       "<Figure size 640x480 with 1 Axes>"
      ]
     },
     "metadata": {},
     "output_type": "display_data"
    }
   ],
   "source": [
    "#variation of odometer with sellingprice\n",
    "sns.scatterplot(data = carprices, x = 'odometer', y = 'sellingprice')\n",
    "plt.title('ODOMETER VARIATION WITH SELLINGPRICE')"
   ]
  },
  {
   "cell_type": "code",
   "execution_count": 61,
   "id": "f0c44b11",
   "metadata": {},
   "outputs": [
    {
     "data": {
      "text/plain": [
       "Text(0.5, 1.0, 'MMR VARIATION WITH SELLINGPRICE')"
      ]
     },
     "execution_count": 61,
     "metadata": {},
     "output_type": "execute_result"
    },
    {
     "data": {
      "image/png": "[encoded data removed]",
      "text/plain": [
       "<Figure size 640x480 with 1 Axes>"
      ]
     },
     "metadata": {},
     "output_type": "display_data"
    }
   ],
   "source": [
    "#variation of mmr with sellingprice\n",
    "sns.scatterplot(data = carprices, x = 'mmr', y = 'sellingprice')\n",
    "plt.title('MMR VARIATION WITH SELLINGPRICE')"
   ]
  },
  {
   "cell_type": "code",
   "execution_count": null,
   "id": "278138da",
   "metadata": {},
   "outputs": [],
   "source": []
  }
 ],
 "metadata": {
  "kernelspec": {
   "display_name": "Python 3 (ipykernel)",
   "language": "python",
   "name": "python3"
  },
  "language_info": {
   "codemirror_mode": {
    "name": "ipython",
    "version": 3
   },
   "file_extension": ".py",
   "mimetype": "text/x-python",
   "name": "python",
   "nbconvert_exporter": "python",
   "pygments_lexer": "ipython3",
   "version": "3.11.5"
  }
 },
 "nbformat": 4,
 "nbformat_minor": 5
}
