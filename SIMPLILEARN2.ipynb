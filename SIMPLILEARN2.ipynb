{
 "cells": [
  {
   "cell_type": "code",
   "execution_count": 1,
   "id": "a6362f9b",
   "metadata": {},
   "outputs": [
    {
     "name": "stdout",
     "output_type": "stream",
     "text": [
      "[1 2 3]\n"
     ]
    }
   ],
   "source": [
    "import numpy as np\n",
    "\n",
    "arr1 = np.array([1,2,3])\n",
    "\n",
    "print(arr1)"
   ]
  },
  {
   "cell_type": "code",
   "execution_count": 2,
   "id": "d4eb9c50",
   "metadata": {},
   "outputs": [
    {
     "name": "stdout",
     "output_type": "stream",
     "text": [
      "<class 'numpy.ndarray'>\n"
     ]
    }
   ],
   "source": [
    "print(type(arr1))"
   ]
  },
  {
   "cell_type": "code",
   "execution_count": 3,
   "id": "2559b064",
   "metadata": {},
   "outputs": [
    {
     "name": "stdout",
     "output_type": "stream",
     "text": [
      "(3,)\n"
     ]
    }
   ],
   "source": [
    "print(arr1.shape)"
   ]
  },
  {
   "cell_type": "code",
   "execution_count": 4,
   "id": "b160fe7f",
   "metadata": {},
   "outputs": [
    {
     "name": "stdout",
     "output_type": "stream",
     "text": [
      "3\n"
     ]
    }
   ],
   "source": [
    "print(arr1[2])"
   ]
  },
  {
   "cell_type": "code",
   "execution_count": 5,
   "id": "a333f584",
   "metadata": {},
   "outputs": [
    {
     "data": {
      "text/plain": [
       "array([1, 2, 5])"
      ]
     },
     "execution_count": 5,
     "metadata": {},
     "output_type": "execute_result"
    }
   ],
   "source": [
    "arr1[2]=5\n",
    "arr1"
   ]
  },
  {
   "cell_type": "code",
   "execution_count": 6,
   "id": "d49959b4",
   "metadata": {},
   "outputs": [
    {
     "data": {
      "text/plain": [
       "array([[1, 2, 3],\n",
       "       [3, 4, 5]])"
      ]
     },
     "execution_count": 6,
     "metadata": {},
     "output_type": "execute_result"
    }
   ],
   "source": [
    "arr2 = np.array([[1,2,3],[3,4,5]])\n",
    "arr2"
   ]
  },
  {
   "cell_type": "code",
   "execution_count": 7,
   "id": "24519565",
   "metadata": {},
   "outputs": [
    {
     "data": {
      "text/plain": [
       "5"
      ]
     },
     "execution_count": 7,
     "metadata": {},
     "output_type": "execute_result"
    }
   ],
   "source": [
    "arr2[1][2]"
   ]
  },
  {
   "cell_type": "code",
   "execution_count": 8,
   "id": "b660f392",
   "metadata": {},
   "outputs": [
    {
     "name": "stdout",
     "output_type": "stream",
     "text": [
      "(2, 3)\n"
     ]
    }
   ],
   "source": [
    "print(arr2.shape)"
   ]
  },
  {
   "cell_type": "code",
   "execution_count": 9,
   "id": "8549fb71",
   "metadata": {},
   "outputs": [
    {
     "data": {
      "text/plain": [
       "5"
      ]
     },
     "execution_count": 9,
     "metadata": {},
     "output_type": "execute_result"
    }
   ],
   "source": [
    "arr2[1,2]"
   ]
  },
  {
   "cell_type": "code",
   "execution_count": 10,
   "id": "a07602dd",
   "metadata": {},
   "outputs": [
    {
     "data": {
      "text/plain": [
       "4"
      ]
     },
     "execution_count": 10,
     "metadata": {},
     "output_type": "execute_result"
    }
   ],
   "source": [
    "arr2[1][-2]"
   ]
  },
  {
   "cell_type": "code",
   "execution_count": 11,
   "id": "a3a710db",
   "metadata": {},
   "outputs": [
    {
     "data": {
      "text/plain": [
       "array(['China', 'India', 'USA', 'Mexico'], dtype='<U6')"
      ]
     },
     "execution_count": 11,
     "metadata": {},
     "output_type": "execute_result"
    }
   ],
   "source": [
    "arrS = np.array(['China', 'India', 'USA', 'Mexico'])\n",
    "arrS"
   ]
  },
  {
   "cell_type": "code",
   "execution_count": 13,
   "id": "9f7a1059",
   "metadata": {},
   "outputs": [
    {
     "data": {
      "text/plain": [
       "array([ 0,  2,  4,  6,  8, 10, 12, 14, 16, 18])"
      ]
     },
     "execution_count": 13,
     "metadata": {},
     "output_type": "execute_result"
    }
   ],
   "source": [
    "arrR = np.arange(0,20,2)\n",
    "arrR"
   ]
  },
  {
   "cell_type": "code",
   "execution_count": 14,
   "id": "838e68ec",
   "metadata": {},
   "outputs": [
    {
     "data": {
      "text/plain": [
       "array([ 0.        ,  0.52631579,  1.05263158,  1.57894737,  2.10526316,\n",
       "        2.63157895,  3.15789474,  3.68421053,  4.21052632,  4.73684211,\n",
       "        5.26315789,  5.78947368,  6.31578947,  6.84210526,  7.36842105,\n",
       "        7.89473684,  8.42105263,  8.94736842,  9.47368421, 10.        ])"
      ]
     },
     "execution_count": 14,
     "metadata": {},
     "output_type": "execute_result"
    }
   ],
   "source": [
    "arrL = np.linspace(0,10,20)\n",
    "arrL"
   ]
  },
  {
   "cell_type": "code",
   "execution_count": 15,
   "id": "f53179d5",
   "metadata": {},
   "outputs": [
    {
     "data": {
      "text/plain": [
       "array([0.19004274, 0.29273249, 0.77854657, 0.54058796, 0.1656789 ,\n",
       "       0.20135369, 0.30345437, 0.79447679, 0.39783274, 0.28256149])"
      ]
     },
     "execution_count": 15,
     "metadata": {},
     "output_type": "execute_result"
    }
   ],
   "source": [
    "arr = np.random.rand(10)\n",
    "arr"
   ]
  },
  {
   "cell_type": "code",
   "execution_count": 16,
   "id": "678f9f11",
   "metadata": {},
   "outputs": [
    {
     "data": {
      "text/plain": [
       "array([[0.33214173, 0.08502107, 0.30539746, 0.29611573],\n",
       "       [0.95560212, 0.05024292, 0.53060009, 0.96298352],\n",
       "       [0.10185039, 0.36878395, 0.68053735, 0.38932182]])"
      ]
     },
     "execution_count": 16,
     "metadata": {},
     "output_type": "execute_result"
    }
   ],
   "source": [
    "arr = np.random.rand(3,4)\n",
    "arr"
   ]
  },
  {
   "cell_type": "code",
   "execution_count": 17,
   "id": "f01416eb",
   "metadata": {},
   "outputs": [
    {
     "name": "stdout",
     "output_type": "stream",
     "text": [
      "[0. 0. 0. 0. 0. 0. 0. 0. 0. 0.]\n",
      "/n\n",
      "[[0. 0. 0.]\n",
      " [0. 0. 0.]]\n"
     ]
    }
   ],
   "source": [
    "print(np.zeros(10))\n",
    "print('/n')\n",
    "print(np.zeros((2,3)))"
   ]
  },
  {
   "cell_type": "code",
   "execution_count": 18,
   "id": "57607604",
   "metadata": {},
   "outputs": [
    {
     "name": "stdout",
     "output_type": "stream",
     "text": [
      "[[1. 1. 1. 1. 1. 1. 1. 1. 1. 1.]\n",
      " [1. 1. 1. 1. 1. 1. 1. 1. 1. 1.]\n",
      " [1. 1. 1. 1. 1. 1. 1. 1. 1. 1.]\n",
      " [1. 1. 1. 1. 1. 1. 1. 1. 1. 1.]\n",
      " [1. 1. 1. 1. 1. 1. 1. 1. 1. 1.]\n",
      " [1. 1. 1. 1. 1. 1. 1. 1. 1. 1.]\n",
      " [1. 1. 1. 1. 1. 1. 1. 1. 1. 1.]\n",
      " [1. 1. 1. 1. 1. 1. 1. 1. 1. 1.]\n",
      " [1. 1. 1. 1. 1. 1. 1. 1. 1. 1.]\n",
      " [1. 1. 1. 1. 1. 1. 1. 1. 1. 1.]]\n"
     ]
    }
   ],
   "source": [
    "print(np.ones((10,10)))"
   ]
  },
  {
   "cell_type": "code",
   "execution_count": 19,
   "id": "b382c5fb",
   "metadata": {},
   "outputs": [
    {
     "name": "stdout",
     "output_type": "stream",
     "text": [
      "[0 0 0 1 1 1 2 2 2]\n"
     ]
    }
   ],
   "source": [
    "arr = [0, 1, 2]\n",
    "print(np.repeat(arr, 3))"
   ]
  },
  {
   "cell_type": "code",
   "execution_count": 20,
   "id": "20b194a5",
   "metadata": {},
   "outputs": [
    {
     "name": "stdout",
     "output_type": "stream",
     "text": [
      "[0 1 2 0 1 2 0 1 2]\n"
     ]
    }
   ],
   "source": [
    "print(np.tile(arr,3))"
   ]
  },
  {
   "cell_type": "code",
   "execution_count": 21,
   "id": "d9367822",
   "metadata": {},
   "outputs": [
    {
     "data": {
      "text/plain": [
       "array([[1., 0., 0.],\n",
       "       [0., 1., 0.],\n",
       "       [0., 0., 1.]])"
      ]
     },
     "execution_count": 21,
     "metadata": {},
     "output_type": "execute_result"
    }
   ],
   "source": [
    "identify_matrix = np.eye(3)\n",
    "identify_matrix"
   ]
  },
  {
   "cell_type": "code",
   "execution_count": 22,
   "id": "6bbf8e80",
   "metadata": {},
   "outputs": [
    {
     "data": {
      "text/plain": [
       "array([[1, 0, 0, 0, 0],\n",
       "       [0, 2, 0, 0, 0],\n",
       "       [0, 0, 3, 0, 0],\n",
       "       [0, 0, 0, 4, 0],\n",
       "       [0, 0, 0, 0, 5]])"
      ]
     },
     "execution_count": 22,
     "metadata": {},
     "output_type": "execute_result"
    }
   ],
   "source": [
    "np.diag([1,2,3,4,5])"
   ]
  },
  {
   "cell_type": "code",
   "execution_count": 23,
   "id": "efddf01a",
   "metadata": {},
   "outputs": [
    {
     "data": {
      "text/plain": [
       "array([[0.43399678, 0.58672569, 0.08744766, 0.87590884, 0.06218873],\n",
       "       [0.12458303, 0.9321369 , 0.38942429, 0.64945649, 0.09109793],\n",
       "       [0.17488488, 0.56287209, 0.98005619, 0.32065206, 0.81314235],\n",
       "       [0.4948978 , 0.28455027, 0.92419923, 0.21764139, 0.77810004],\n",
       "       [0.90464081, 0.8330377 , 0.93473464, 0.72737853, 0.5403041 ]])"
      ]
     },
     "execution_count": 23,
     "metadata": {},
     "output_type": "execute_result"
    }
   ],
   "source": [
    "arr = np.random.rand(5,5)\n",
    "arr"
   ]
  },
  {
   "cell_type": "code",
   "execution_count": 24,
   "id": "c85ba42d",
   "metadata": {},
   "outputs": [
    {
     "data": {
      "text/plain": [
       "array([0.43399678, 0.9321369 , 0.98005619, 0.21764139, 0.5403041 ])"
      ]
     },
     "execution_count": 24,
     "metadata": {},
     "output_type": "execute_result"
    }
   ],
   "source": [
    "np.diag(arr)"
   ]
  },
  {
   "cell_type": "code",
   "execution_count": 25,
   "id": "00eb506a",
   "metadata": {},
   "outputs": [
    {
     "data": {
      "text/plain": [
       "2"
      ]
     },
     "execution_count": 25,
     "metadata": {},
     "output_type": "execute_result"
    }
   ],
   "source": [
    "arr.ndim"
   ]
  },
  {
   "cell_type": "code",
   "execution_count": 26,
   "id": "4b33bf40",
   "metadata": {},
   "outputs": [
    {
     "data": {
      "text/plain": [
       "25"
      ]
     },
     "execution_count": 26,
     "metadata": {},
     "output_type": "execute_result"
    }
   ],
   "source": [
    "arr.size"
   ]
  },
  {
   "cell_type": "code",
   "execution_count": 27,
   "id": "86417b83",
   "metadata": {},
   "outputs": [
    {
     "data": {
      "text/plain": [
       "(5, 5)"
      ]
     },
     "execution_count": 27,
     "metadata": {},
     "output_type": "execute_result"
    }
   ],
   "source": [
    "arr.shape"
   ]
  },
  {
   "cell_type": "code",
   "execution_count": 29,
   "id": "7733c0a2",
   "metadata": {},
   "outputs": [
    {
     "data": {
      "text/plain": [
       "array([ 9,  5, -6])"
      ]
     },
     "execution_count": 29,
     "metadata": {},
     "output_type": "execute_result"
    }
   ],
   "source": [
    "np.random.randint(-10, 10, 3)"
   ]
  },
  {
   "cell_type": "code",
   "execution_count": 30,
   "id": "5c3452a8",
   "metadata": {},
   "outputs": [
    {
     "data": {
      "text/plain": [
       "array([[0.21699839, 0.29336284, 0.04372383, 0.43795442, 0.03109436],\n",
       "       [0.06229151, 0.46606845, 0.19471214, 0.32472824, 0.04554896],\n",
       "       [0.08744244, 0.28143604, 0.4900281 , 0.16032603, 0.40657117],\n",
       "       [0.2474489 , 0.14227513, 0.46209961, 0.10882069, 0.38905002],\n",
       "       [0.45232041, 0.41651885, 0.46736732, 0.36368927, 0.27015205]])"
      ]
     },
     "execution_count": 30,
     "metadata": {},
     "output_type": "execute_result"
    }
   ],
   "source": [
    "arr/2"
   ]
  },
  {
   "cell_type": "code",
   "execution_count": 31,
   "id": "18d4980f",
   "metadata": {},
   "outputs": [
    {
     "data": {
      "text/plain": [
       "array([[1.5434139 , 1.79809126, 1.09138514, 2.40105648, 1.06416316],\n",
       "       [1.13267606, 2.53993097, 1.47613072, 1.91449999, 1.09537627],\n",
       "       [1.19110908, 1.75570781, 2.66460597, 1.37802603, 2.25498281],\n",
       "       [1.6403306 , 1.32916413, 2.51984963, 1.24314118, 2.17733149],\n",
       "       [2.47104419, 2.30029574, 2.54653762, 2.06964797, 1.71652877]])"
      ]
     },
     "execution_count": 31,
     "metadata": {},
     "output_type": "execute_result"
    }
   ],
   "source": [
    "np.exp(arr)"
   ]
  },
  {
   "cell_type": "code",
   "execution_count": 32,
   "id": "de67ea29",
   "metadata": {},
   "outputs": [
    {
     "data": {
      "text/plain": [
       "array([[0.43399678, 0.58672569, 0.08744766, 0.87590884, 0.06218873],\n",
       "       [0.12458303, 0.9321369 , 0.38942429, 0.64945649, 0.09109793],\n",
       "       [0.17488488, 0.56287209, 0.98005619, 0.32065206, 0.81314235],\n",
       "       [0.4948978 , 0.28455027, 0.92419923, 0.21764139, 0.77810004],\n",
       "       [0.90464081, 0.8330377 , 0.93473464, 0.72737853, 0.5403041 ]])"
      ]
     },
     "execution_count": 32,
     "metadata": {},
     "output_type": "execute_result"
    }
   ],
   "source": [
    "arr"
   ]
  },
  {
   "cell_type": "code",
   "execution_count": 33,
   "id": "403cca5f",
   "metadata": {},
   "outputs": [
    {
     "data": {
      "text/plain": [
       "array([[-1.20424376, -0.76924193, -3.51543646, -0.19114737, -4.00720315],\n",
       "       [-3.00482056, -0.10138623, -1.36058523, -0.62269523, -3.45643799],\n",
       "       [-2.51552256, -0.82912099, -0.02906363, -1.64091941, -0.29842016],\n",
       "       [-1.01479745, -1.81324456, -0.11372421, -2.19997515, -0.36197244],\n",
       "       [-0.14458301, -0.26354631, -0.09737124, -0.45922175, -0.88815648]])"
      ]
     },
     "execution_count": 33,
     "metadata": {},
     "output_type": "execute_result"
    }
   ],
   "source": [
    "np.log2(arr)"
   ]
  },
  {
   "cell_type": "code",
   "execution_count": 38,
   "id": "781229eb",
   "metadata": {},
   "outputs": [
    {
     "data": {
      "text/plain": [
       "array([[0.4205004 , 0.55363729, 0.08733625, 0.76812575, 0.06214865],\n",
       "       [0.124261  , 0.80289562, 0.37965587, 0.60475363, 0.09097198],\n",
       "       [0.17399477, 0.53361739, 0.83052867, 0.31518545, 0.72645024],\n",
       "       [0.47494172, 0.28072583, 0.79813857, 0.21592726, 0.70192744],\n",
       "       [0.78620324, 0.73997803, 0.80444147, 0.66491389, 0.51439679]])"
      ]
     },
     "execution_count": 38,
     "metadata": {},
     "output_type": "execute_result"
    }
   ],
   "source": [
    "np.sin(arr)"
   ]
  },
  {
   "cell_type": "code",
   "execution_count": 39,
   "id": "c8abf3ce",
   "metadata": {},
   "outputs": [
    {
     "data": {
      "text/plain": [
       "array([[0.90729235, 0.83275792, 0.99617889, 0.64029902, 0.9980669 ],\n",
       "       [0.99224957, 0.59611963, 0.92512779, 0.79641261, 0.99585345],\n",
       "       [0.98474658, 0.84572601, 0.55697588, 0.9490301 , 0.68721907],\n",
       "       [0.88001725, 0.959788  , 0.60247391, 0.97640945, 0.71224846],\n",
       "       [0.61796802, 0.67263104, 0.59403191, 0.74692002, 0.8575523 ]])"
      ]
     },
     "execution_count": 39,
     "metadata": {},
     "output_type": "execute_result"
    }
   ],
   "source": [
    "np.cos(arr)"
   ]
  },
  {
   "cell_type": "code",
   "execution_count": 40,
   "id": "aaa0b30d",
   "metadata": {},
   "outputs": [
    {
     "data": {
      "text/plain": [
       "array([[0.46346737, 0.6648238 , 0.08767125, 1.19963599, 0.06226902],\n",
       "       [0.1252316 , 1.34686995, 0.41038209, 0.75934714, 0.09135077],\n",
       "       [0.1766899 , 0.63095777, 1.49113938, 0.33211323, 1.05708685],\n",
       "       [0.53969592, 0.29248733, 1.32476869, 0.22114417, 0.98550925],\n",
       "       [1.27223937, 1.10012472, 1.35420582, 0.89020762, 0.59984306]])"
      ]
     },
     "execution_count": 40,
     "metadata": {},
     "output_type": "execute_result"
    }
   ],
   "source": [
    "np.tan(arr)"
   ]
  },
  {
   "cell_type": "code",
   "execution_count": 41,
   "id": "530a1256",
   "metadata": {},
   "outputs": [
    {
     "data": {
      "text/plain": [
       "array([[0.43399678, 0.58672569, 0.08744766, 0.87590884, 0.06218873],\n",
       "       [0.12458303, 0.9321369 , 0.38942429, 0.64945649, 0.09109793],\n",
       "       [0.17488488, 0.56287209, 0.98005619, 0.32065206, 0.81314235],\n",
       "       [0.4948978 , 0.28455027, 0.92419923, 0.21764139, 0.77810004],\n",
       "       [0.90464081, 0.8330377 , 0.93473464, 0.72737853, 0.5403041 ]])"
      ]
     },
     "execution_count": 41,
     "metadata": {},
     "output_type": "execute_result"
    }
   ],
   "source": [
    "arr"
   ]
  },
  {
   "cell_type": "code",
   "execution_count": 42,
   "id": "4c648a2d",
   "metadata": {},
   "outputs": [
    {
     "data": {
      "text/plain": [
       "array([2.04626769, 2.18669863, 2.85160757, 2.69938873, 3.94009577])"
      ]
     },
     "execution_count": 42,
     "metadata": {},
     "output_type": "execute_result"
    }
   ],
   "source": [
    "np.sum(arr, axis=1)"
   ]
  },
  {
   "cell_type": "code",
   "execution_count": 43,
   "id": "4d6150ec",
   "metadata": {},
   "outputs": [
    {
     "data": {
      "text/plain": [
       "array([0.12458303, 0.28455027, 0.08744766, 0.21764139, 0.06218873])"
      ]
     },
     "execution_count": 43,
     "metadata": {},
     "output_type": "execute_result"
    }
   ],
   "source": [
    "np.min(arr, axis=0)"
   ]
  },
  {
   "cell_type": "code",
   "execution_count": 45,
   "id": "86c2f391",
   "metadata": {},
   "outputs": [
    {
     "data": {
      "text/plain": [
       "array([0.40925354, 0.43733973, 0.57032151, 0.53987775, 0.78801915])"
      ]
     },
     "execution_count": 45,
     "metadata": {},
     "output_type": "execute_result"
    }
   ],
   "source": [
    "np.mean(arr, axis=1)"
   ]
  },
  {
   "cell_type": "code",
   "execution_count": 46,
   "id": "5740af30",
   "metadata": {},
   "outputs": [
    {
     "data": {
      "text/plain": [
       "0.3069416883814233"
      ]
     },
     "execution_count": 46,
     "metadata": {},
     "output_type": "execute_result"
    }
   ],
   "source": [
    "np.std(arr)"
   ]
  },
  {
   "cell_type": "code",
   "execution_count": 47,
   "id": "43272999",
   "metadata": {},
   "outputs": [
    {
     "data": {
      "text/plain": [
       "0.0942132000664388"
      ]
     },
     "execution_count": 47,
     "metadata": {},
     "output_type": "execute_result"
    }
   ],
   "source": [
    "np.var(arr)"
   ]
  },
  {
   "cell_type": "code",
   "execution_count": 48,
   "id": "9d1c65a8",
   "metadata": {},
   "outputs": [
    {
     "data": {
      "text/plain": [
       "array([[0.38942429, 0.64945649],\n",
       "       [0.98005619, 0.32065206],\n",
       "       [0.92419923, 0.21764139],\n",
       "       [0.93473464, 0.72737853]])"
      ]
     },
     "execution_count": 48,
     "metadata": {},
     "output_type": "execute_result"
    }
   ],
   "source": [
    "arr[1:,2:4]"
   ]
  },
  {
   "cell_type": "code",
   "execution_count": 49,
   "id": "4af5eefa",
   "metadata": {},
   "outputs": [
    {
     "data": {
      "text/plain": [
       "array([[0.06218873, 0.08744766, 0.43399678, 0.58672569, 0.87590884],\n",
       "       [0.09109793, 0.12458303, 0.38942429, 0.64945649, 0.9321369 ],\n",
       "       [0.17488488, 0.32065206, 0.56287209, 0.81314235, 0.98005619],\n",
       "       [0.21764139, 0.28455027, 0.4948978 , 0.77810004, 0.92419923],\n",
       "       [0.5403041 , 0.72737853, 0.8330377 , 0.90464081, 0.93473464]])"
      ]
     },
     "execution_count": 49,
     "metadata": {},
     "output_type": "execute_result"
    }
   ],
   "source": [
    "np.sort(arr)"
   ]
  },
  {
   "cell_type": "code",
   "execution_count": 50,
   "id": "6e780b87",
   "metadata": {},
   "outputs": [
    {
     "data": {
      "text/plain": [
       "array([4, 5, 6, 7, 8])"
      ]
     },
     "execution_count": 50,
     "metadata": {},
     "output_type": "execute_result"
    }
   ],
   "source": [
    "arr = np.array([4,5,6,7,8])\n",
    "arr"
   ]
  },
  {
   "cell_type": "code",
   "execution_count": 51,
   "id": "86d1be94",
   "metadata": {},
   "outputs": [
    {
     "data": {
      "text/plain": [
       "array([4, 5, 6, 7, 8, 8])"
      ]
     },
     "execution_count": 51,
     "metadata": {},
     "output_type": "execute_result"
    }
   ],
   "source": [
    "arr1 = np.append(arr,8)\n",
    "arr1"
   ]
  },
  {
   "cell_type": "code",
   "execution_count": 52,
   "id": "a0ed4f30",
   "metadata": {},
   "outputs": [
    {
     "data": {
      "text/plain": [
       "array([1, 2, 3, 4, 5, 6, 7, 8])"
      ]
     },
     "execution_count": 52,
     "metadata": {},
     "output_type": "execute_result"
    }
   ],
   "source": [
    "arr2 = np.insert(arr, 0, [1,2,3])\n",
    "arr2"
   ]
  },
  {
   "cell_type": "code",
   "execution_count": 53,
   "id": "4ac5c80c",
   "metadata": {},
   "outputs": [
    {
     "data": {
      "text/plain": [
       "array([1, 3, 5, 6, 7, 8])"
      ]
     },
     "execution_count": 53,
     "metadata": {},
     "output_type": "execute_result"
    }
   ],
   "source": [
    "arr3 = np.delete(arr2, [1,3])\n",
    "arr3"
   ]
  },
  {
   "cell_type": "code",
   "execution_count": 54,
   "id": "58e4277a",
   "metadata": {},
   "outputs": [
    {
     "data": {
      "text/plain": [
       "array([1, 3, 5, 6, 7, 8])"
      ]
     },
     "execution_count": 54,
     "metadata": {},
     "output_type": "execute_result"
    }
   ],
   "source": [
    "arrC = arr3.copy()\n",
    "arrC"
   ]
  },
  {
   "cell_type": "code",
   "execution_count": 55,
   "id": "73b3f7bf",
   "metadata": {},
   "outputs": [
    {
     "name": "stdout",
     "output_type": "stream",
     "text": [
      "[4 5 6 7 8 8 1 2 3 4 5 6 7 8]\n"
     ]
    }
   ],
   "source": [
    "arr_cat = np.concatenate((arr1,arr2))\n",
    "print(arr_cat)"
   ]
  },
  {
   "cell_type": "code",
   "execution_count": 56,
   "id": "0d8a21eb",
   "metadata": {},
   "outputs": [
    {
     "data": {
      "text/plain": [
       "array([4, 5, 6, 7, 8, 8, 1, 2, 3, 4, 5, 6, 7, 8])"
      ]
     },
     "execution_count": 56,
     "metadata": {},
     "output_type": "execute_result"
    }
   ],
   "source": [
    "cat = np.hstack((arr1,arr2))\n",
    "cat"
   ]
  },
  {
   "cell_type": "code",
   "execution_count": 57,
   "id": "6e1fafad",
   "metadata": {},
   "outputs": [
    {
     "data": {
      "text/plain": [
       "array([1, 2, 3, 4, 5, 6])"
      ]
     },
     "execution_count": 57,
     "metadata": {},
     "output_type": "execute_result"
    }
   ],
   "source": [
    "arr = np.array([1,2,3,4,5,6,3,4,2,1])\n",
    "np.unique(arr)"
   ]
  },
  {
   "cell_type": "code",
   "execution_count": 58,
   "id": "9a3bb08d",
   "metadata": {},
   "outputs": [
    {
     "name": "stdout",
     "output_type": "stream",
     "text": [
      "[1 2 3 4 5 6]\n",
      "[2 2 2 2 1 1]\n"
     ]
    }
   ],
   "source": [
    "uniques, counts = np.unique(arr, return_counts=True)\n",
    "print(uniques)\n",
    "print(counts)"
   ]
  },
  {
   "cell_type": "code",
   "execution_count": 61,
   "id": "8337dcfe",
   "metadata": {},
   "outputs": [
    {
     "name": "stdout",
     "output_type": "stream",
     "text": [
      "[3 4 5]\n",
      "[1 2 3 4 5 6 7]\n"
     ]
    }
   ],
   "source": [
    "#intersection, differentiation, neither\n",
    "arr1 = np.array([1,2,3,4,5])\n",
    "arr2 = np.array([3,4,5,6,7])\n",
    "print(np.intersect1d(arr1, arr2))\n",
    "print(np.union1d(arr1, arr2))"
   ]
  },
  {
   "cell_type": "code",
   "execution_count": null,
   "id": "154c8445",
   "metadata": {},
   "outputs": [],
   "source": []
  }
 ],
 "metadata": {
  "kernelspec": {
   "display_name": "Python 3 (ipykernel)",
   "language": "python",
   "name": "python3"
  },
  "language_info": {
   "codemirror_mode": {
    "name": "ipython",
    "version": 3
   },
   "file_extension": ".py",
   "mimetype": "text/x-python",
   "name": "python",
   "nbconvert_exporter": "python",
   "pygments_lexer": "ipython3",
   "version": "3.11.5"
  }
 },
 "nbformat": 4,
 "nbformat_minor": 5
}
